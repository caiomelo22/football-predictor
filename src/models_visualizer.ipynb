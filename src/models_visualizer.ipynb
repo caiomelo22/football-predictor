{
 "cells": [
  {
   "cell_type": "code",
   "execution_count": null,
   "id": "782dc61f",
   "metadata": {},
   "outputs": [],
   "source": [
    "import os\n",
    "from helpers.predictor import load_model_data\n",
    "\n",
    "betting_dir = \"../dist/betting\"\n",
    "joblib_files = [f for f in os.listdir(betting_dir) if f.endswith(\".joblib\")]\n",
    "\n",
    "if not joblib_files:\n",
    "    print(\"No joblib files found in the betting directory.\")\n",
    "    exit()\n",
    "\n",
    "for joblib_file in joblib_files:\n",
    "    league = joblib_file.replace(\".joblib\", \"\")\n",
    "    print(f\"\\n=== {league.upper()} ===\\n\")\n",
    "    model_data = load_model_data(league)\n",
    "    \n",
    "    # Display all relevant info\n",
    "    print(\"Best Model Name:\", model_data.get(\"best_model_name\"))\n",
    "    print(\"Filtered Columns (Features):\", model_data.get(\"filtered_cols\"))\n",
    "    print(\"Min Odds:\", model_data.get(\"min_odds\"))\n",
    "    print(\"Min Games Played:\", model_data.get(\"min_games_played\"))\n",
    "    print(\"Min Games Played At:\", model_data.get(\"min_games_played_at\"))\n",
    "    print(\"Strategy:\", model_data.get(\"strategy\"))\n",
    "    print(\"Default Bankroll %:\", model_data.get(\"default_bankroll_pct\"))\n",
    "    print(\"Default Value:\", model_data.get(\"default_value\"))\n",
    "    print(\"Pipeline:\", model_data.get(\"pipeline\"))"
   ]
  },
  {
   "cell_type": "code",
   "execution_count": null,
   "id": "d83d0afb",
   "metadata": {},
   "outputs": [],
   "source": []
  }
 ],
 "metadata": {
  "kernelspec": {
   "display_name": "Python 3",
   "language": "python",
   "name": "python3"
  },
  "language_info": {
   "codemirror_mode": {
    "name": "ipython",
    "version": 3
   },
   "file_extension": ".py",
   "mimetype": "text/x-python",
   "name": "python",
   "nbconvert_exporter": "python",
   "pygments_lexer": "ipython3",
   "version": "3.10.11"
  }
 },
 "nbformat": 4,
 "nbformat_minor": 5
}
