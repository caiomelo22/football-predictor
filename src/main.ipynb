{
 "cells": [
  {
   "cell_type": "code",
   "execution_count": null,
   "id": "3f62b72a",
   "metadata": {},
   "outputs": [],
   "source": [
    "import pandas as pd\n",
    "from helpers import classification as pf\n",
    "import os\n",
    "\n",
    "from helpers.file import load_from_file"
   ]
  },
  {
   "cell_type": "code",
   "execution_count": null,
   "id": "adc6702a",
   "metadata": {},
   "outputs": [],
   "source": [
    "league = \"major-league-soccer\"\n",
    "league_fbref = \"Serie-A\"\n",
    "league_id_fbref = 24\n",
    "league_betexplorer = \"serie-a\"\n",
    "country_betexplorer = \"brazil\"\n",
    "seasons = \"2019-2024\"\n",
    "season_test = 2023\n",
    "n_last_games = 5\n",
    "bankroll = 760.85"
   ]
  },
  {
   "cell_type": "code",
   "execution_count": null,
   "id": "63624a9f",
   "metadata": {},
   "outputs": [],
   "source": [
    "path = f\"leagues/{league}/official\"\n",
    "options_info = load_from_file(path, 'columns')\n",
    "\n",
    "pipeline = pf.load_saved_utils(league)"
   ]
  },
  {
   "cell_type": "code",
   "execution_count": null,
   "id": "6171346c",
   "metadata": {},
   "outputs": [],
   "source": [
    "# Getting odds for next games\n",
    "print(\"Scrapping BetExplorer...\")\n",
    "sf.scrape_betexplorer(\n",
    "    next_games, league_info[\"league_betexplorer\"], league_info[\"country_betexplorer\"]\n",
    ")"
   ]
  },
  {
   "cell_type": "code",
   "execution_count": null,
   "id": "d01c8bed",
   "metadata": {},
   "outputs": [],
   "source": [
    "data_model = []\n",
    "for _, game in next_games.iterrows():\n",
    "    home_stats_dict = bf.get_team_previous_games_stats(\n",
    "        game[\"home_team\"], game[\"season\"], game[\"date\"], \"H\", n_last_games, season_games\n",
    "    )\n",
    "    if not home_stats_dict:\n",
    "        continue\n",
    "\n",
    "    away_stats_dict = bf.get_team_previous_games_stats(\n",
    "        game[\"away_team\"], game[\"season\"], game[\"date\"], \"A\", n_last_games, season_games\n",
    "    )\n",
    "    if not away_stats_dict:\n",
    "        continue\n",
    "\n",
    "    game_info_keys = [\n",
    "        \"date\",\n",
    "        \"season\",\n",
    "        \"home_team\",\n",
    "        \"away_team\",\n",
    "        \"home_odds\",\n",
    "        \"away_odds\",\n",
    "        \"draw_odds\",\n",
    "        \"winner\",\n",
    "        \"home_score\",\n",
    "        \"away_score\",\n",
    "    ]\n",
    "    game_info_dict = {key: game.get(key) for key in game_info_keys}\n",
    "\n",
    "    data_model.append({**home_stats_dict, **away_stats_dict, **game_info_dict})\n",
    "\n",
    "data_df = pd.DataFrame(data_model)"
   ]
  },
  {
   "cell_type": "code",
   "execution_count": null,
   "id": "4a3a8641",
   "metadata": {},
   "outputs": [],
   "source": [
    "path = f\"dist\"\n",
    "if not os.path.exists(path):\n",
    "    os.makedirs(path)\n",
    "season_games.to_csv(f\"{path}/season_games.csv\")\n",
    "data_df.to_csv(f\"{path}/data_df.csv\")\n",
    "next_games.to_csv(f\"{path}/next_games.csv\")"
   ]
  },
  {
   "cell_type": "code",
   "execution_count": null,
   "id": "a311a7db",
   "metadata": {},
   "outputs": [],
   "source": [
    "X, _, odds = pf.separate_dataset_info(data_df)\n",
    "\n",
    "predictions = pipeline.predict(X)\n",
    "probabilities = pipeline.predict_proba(X)\n",
    "\n",
    "probs_test_df = pd.DataFrame(\n",
    "    probabilities,\n",
    "    index=data_df.index,\n",
    "    columns=[\"away_probs\", \"draw_probs\", \"home_probs\"],\n",
    ")\n",
    "preds_test_df = pd.DataFrame(predictions, index=data_df.index, columns=[\"pred\"])\n",
    "test_results_df = pd.concat([preds_test_df, probs_test_df, next_games], axis=1)\n",
    "\n",
    "test_results_df.dropna(subset=[\"home_odds\"], inplace=True)\n",
    "test_results_df = test_results_df[test_results_df[\"home_odds\"] != \" \"]\n",
    "\n",
    "test_results_df = test_results_df.astype(\n",
    "    {\"home_odds\": float, \"draw_odds\": float, \"away_odds\": float}\n",
    ")"
   ]
  },
  {
   "cell_type": "code",
   "execution_count": null,
   "id": "f991d394",
   "metadata": {},
   "outputs": [],
   "source": [
    "today_bets = 0\n",
    "for _, game in test_results_df.iterrows():\n",
    "    bet_value = pf.get_bet_value_by_row(game, bankroll, options_info[\"strategy\"])\n",
    "    odds, probs = pf.get_bet_odds_probs(game)\n",
    "    bet_worth_it = pf.bet_worth_it(bet_value, odds)\n",
    "    if bet_value < 0:\n",
    "        continue\n",
    "    today_bets += 1\n",
    "\n",
    "    print(f\"\\n{game['home_team']} ({game['home_odds']})\")\n",
    "    print(f\"X ({game['draw_odds']})\")\n",
    "    print(f\"{game['away_team']} ({game['away_odds']})\")\n",
    "    print(f\"Prediction: {game['pred']} ({odds})\")\n",
    "    print(f\"Bet Value: ${round(bet_value, 2)}\")\n",
    "    print(f\"{'GOOD' if bet_worth_it else 'BAD'} BET\")\n",
    "\n",
    "if not today_bets:\n",
    "    print(\"\\nSorry, there are no bets for today.\")"
   ]
  }
 ],
 "metadata": {
  "kernelspec": {
   "display_name": "Python 3 (ipykernel)",
   "language": "python",
   "name": "python3"
  },
  "language_info": {
   "codemirror_mode": {
    "name": "ipython",
    "version": 3
   },
   "file_extension": ".py",
   "mimetype": "text/x-python",
   "name": "python",
   "nbconvert_exporter": "python",
   "pygments_lexer": "ipython3",
   "version": "3.9.12"
  }
 },
 "nbformat": 4,
 "nbformat_minor": 5
}
