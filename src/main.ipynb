{
 "cells": [
  {
   "cell_type": "code",
   "execution_count": 1,
   "id": "3f62b72a",
   "metadata": {},
   "outputs": [
    {
     "name": "stdout",
     "output_type": "stream",
     "text": [
      "Setup Complete\n"
     ]
    }
   ],
   "source": [
    "import pandas as pd\n",
    "from helpers import classification as pf\n",
    "from services import BetExplorerService\n",
    "import os\n",
    "\n",
    "from helpers.file import load_from_file\n",
    "from helpers.options import filtered_cols, selected_stats, strategy"
   ]
  },
  {
   "cell_type": "code",
   "execution_count": 2,
   "id": "adc6702a",
   "metadata": {},
   "outputs": [],
   "source": [
    "season = 2023\n",
    "league = \"bundesliga\"\n",
    "country = \"germany\"\n",
    "\n",
    "n_last_games = 5\n",
    "\n",
    "bankroll = 100"
   ]
  },
  {
   "cell_type": "code",
   "execution_count": 3,
   "id": "63624a9f",
   "metadata": {},
   "outputs": [],
   "source": [
    "path = f\"../dist/leagues/{league}/official\"\n",
    "\n",
    "pipeline = pf.load_saved_utils(path)"
   ]
  },
  {
   "cell_type": "code",
   "execution_count": 4,
   "id": "6171346c",
   "metadata": {},
   "outputs": [
    {
     "name": "stdout",
     "output_type": "stream",
     "text": [
      "[{'home_team': 'Augsburg', 'away_team': 'Union Berlin', 'home_odds': 2.08, 'draw_odds': 3.56, 'away_odds': 3.52}, {'home_team': 'Bayern Munich', 'away_team': 'FC Koln', 'home_odds': 1.2, 'draw_odds': 7.71, 'away_odds': 12.2}, {'home_team': 'B. Monchengladbach', 'away_team': 'Dortmund', 'home_odds': 3.27, 'draw_odds': 4.1, 'away_odds': 2.0}, {'home_team': 'Bochum', 'away_team': 'Heidenheim', 'home_odds': 2.1, 'draw_odds': 3.69, 'away_odds': 3.34}, {'home_team': 'Mainz', 'away_team': 'Hoffenheim', 'home_odds': 1.98, 'draw_odds': 3.94, 'away_odds': 3.49}, {'home_team': 'RB Leipzig', 'away_team': 'Wolfsburg', 'home_odds': 1.38, 'draw_odds': 5.22, 'away_odds': 7.36}, {'home_team': 'Stuttgart', 'away_team': 'Eintracht Frankfurt', 'home_odds': 1.54, 'draw_odds': 4.51, 'away_odds': 5.69}, {'home_team': 'Darmstadt', 'away_team': 'Freiburg', 'home_odds': 4.05, 'draw_odds': 3.87, 'away_odds': 1.83}, {'home_team': 'Bayer Leverkusen', 'away_team': 'Werder Bremen', 'home_odds': 1.2, 'draw_odds': 7.24, 'away_odds': 13.81}]\n"
     ]
    }
   ],
   "source": [
    "# Getting odds for next games\n",
    "\n",
    "bet_explorer = BetExplorerService(country, league)\n",
    "\n",
    "next_games = bet_explorer.get_next_games()\n",
    "\n",
    "print(next_games)"
   ]
  },
  {
   "cell_type": "code",
   "execution_count": null,
   "id": "d01c8bed",
   "metadata": {},
   "outputs": [],
   "source": [
    "data_model = []\n",
    "for _, game in next_games.iterrows():\n",
    "    home_stats_dict = bf.get_team_previous_games_stats(\n",
    "        game[\"home_team\"], game[\"season\"], game[\"date\"], \"H\", n_last_games, season_games\n",
    "    )\n",
    "    if not home_stats_dict:\n",
    "        continue\n",
    "\n",
    "    away_stats_dict = bf.get_team_previous_games_stats(\n",
    "        game[\"away_team\"], game[\"season\"], game[\"date\"], \"A\", n_last_games, season_games\n",
    "    )\n",
    "    if not away_stats_dict:\n",
    "        continue\n",
    "\n",
    "    game_info_keys = [\n",
    "        \"date\",\n",
    "        \"season\",\n",
    "        \"home_team\",\n",
    "        \"away_team\",\n",
    "        \"home_odds\",\n",
    "        \"away_odds\",\n",
    "        \"draw_odds\",\n",
    "        \"winner\",\n",
    "        \"home_score\",\n",
    "        \"away_score\",\n",
    "    ]\n",
    "    game_info_dict = {key: game.get(key) for key in game_info_keys}\n",
    "\n",
    "    data_model.append({**home_stats_dict, **away_stats_dict, **game_info_dict})\n",
    "\n",
    "data_df = pd.DataFrame(data_model)"
   ]
  },
  {
   "cell_type": "code",
   "execution_count": null,
   "id": "4a3a8641",
   "metadata": {},
   "outputs": [],
   "source": [
    "path = f\"dist\"\n",
    "if not os.path.exists(path):\n",
    "    os.makedirs(path)\n",
    "season_games.to_csv(f\"{path}/season_games.csv\")\n",
    "data_df.to_csv(f\"{path}/data_df.csv\")\n",
    "next_games.to_csv(f\"{path}/next_games.csv\")"
   ]
  },
  {
   "cell_type": "code",
   "execution_count": null,
   "id": "a311a7db",
   "metadata": {},
   "outputs": [],
   "source": [
    "X, _, odds = pf.separate_dataset_info(data_df)\n",
    "\n",
    "predictions = pipeline.predict(X)\n",
    "probabilities = pipeline.predict_proba(X)\n",
    "\n",
    "probs_test_df = pd.DataFrame(\n",
    "    probabilities,\n",
    "    index=data_df.index,\n",
    "    columns=[\"away_probs\", \"draw_probs\", \"home_probs\"],\n",
    ")\n",
    "preds_test_df = pd.DataFrame(predictions, index=data_df.index, columns=[\"pred\"])\n",
    "test_results_df = pd.concat([preds_test_df, probs_test_df, next_games], axis=1)\n",
    "\n",
    "test_results_df.dropna(subset=[\"home_odds\"], inplace=True)\n",
    "test_results_df = test_results_df[test_results_df[\"home_odds\"] != \" \"]\n",
    "\n",
    "test_results_df = test_results_df.astype(\n",
    "    {\"home_odds\": float, \"draw_odds\": float, \"away_odds\": float}\n",
    ")"
   ]
  },
  {
   "cell_type": "code",
   "execution_count": null,
   "id": "f991d394",
   "metadata": {},
   "outputs": [],
   "source": [
    "today_bets = 0\n",
    "for _, game in test_results_df.iterrows():\n",
    "    bet_value = pf.get_bet_value_by_row(game, bankroll, options_info[\"strategy\"])\n",
    "    odds, probs = pf.get_bet_odds_probs(game)\n",
    "    bet_worth_it = pf.bet_worth_it(bet_value, odds)\n",
    "    if bet_value < 0:\n",
    "        continue\n",
    "    today_bets += 1\n",
    "\n",
    "    print(f\"\\n{game['home_team']} ({game['home_odds']})\")\n",
    "    print(f\"X ({game['draw_odds']})\")\n",
    "    print(f\"{game['away_team']} ({game['away_odds']})\")\n",
    "    print(f\"Prediction: {game['pred']} ({odds})\")\n",
    "    print(f\"Bet Value: ${round(bet_value, 2)}\")\n",
    "    print(f\"{'GOOD' if bet_worth_it else 'BAD'} BET\")\n",
    "\n",
    "if not today_bets:\n",
    "    print(\"\\nSorry, there are no bets for today.\")"
   ]
  }
 ],
 "metadata": {
  "kernelspec": {
   "display_name": "Python 3 (ipykernel)",
   "language": "python",
   "name": "python3"
  },
  "language_info": {
   "codemirror_mode": {
    "name": "ipython",
    "version": 3
   },
   "file_extension": ".py",
   "mimetype": "text/x-python",
   "name": "python",
   "nbconvert_exporter": "python",
   "pygments_lexer": "ipython3",
   "version": "3.9.12"
  }
 },
 "nbformat": 4,
 "nbformat_minor": 5
}
