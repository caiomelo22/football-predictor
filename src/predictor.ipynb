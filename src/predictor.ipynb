{
 "cells": [
  {
   "cell_type": "code",
   "execution_count": 15,
   "id": "3f62b72a",
   "metadata": {},
   "outputs": [],
   "source": [
    "import pandas as pd\n",
    "from helpers import predictor as pf"
   ]
  },
  {
   "cell_type": "code",
   "execution_count": 18,
   "id": "adc6702a",
   "metadata": {},
   "outputs": [],
   "source": [
    "bankroll = 900\n",
    "season = 2024\n",
    "\n",
    "leagues = [\n",
    "    # {\n",
    "    #     \"league\": \"laliga\",\n",
    "    #     \"country\": \"spain\",\n",
    "    # },\n",
    "    # {\n",
    "    #     \"league\": \"j1-league\",\n",
    "    #     \"country\": \"japan\",\n",
    "    # },\n",
    "    # {\n",
    "    #     \"league\": \"bundesliga\",\n",
    "    #     \"country\": \"germany\",\n",
    "    # },\n",
    "    {\n",
    "        \"league\": \"serie-a-betano\",\n",
    "        \"country\": \"brazil\",\n",
    "    },\n",
    "    # {\n",
    "    #     \"league\": \"mls\",\n",
    "    #     \"country\": \"usa\",\n",
    "    # },\n",
    "]"
   ]
  },
  {
   "cell_type": "code",
   "execution_count": null,
   "id": "63624a9f",
   "metadata": {},
   "outputs": [
    {
     "name": "stdout",
     "output_type": "stream",
     "text": [
      "\n",
      "SERIE-A-BETANO\n",
      "\n",
      "Features: ['home_points_pct', 'home_win_pct', 'home_draw_pct', 'home_loss_pct', 'home_points_pct_last_games', 'home_home_win_pct', 'home_home_draw_pct', 'home_home_loss_pct', 'home_team_xg', 'home_opp_xg', 'home_team_score', 'home_opp_score', 'home_home_team_xg', 'home_home_opp_xg', 'home_home_team_score', 'home_home_opp_score', 'away_points_pct', 'away_win_pct', 'away_draw_pct', 'away_loss_pct', 'away_points_pct_last_games', 'away_away_win_pct', 'away_away_draw_pct', 'away_away_loss_pct', 'away_team_xg', 'away_opp_xg', 'away_team_score', 'away_opp_score', 'away_away_opp_xg', 'away_away_team_xg', 'away_away_opp_score', 'away_away_team_score', 'home_odds', 'away_odds', 'draw_odds', 'home_elo', 'away_elo']\n",
      "Min odds: 2.0\n"
     ]
    },
    {
     "data": {
      "text/html": [
       "<style>#sk-container-id-18 {color: black;background-color: white;}#sk-container-id-18 pre{padding: 0;}#sk-container-id-18 div.sk-toggleable {background-color: white;}#sk-container-id-18 label.sk-toggleable__label {cursor: pointer;display: block;width: 100%;margin-bottom: 0;padding: 0.3em;box-sizing: border-box;text-align: center;}#sk-container-id-18 label.sk-toggleable__label-arrow:before {content: \"▸\";float: left;margin-right: 0.25em;color: #696969;}#sk-container-id-18 label.sk-toggleable__label-arrow:hover:before {color: black;}#sk-container-id-18 div.sk-estimator:hover label.sk-toggleable__label-arrow:before {color: black;}#sk-container-id-18 div.sk-toggleable__content {max-height: 0;max-width: 0;overflow: hidden;text-align: left;background-color: #f0f8ff;}#sk-container-id-18 div.sk-toggleable__content pre {margin: 0.2em;color: black;border-radius: 0.25em;background-color: #f0f8ff;}#sk-container-id-18 input.sk-toggleable__control:checked~div.sk-toggleable__content {max-height: 200px;max-width: 100%;overflow: auto;}#sk-container-id-18 input.sk-toggleable__control:checked~label.sk-toggleable__label-arrow:before {content: \"▾\";}#sk-container-id-18 div.sk-estimator input.sk-toggleable__control:checked~label.sk-toggleable__label {background-color: #d4ebff;}#sk-container-id-18 div.sk-label input.sk-toggleable__control:checked~label.sk-toggleable__label {background-color: #d4ebff;}#sk-container-id-18 input.sk-hidden--visually {border: 0;clip: rect(1px 1px 1px 1px);clip: rect(1px, 1px, 1px, 1px);height: 1px;margin: -1px;overflow: hidden;padding: 0;position: absolute;width: 1px;}#sk-container-id-18 div.sk-estimator {font-family: monospace;background-color: #f0f8ff;border: 1px dotted black;border-radius: 0.25em;box-sizing: border-box;margin-bottom: 0.5em;}#sk-container-id-18 div.sk-estimator:hover {background-color: #d4ebff;}#sk-container-id-18 div.sk-parallel-item::after {content: \"\";width: 100%;border-bottom: 1px solid gray;flex-grow: 1;}#sk-container-id-18 div.sk-label:hover label.sk-toggleable__label {background-color: #d4ebff;}#sk-container-id-18 div.sk-serial::before {content: \"\";position: absolute;border-left: 1px solid gray;box-sizing: border-box;top: 0;bottom: 0;left: 50%;z-index: 0;}#sk-container-id-18 div.sk-serial {display: flex;flex-direction: column;align-items: center;background-color: white;padding-right: 0.2em;padding-left: 0.2em;position: relative;}#sk-container-id-18 div.sk-item {position: relative;z-index: 1;}#sk-container-id-18 div.sk-parallel {display: flex;align-items: stretch;justify-content: center;background-color: white;position: relative;}#sk-container-id-18 div.sk-item::before, #sk-container-id-18 div.sk-parallel-item::before {content: \"\";position: absolute;border-left: 1px solid gray;box-sizing: border-box;top: 0;bottom: 0;left: 50%;z-index: -1;}#sk-container-id-18 div.sk-parallel-item {display: flex;flex-direction: column;z-index: 1;position: relative;background-color: white;}#sk-container-id-18 div.sk-parallel-item:first-child::after {align-self: flex-end;width: 50%;}#sk-container-id-18 div.sk-parallel-item:last-child::after {align-self: flex-start;width: 50%;}#sk-container-id-18 div.sk-parallel-item:only-child::after {width: 0;}#sk-container-id-18 div.sk-dashed-wrapped {border: 1px dashed gray;margin: 0 0.4em 0.5em 0.4em;box-sizing: border-box;padding-bottom: 0.4em;background-color: white;}#sk-container-id-18 div.sk-label label {font-family: monospace;font-weight: bold;display: inline-block;line-height: 1.2em;}#sk-container-id-18 div.sk-label-container {text-align: center;}#sk-container-id-18 div.sk-container {/* jupyter's `normalize.less` sets `[hidden] { display: none; }` but bootstrap.min.css set `[hidden] { display: none !important; }` so we also need the `!important` here to be able to override the default hidden behavior on the sphinx rendered scikit-learn.org. See: https://github.com/scikit-learn/scikit-learn/issues/21755 */display: inline-block !important;position: relative;}#sk-container-id-18 div.sk-text-repr-fallback {display: none;}</style><div id=\"sk-container-id-18\" class=\"sk-top-container\"><div class=\"sk-text-repr-fallback\"><pre>Pipeline(steps=[(&#x27;model&#x27;, LogisticRegression(random_state=0))])</pre><b>In a Jupyter environment, please rerun this cell to show the HTML representation or trust the notebook. <br />On GitHub, the HTML representation is unable to render, please try loading this page with nbviewer.org.</b></div><div class=\"sk-container\" hidden><div class=\"sk-item sk-dashed-wrapped\"><div class=\"sk-label-container\"><div class=\"sk-label sk-toggleable\"><input class=\"sk-toggleable__control sk-hidden--visually\" id=\"sk-estimator-id-80\" type=\"checkbox\" ><label for=\"sk-estimator-id-80\" class=\"sk-toggleable__label sk-toggleable__label-arrow\">Pipeline</label><div class=\"sk-toggleable__content\"><pre>Pipeline(steps=[(&#x27;model&#x27;, LogisticRegression(random_state=0))])</pre></div></div></div><div class=\"sk-serial\"><div class=\"sk-item\"><div class=\"sk-estimator sk-toggleable\"><input class=\"sk-toggleable__control sk-hidden--visually\" id=\"sk-estimator-id-81\" type=\"checkbox\" ><label for=\"sk-estimator-id-81\" class=\"sk-toggleable__label sk-toggleable__label-arrow\">LogisticRegression</label><div class=\"sk-toggleable__content\"><pre>LogisticRegression(random_state=0)</pre></div></div></div></div></div></div></div>"
      ],
      "text/plain": [
       "Pipeline(steps=[('model', LogisticRegression(random_state=0))])"
      ]
     },
     "metadata": {},
     "output_type": "display_data"
    },
    {
     "name": "stdout",
     "output_type": "stream",
     "text": [
      "Generating teams ELOs...\n"
     ]
    },
    {
     "name": "stderr",
     "output_type": "stream",
     "text": [
      "0it [00:00, ?it/s]"
     ]
    },
    {
     "name": "stdout",
     "output_type": "stream",
     "text": [
      "Successfully generated teams ELOs.\n"
     ]
    },
    {
     "name": "stderr",
     "output_type": "stream",
     "text": [
      "\n"
     ]
    },
    {
     "name": "stdout",
     "output_type": "stream",
     "text": [
      "Exception when fetching a game: too many values to unpack (expected 9)\n",
      "Exception when fetching a game: 'NoneType' object is not subscriptable\n",
      "Exception when fetching a game: 'NoneType' object is not subscriptable\n",
      "Exception when fetching a game: 'NoneType' object is not subscriptable\n",
      "Exception when fetching a game: 'NoneType' object is not subscriptable\n",
      "Exception when fetching a game: 'NoneType' object is not subscriptable\n",
      "Exception when fetching a game: 'NoneType' object is not subscriptable\n",
      "Exception when fetching a game: 'NoneType' object is not subscriptable\n",
      "Exception when fetching a game: 'NoneType' object is not subscriptable\n",
      "Exception when fetching a game: 'NoneType' object is not subscriptable\n",
      "Exception when fetching a game: 'NoneType' object is not subscriptable\n"
     ]
    },
    {
     "ename": "IndexError",
     "evalue": "single positional indexer is out-of-bounds",
     "output_type": "error",
     "traceback": [
      "\u001b[1;31m---------------------------------------------------------------------------\u001b[0m",
      "\u001b[1;31mIndexError\u001b[0m                                Traceback (most recent call last)",
      "Cell \u001b[1;32mIn[19], line 31\u001b[0m\n\u001b[0;32m     29\u001b[0m data_model \u001b[38;5;241m=\u001b[39m []\n\u001b[0;32m     30\u001b[0m \u001b[38;5;28;01mfor\u001b[39;00m game \u001b[38;5;129;01min\u001b[39;00m next_games:\n\u001b[1;32m---> 31\u001b[0m     stats \u001b[38;5;241m=\u001b[39m \u001b[43mpf\u001b[49m\u001b[38;5;241;43m.\u001b[39;49m\u001b[43mget_next_games_stats\u001b[49m\u001b[43m(\u001b[49m\u001b[43mgame\u001b[49m\u001b[43m,\u001b[49m\u001b[43m \u001b[49m\u001b[43mseason\u001b[49m\u001b[43m,\u001b[49m\u001b[43m \u001b[49m\u001b[43mmin_games_played\u001b[49m\u001b[43m,\u001b[49m\u001b[43m \u001b[49m\u001b[43mmin_games_played_at\u001b[49m\u001b[43m,\u001b[49m\u001b[43m \u001b[49m\u001b[43mseason_games\u001b[49m\u001b[43m,\u001b[49m\u001b[43m \u001b[49m\u001b[43mteams_elo\u001b[49m\u001b[43m,\u001b[49m\u001b[43m \u001b[49m\u001b[43mteams\u001b[49m\u001b[43m)\u001b[49m\n\u001b[0;32m     33\u001b[0m     \u001b[38;5;28;01mif\u001b[39;00m stats:\n\u001b[0;32m     34\u001b[0m         data_model\u001b[38;5;241m.\u001b[39mappend(stats)\n",
      "File \u001b[1;32mc:\\Users\\caiog\\Projects\\Personal\\football-predictor\\src\\helpers\\predictor.py:65\u001b[0m, in \u001b[0;36mget_next_games_stats\u001b[1;34m(game, season, min_games_played, min_games_played_at, season_games, teams_elo, teams)\u001b[0m\n\u001b[0;32m     64\u001b[0m \u001b[38;5;28;01mdef\u001b[39;00m \u001b[38;5;21mget_next_games_stats\u001b[39m(game, season, min_games_played, min_games_played_at, season_games, teams_elo, teams):\n\u001b[1;32m---> 65\u001b[0m     home_team_compatible \u001b[38;5;241m=\u001b[39m \u001b[43mget_most_compatible_team\u001b[49m\u001b[43m(\u001b[49m\u001b[43mgame\u001b[49m\u001b[43m[\u001b[49m\u001b[38;5;124;43m\"\u001b[39;49m\u001b[38;5;124;43mhome_team\u001b[39;49m\u001b[38;5;124;43m\"\u001b[39;49m\u001b[43m]\u001b[49m\u001b[43m,\u001b[49m\u001b[43m \u001b[49m\u001b[43mteams\u001b[49m\u001b[43m)\u001b[49m\n\u001b[0;32m     66\u001b[0m     game[\u001b[38;5;124m\"\u001b[39m\u001b[38;5;124mhome_team_translated\u001b[39m\u001b[38;5;124m\"\u001b[39m] \u001b[38;5;241m=\u001b[39m home_team_compatible\n\u001b[0;32m     68\u001b[0m     away_team_compatible \u001b[38;5;241m=\u001b[39m get_most_compatible_team(game[\u001b[38;5;124m\"\u001b[39m\u001b[38;5;124maway_team\u001b[39m\u001b[38;5;124m\"\u001b[39m], teams)\n",
      "File \u001b[1;32mc:\\Users\\caiog\\Projects\\Personal\\football-predictor\\src\\helpers\\predictor.py:62\u001b[0m, in \u001b[0;36mget_most_compatible_team\u001b[1;34m(team, teams)\u001b[0m\n\u001b[0;32m     54\u001b[0m team_compatibility[\u001b[38;5;124m\"\u001b[39m\u001b[38;5;124mscore\u001b[39m\u001b[38;5;124m\"\u001b[39m] \u001b[38;5;241m=\u001b[39m team_compatibility\u001b[38;5;241m.\u001b[39mapply(\n\u001b[0;32m     55\u001b[0m     \u001b[38;5;28;01mlambda\u001b[39;00m x: fuzz\u001b[38;5;241m.\u001b[39mratio(team, x[\u001b[38;5;124m\"\u001b[39m\u001b[38;5;124mteam\u001b[39m\u001b[38;5;124m\"\u001b[39m]),\n\u001b[0;32m     56\u001b[0m     axis\u001b[38;5;241m=\u001b[39m\u001b[38;5;241m1\u001b[39m,\n\u001b[0;32m     57\u001b[0m )\n\u001b[0;32m     58\u001b[0m team_compatibility \u001b[38;5;241m=\u001b[39m team_compatibility\u001b[38;5;241m.\u001b[39msort_values(\n\u001b[0;32m     59\u001b[0m     by\u001b[38;5;241m=\u001b[39m\u001b[38;5;124m\"\u001b[39m\u001b[38;5;124mscore\u001b[39m\u001b[38;5;124m\"\u001b[39m, ascending\u001b[38;5;241m=\u001b[39m\u001b[38;5;28;01mFalse\u001b[39;00m\n\u001b[0;32m     60\u001b[0m )\u001b[38;5;241m.\u001b[39mreset_index(drop\u001b[38;5;241m=\u001b[39m\u001b[38;5;28;01mTrue\u001b[39;00m)\n\u001b[1;32m---> 62\u001b[0m \u001b[38;5;28;01mreturn\u001b[39;00m \u001b[43mteam_compatibility\u001b[49m\u001b[38;5;241;43m.\u001b[39;49m\u001b[43miloc\u001b[49m\u001b[43m[\u001b[49m\u001b[38;5;241;43m0\u001b[39;49m\u001b[43m]\u001b[49m[\u001b[38;5;124m\"\u001b[39m\u001b[38;5;124mteam\u001b[39m\u001b[38;5;124m\"\u001b[39m]\n",
      "File \u001b[1;32m~\\AppData\\Local\\Packages\\PythonSoftwareFoundation.Python.3.10_qbz5n2kfra8p0\\LocalCache\\local-packages\\Python310\\site-packages\\pandas\\core\\indexing.py:1103\u001b[0m, in \u001b[0;36m_LocationIndexer.__getitem__\u001b[1;34m(self, key)\u001b[0m\n\u001b[0;32m   1100\u001b[0m axis \u001b[38;5;241m=\u001b[39m \u001b[38;5;28mself\u001b[39m\u001b[38;5;241m.\u001b[39maxis \u001b[38;5;129;01mor\u001b[39;00m \u001b[38;5;241m0\u001b[39m\n\u001b[0;32m   1102\u001b[0m maybe_callable \u001b[38;5;241m=\u001b[39m com\u001b[38;5;241m.\u001b[39mapply_if_callable(key, \u001b[38;5;28mself\u001b[39m\u001b[38;5;241m.\u001b[39mobj)\n\u001b[1;32m-> 1103\u001b[0m \u001b[38;5;28;01mreturn\u001b[39;00m \u001b[38;5;28;43mself\u001b[39;49m\u001b[38;5;241;43m.\u001b[39;49m\u001b[43m_getitem_axis\u001b[49m\u001b[43m(\u001b[49m\u001b[43mmaybe_callable\u001b[49m\u001b[43m,\u001b[49m\u001b[43m \u001b[49m\u001b[43maxis\u001b[49m\u001b[38;5;241;43m=\u001b[39;49m\u001b[43maxis\u001b[49m\u001b[43m)\u001b[49m\n",
      "File \u001b[1;32m~\\AppData\\Local\\Packages\\PythonSoftwareFoundation.Python.3.10_qbz5n2kfra8p0\\LocalCache\\local-packages\\Python310\\site-packages\\pandas\\core\\indexing.py:1656\u001b[0m, in \u001b[0;36m_iLocIndexer._getitem_axis\u001b[1;34m(self, key, axis)\u001b[0m\n\u001b[0;32m   1653\u001b[0m     \u001b[38;5;28;01mraise\u001b[39;00m \u001b[38;5;167;01mTypeError\u001b[39;00m(\u001b[38;5;124m\"\u001b[39m\u001b[38;5;124mCannot index by location index with a non-integer key\u001b[39m\u001b[38;5;124m\"\u001b[39m)\n\u001b[0;32m   1655\u001b[0m \u001b[38;5;66;03m# validate the location\u001b[39;00m\n\u001b[1;32m-> 1656\u001b[0m \u001b[38;5;28;43mself\u001b[39;49m\u001b[38;5;241;43m.\u001b[39;49m\u001b[43m_validate_integer\u001b[49m\u001b[43m(\u001b[49m\u001b[43mkey\u001b[49m\u001b[43m,\u001b[49m\u001b[43m \u001b[49m\u001b[43maxis\u001b[49m\u001b[43m)\u001b[49m\n\u001b[0;32m   1658\u001b[0m \u001b[38;5;28;01mreturn\u001b[39;00m \u001b[38;5;28mself\u001b[39m\u001b[38;5;241m.\u001b[39mobj\u001b[38;5;241m.\u001b[39m_ixs(key, axis\u001b[38;5;241m=\u001b[39maxis)\n",
      "File \u001b[1;32m~\\AppData\\Local\\Packages\\PythonSoftwareFoundation.Python.3.10_qbz5n2kfra8p0\\LocalCache\\local-packages\\Python310\\site-packages\\pandas\\core\\indexing.py:1589\u001b[0m, in \u001b[0;36m_iLocIndexer._validate_integer\u001b[1;34m(self, key, axis)\u001b[0m\n\u001b[0;32m   1587\u001b[0m len_axis \u001b[38;5;241m=\u001b[39m \u001b[38;5;28mlen\u001b[39m(\u001b[38;5;28mself\u001b[39m\u001b[38;5;241m.\u001b[39mobj\u001b[38;5;241m.\u001b[39m_get_axis(axis))\n\u001b[0;32m   1588\u001b[0m \u001b[38;5;28;01mif\u001b[39;00m key \u001b[38;5;241m>\u001b[39m\u001b[38;5;241m=\u001b[39m len_axis \u001b[38;5;129;01mor\u001b[39;00m key \u001b[38;5;241m<\u001b[39m \u001b[38;5;241m-\u001b[39mlen_axis:\n\u001b[1;32m-> 1589\u001b[0m     \u001b[38;5;28;01mraise\u001b[39;00m \u001b[38;5;167;01mIndexError\u001b[39;00m(\u001b[38;5;124m\"\u001b[39m\u001b[38;5;124msingle positional indexer is out-of-bounds\u001b[39m\u001b[38;5;124m\"\u001b[39m)\n",
      "\u001b[1;31mIndexError\u001b[0m: single positional indexer is out-of-bounds"
     ]
    }
   ],
   "source": [
    "bets = []\n",
    "\n",
    "for league_dict in leagues:\n",
    "    league = league_dict[\"league\"]\n",
    "    country = league_dict[\"country\"]\n",
    "\n",
    "    league_str = f\"{country}-{league}\"\n",
    "\n",
    "    print(f\"\\n{league.upper()}\\n\")\n",
    "\n",
    "    model_data = pf.load_model_data(league_str)\n",
    "\n",
    "    pipeline = model_data[\"pipeline\"]\n",
    "    best_model_name = model_data[\"best_model_name\"]\n",
    "    features = model_data[\"filtered_cols\"]\n",
    "    min_odds = model_data[\"min_odds\"]\n",
    "    min_games_played = model_data[\"min_games_played\"]\n",
    "    min_games_played_at = model_data[\"min_games_played_at\"]\n",
    "    strategy = model_data[\"strategy\"]\n",
    "    default_bankroll_pct = model_data[\"default_bankroll_pct\"]\n",
    "    default_value = model_data[\"default_value\"]\n",
    "\n",
    "    print(\"Features:\", features)\n",
    "    print(\"Min odds:\", min_odds)\n",
    "    display(pipeline)\n",
    "\n",
    "    season_games, teams, teams_elo = pf.get_season_games(league_str, season)\n",
    "\n",
    "    next_games = pf.get_next_games(country, league)\n",
    "\n",
    "    data_model = []\n",
    "    for game in next_games:\n",
    "        stats = pf.get_next_games_stats(game, season, min_games_played, min_games_played_at, season_games, teams_elo, teams)\n",
    "        \n",
    "        if stats:\n",
    "            data_model.append(stats)\n",
    "\n",
    "    if not data_model:\n",
    "        continue\n",
    "\n",
    "    data_df = pd.DataFrame(data_model)\n",
    "\n",
    "    predictions_df = pf.predict_next_games(pipeline, data_df, features)\n",
    "\n",
    "    league_bets = pf.get_bets(predictions_df, min_odds, bankroll, strategy, default_value, default_bankroll_pct)\n",
    "\n",
    "    bets.append({\n",
    "        \"league\": league,\n",
    "        \"bets\": league_bets\n",
    "    })"
   ]
  },
  {
   "cell_type": "code",
   "execution_count": null,
   "id": "732386fc",
   "metadata": {},
   "outputs": [
    {
     "name": "stdout",
     "output_type": "stream",
     "text": [
      "\n",
      "LALIGA\n",
      "\n",
      "\u001b[32mAthletic Club (1639.32) x (1839.52) Real Madrid: $1 on Real Madrid @ 2.24\u001b[0m\n",
      "\u001b[31mCelta Vigo (1491.38) x (1521.87) Mallorca: $1 on Celta Vigo @ 1.86\u001b[0m\n",
      "\u001b[31mLas Palmas (1428.58) x (1394.01) Valladolid: $1 on Las Palmas @ 1.8\u001b[0m\n",
      "\u001b[31mBetis (1564.52) x (1794.52) Barcelona: $1 on Barcelona @ 1.67\u001b[0m\n",
      "\u001b[32mValencia (1483.96) x (1454.01) Rayo Vallecano: $1 on Valencia @ 2.23\u001b[0m\n",
      "\u001b[31mGirona (1634.92) x (1839.52) Real Madrid: $1 on Real Madrid @ 1.71\u001b[0m\n",
      "\u001b[31mLeganés (1478.72) x (1616.03) Real Sociedad: $1 on Real Sociedad @ 2.06\u001b[0m\n",
      "\u001b[31mAthletic Club (1639.32) x (1632.91) Villarreal: $1 on Athletic Club @ 2.06\u001b[0m\n",
      "\u001b[31mOsasuna (1533.62) x (1453.27) Alavés: $1 on Osasuna @ 2.07\u001b[0m\n",
      "\u001b[31mAtlético Madrid (1729.2) x (1512.52) Sevilla: $1 on Atlético Madrid @ 1.42\u001b[0m\n",
      "\u001b[31mGetafe (1470.35) x (1441.51) Espanyol: $1 on Getafe @ 1.79\u001b[0m\n",
      "\n",
      "J1-LEAGUE\n",
      "\n",
      "\u001b[31mFC Tokyo (1519.0) x (1527.93) Cerezo Osaka: $45.0 on Cerezo Osaka @ 2.63\u001b[0m\n",
      "\u001b[31mGamba Osaka (1565.46) x (1658.86) Sanfrecce: $45.0 on Sanfrecce @ 1.82\u001b[0m\n",
      "\u001b[31mConsa Sapporo (1469.91) x (1465.75) Kashiwa Reysol: $45.0 on Kashiwa Reysol @ 2.19\u001b[0m\n",
      "\u001b[31mKashima Antlers (1609.38) x (1588.87) Machida Zelvia: $45.0 on Kashima Antlers @ 2.63\u001b[0m\n",
      "\u001b[31mKawa Frontale (1589.28) x (1525.69) Avispa Fukuoka: $45.0 on Kawa Frontale @ 1.81\u001b[0m\n",
      "\u001b[32mKyoto Sanga (1515.51) x (1545.11) Tokyo Verdy: $45.0 on Tokyo Verdy @ 2.8\u001b[0m\n",
      "\u001b[31mSagan Tosu (1429.38) x (1425.9) Júbilo Iwata: $45.0 on Júbilo Iwata @ 2.04\u001b[0m\n",
      "\u001b[31mUrawa Reds (1553.39) x (1458.23) Albirex Niigata: $45.0 on Urawa Reds @ 2.47\u001b[0m\n",
      "\u001b[31mVissel Kobe (1668.92) x (1519.09) Shonan Bellmare: $45.0 on Vissel Kobe @ 1.42\u001b[0m\n",
      "\u001b[31mMarinos (1577.41) x (1498.1) Grampus: $45.0 on Marinos @ 2.13\u001b[0m\n",
      "\n",
      "BUNDESLIGA\n",
      "\n",
      "\u001b[31mStuttgart (1676.93) x (1525.84) Union Berlin: $1 on Stuttgart @ 1.74\u001b[0m\n",
      "\u001b[31mLeverkusen (1806.69) x (1487.6) St. Pauli: $1 on Leverkusen @ 1.23\u001b[0m\n",
      "\u001b[31mBayern Munich (1805.2) x (1491.4) Heidenheim: $1 on Bayern Munich @ 1.1\u001b[0m\n",
      "\u001b[31mBochum (1380.95) x (1536.87) Werder Bremen: $1 on Werder Bremen @ 2.24\u001b[0m\n",
      "\u001b[31mEint Frankfurt (1655.22) x (1480.4) Augsburg: $1 on Eint Frankfurt @ 1.57\u001b[0m\n",
      "\u001b[31mHolstein Kiel (1431.45) x (1695.38) RB Leipzig: $1 on RB Leipzig @ 1.63\u001b[0m\n",
      "\u001b[31mGladbach (1530.94) x (1695.94) Dortmund: $1 on Dortmund @ 2.07\u001b[0m\n",
      "\u001b[32mWolfsburg (1559.48) x (1592.44) Mainz 05: $1 on Mainz 05 @ 3.47\u001b[0m\n",
      "\u001b[31mHoffenheim (1515.72) x (1561.95) Freiburg: $1 on Freiburg @ 2.66\u001b[0m\n"
     ]
    }
   ],
   "source": [
    "for league in bets:\n",
    "    print(f\"\\n{league['league'].upper()}\\n\")\n",
    "\n",
    "    for bet in league['bets']:\n",
    "        print(bet)"
   ]
  }
 ],
 "metadata": {
  "kernelspec": {
   "display_name": "Python 3",
   "language": "python",
   "name": "python3"
  },
  "language_info": {
   "codemirror_mode": {
    "name": "ipython",
    "version": 3
   },
   "file_extension": ".py",
   "mimetype": "text/x-python",
   "name": "python",
   "nbconvert_exporter": "python",
   "pygments_lexer": "ipython3",
   "version": "3.10.11"
  }
 },
 "nbformat": 4,
 "nbformat_minor": 5
}
