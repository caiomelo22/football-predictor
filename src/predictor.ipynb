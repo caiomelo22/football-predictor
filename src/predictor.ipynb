{
 "cells": [
  {
   "cell_type": "code",
   "execution_count": 1,
   "id": "3f62b72a",
   "metadata": {},
   "outputs": [
    {
     "name": "stderr",
     "output_type": "stream",
     "text": [
      "C:\\Users\\caiog\\AppData\\Local\\Packages\\PythonSoftwareFoundation.Python.3.10_qbz5n2kfra8p0\\LocalCache\\local-packages\\Python310\\site-packages\\thefuzz\\fuzz.py:11: UserWarning: Using slow pure-python SequenceMatcher. Install python-Levenshtein to remove this warning\n",
      "  warnings.warn('Using slow pure-python SequenceMatcher. Install python-Levenshtein to remove this warning')\n"
     ]
    },
    {
     "name": "stdout",
     "output_type": "stream",
     "text": [
      "Setup Complete\n"
     ]
    }
   ],
   "source": [
    "import pandas as pd\n",
    "from helpers import predictor as pf"
   ]
  },
  {
   "cell_type": "code",
   "execution_count": 2,
   "id": "adc6702a",
   "metadata": {},
   "outputs": [],
   "source": [
    "bankroll = 900\n",
    "season = 2024\n",
    "\n",
    "leagues = [\n",
    "    {\n",
    "        \"league\": \"laliga\",\n",
    "        \"country\": \"spain\",\n",
    "    },\n",
    "    {\n",
    "        \"league\": \"j1-league\",\n",
    "        \"country\": \"japan\",\n",
    "    },\n",
    "    {\n",
    "        \"league\": \"mls\",\n",
    "        \"country\": \"usa\",\n",
    "    },\n",
    "]"
   ]
  },
  {
   "cell_type": "code",
   "execution_count": 3,
   "id": "63624a9f",
   "metadata": {},
   "outputs": [
    {
     "name": "stdout",
     "output_type": "stream",
     "text": [
      "Generating teams ELOs...\n"
     ]
    },
    {
     "name": "stderr",
     "output_type": "stream",
     "text": [
      "100%|██████████| 4678/4678 [00:00<00:00, 7864.59it/s]\n"
     ]
    },
    {
     "name": "stdout",
     "output_type": "stream",
     "text": [
      "Successfully generated teams ELOs.\n",
      "Exception when fetching a game: too many values to unpack (expected 9)\n",
      "Generating teams ELOs...\n"
     ]
    },
    {
     "name": "stderr",
     "output_type": "stream",
     "text": [
      "100%|██████████| 2566/2566 [00:00<00:00, 8514.97it/s]\n"
     ]
    },
    {
     "name": "stdout",
     "output_type": "stream",
     "text": [
      "Successfully generated teams ELOs.\n",
      "Generating teams ELOs...\n"
     ]
    },
    {
     "name": "stderr",
     "output_type": "stream",
     "text": [
      "100%|██████████| 5242/5242 [00:00<00:00, 8394.84it/s]\n"
     ]
    },
    {
     "name": "stdout",
     "output_type": "stream",
     "text": [
      "Successfully generated teams ELOs.\n"
     ]
    }
   ],
   "source": [
    "bets = []\n",
    "\n",
    "for league_dict in leagues:\n",
    "    league = league_dict[\"league\"]\n",
    "    country = league_dict[\"country\"]\n",
    "\n",
    "    model_data = pf.load_model_data(league)\n",
    "\n",
    "    pipeline = model_data[\"pipeline\"]\n",
    "    best_model_name = model_data[\"best_model_name\"]\n",
    "    features = model_data[\"filtered_cols\"]\n",
    "    min_odds = model_data[\"min_odds\"]\n",
    "    min_games_played = model_data[\"min_games_played\"]\n",
    "    min_games_played_at = model_data[\"min_games_played_at\"]\n",
    "    strategy = model_data[\"strategy\"]\n",
    "    default_bankroll_pct = model_data[\"default_bankroll_pct\"]\n",
    "    default_value = model_data[\"default_value\"]\n",
    "\n",
    "    season_games, teams, teams_elo = pf.get_season_games(league, season)\n",
    "\n",
    "    next_games = pf.get_next_games(country, league)\n",
    "\n",
    "    data_model = []\n",
    "    for game in next_games:\n",
    "        stats = pf.get_next_games_stats(game, season, min_games_played, min_games_played_at, season_games, teams_elo, teams)\n",
    "        \n",
    "        if stats:\n",
    "            data_model.append(stats)\n",
    "\n",
    "    data_df = pd.DataFrame(data_model)\n",
    "\n",
    "    predictions_df = pf.predict_next_games(pipeline, data_df, features)\n",
    "\n",
    "    league_bets = pf.get_bets(predictions_df, min_odds, bankroll, strategy, default_value, default_bankroll_pct)\n",
    "\n",
    "    bets.append({\n",
    "        \"league\": league,\n",
    "        \"bets\": league_bets\n",
    "    })"
   ]
  },
  {
   "cell_type": "code",
   "execution_count": 4,
   "id": "732386fc",
   "metadata": {},
   "outputs": [
    {
     "name": "stdout",
     "output_type": "stream",
     "text": [
      "\n",
      "LALIGA\n",
      "\n",
      "\u001b[31mRayo Vallecano (1485.92) x (1400.37) Las Palmas: $1 on Rayo Vallecano @ 1.88\u001b[0m\n",
      "\u001b[31mReal Madrid (1825.93) x (1537.05) Osasuna: $1 on Real Madrid @ 1.19\u001b[0m\n",
      "\u001b[31mVillarreal (1625.92) x (1465.96) Alavés: $1 on Villarreal @ 1.64\u001b[0m\n",
      "\u001b[31mLeganés (1472.39) x (1514.74) Sevilla: $1 on Sevilla @ 2.64\u001b[0m\n",
      "\u001b[31mBetis (1599.37) x (1498.85) Celta Vigo: $1 on Betis @ 1.99\u001b[0m\n",
      "\u001b[32mMallorca (1509.56) x (1714.89) Atlético Madrid: $1 on Atlético Madrid @ 2.25\u001b[0m\n",
      "\u001b[32mGetafe (1467.16) x (1620.58) Girona: $1 on Draw @ 3.09\u001b[0m\n",
      "\u001b[31mValladolid (1406.52) x (1629.97) Athletic Club: $1 on Athletic Club @ 1.85\u001b[0m\n",
      "\u001b[31mReal Sociedad (1596.61) x (1835.93) Barcelona: $1 on Barcelona @ 1.71\u001b[0m\n",
      "\n",
      "J1-LEAGUE\n",
      "\n",
      "\u001b[31mKashima Antlers (1602.14) x (1518.57) Grampus: $45.0 on Kashima Antlers @ 1.94\u001b[0m\n",
      "\u001b[31mKyoto Sanga (1519.92) x (1582.25) Kawa Frontale: $45.0 on Kawa Frontale @ 2.47\u001b[0m\n",
      "\u001b[31mMachida Zelvia (1563.91) x (1548.89) FC Tokyo: $45.0 on Machida Zelvia @ 1.78\u001b[0m\n",
      "\u001b[31mSagan Tosu (1412.63) x (1556.41) Marinos: $45.0 on Marinos @ 1.98\u001b[0m\n",
      "\u001b[31mShonan Bellmare (1529.35) x (1479.56) Consa Sapporo: $45.0 on Shonan Bellmare @ 2.09\u001b[0m\n",
      "\u001b[32mCerezo Osaka (1529.91) x (1524.07) Avispa Fukuoka: $45.0 on Avispa Fukuoka @ 3.43\u001b[0m\n",
      "\u001b[31mJúbilo Iwata (1425.18) x (1551.54) Gamba Osaka: $45.0 on Gamba Osaka @ 2.25\u001b[0m\n",
      "\u001b[32mKashiwa Reysol (1460.1) x (1465.79) Albirex Niigata: $45.0 on Albirex Niigata @ 2.96\u001b[0m\n",
      "\u001b[31mTokyo Verdy (1550.87) x (1677.91) Vissel Kobe: $45.0 on Vissel Kobe @ 1.89\u001b[0m\n",
      "\u001b[31mUrawa Reds (1540.84) x (1671.33) Sanfrecce: $45.0 on Sanfrecce @ 1.74\u001b[0m\n",
      "\n",
      "MLS\n",
      "\n",
      "\u001b[31mLAFC (1631.94) x (1504.81) Vancouver W'caps: $45.0 on LAFC @ 1.59\u001b[0m\n",
      "\u001b[31mFC Cincinnati (1578.95) x (1519.13) NYCFC: $45.0 on FC Cincinnati @ 1.82\u001b[0m\n",
      "\u001b[31mOrlando City (1597.85) x (1530.44) Charlotte: $45.0 on Orlando City @ 1.83\u001b[0m\n",
      "\u001b[31mInter Miami (1634.47) x (1498.94) Atlanta Utd: $45.0 on Inter Miami @ 1.37\u001b[0m\n"
     ]
    }
   ],
   "source": [
    "for league in bets:\n",
    "    print(f\"\\n{league['league'].upper()}\\n\")\n",
    "\n",
    "    for bet in league['bets']:\n",
    "        print(bet)"
   ]
  }
 ],
 "metadata": {
  "kernelspec": {
   "display_name": "Python 3",
   "language": "python",
   "name": "python3"
  },
  "language_info": {
   "codemirror_mode": {
    "name": "ipython",
    "version": 3
   },
   "file_extension": ".py",
   "mimetype": "text/x-python",
   "name": "python",
   "nbconvert_exporter": "python",
   "pygments_lexer": "ipython3",
   "version": "3.10.11"
  }
 },
 "nbformat": 4,
 "nbformat_minor": 5
}
