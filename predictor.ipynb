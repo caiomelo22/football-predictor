{
 "cells": [
  {
   "cell_type": "code",
   "execution_count": 9,
   "metadata": {},
   "outputs": [],
   "source": [
    "import os\n",
    "import pandas as pd\n",
    "import numpy as np\n",
    "import matplotlib.pyplot as plt\n",
    "import datetime as dt\n",
    "import matplotlib.dates as mdates\n",
    "from sklearn.metrics import confusion_matrix, accuracy_score\n",
    "import pickle\n",
    "from IPython.display import clear_output\n",
    "from itertools import product, combinations\n",
    "import json"
   ]
  },
  {
   "cell_type": "code",
   "execution_count": 415,
   "metadata": {},
   "outputs": [],
   "source": [
    "league_id = 78 # Choose the league id\n",
    "\n",
    "season_file = '2012-2022'\n",
    "\n",
    "first_season = 2012\n",
    "last_season = 2021\n",
    "\n",
    "features = ['HOME_PTS_PCT', 'HOME_WIN_PCT', 'HOME_DRAW_PCT', 'HOME_LOSS_PCT', 'HOME_HOME_WIN_PCT', 'HOME_HOME_DRAW_PCT', 'HOME_HOME_LOSS_PCT', f'HOME_SCORED_LAST_GAMES', f'HOME_CONCEDED_LAST_GAMES', f'HOME_HOME_SCORED_LAST_GAMES', f'HOME_HOME_CONCEDED_LAST_GAMES', f'HOME_WIN_PCT_LAST_GAMES', f'HOME_DRAW_PCT_LAST_GAMES', f'HOME_LOSS_PCT_LAST_GAMES',\n",
    "            'AWAY_PTS_PCT', 'AWAY_WIN_PCT', 'AWAY_DRAW_PCT', 'AWAY_LOSS_PCT', 'AWAY_AWAY_WIN_PCT', 'AWAY_AWAY_DRAW_PCT', 'AWAY_AWAY_LOSS_PCT', f'AWAY_SCORED_LAST_GAMES', f'AWAY_CONCEDED_LAST_GAMES', f'AWAY_AWAY_SCORED_LAST_GAMES', f'AWAY_AWAY_CONCEDED_LAST_GAMES', f'AWAY_WIN_PCT_LAST_GAMES', f'AWAY_DRAW_PCT_LAST_GAMES', f'AWAY_LOSS_PCT_LAST_GAMES']\n",
    "targets = ['HOME_SCORE', 'AWAY_SCORE']\n",
    "\n",
    "min_threshold = 1.8\n",
    "max_threshold = 10\n",
    "\n",
    "totals_max_threshold = 55\n",
    "totals_min_threshold = 45\n",
    "\n",
    "default_odds_value = 1.9\n",
    "\n",
    "first_attr_index = 9\n",
    "\n",
    "# default_stake = 50\n",
    "bankroll = 2000\n",
    "stake = 0.025"
   ]
  },
  {
   "cell_type": "code",
   "execution_count": 416,
   "metadata": {},
   "outputs": [
    {
     "name": "stdout",
     "output_type": "stream",
     "text": [
      "\n",
      "Getting data for the model...\n"
     ]
    }
   ],
   "source": [
    "print('\\nGetting data for the model...')\n",
    "\n",
    "season = \"{}-{}\".format(first_season, last_season)\n",
    "\n",
    "default_path = f'./leagues/{league_id}'\n",
    "whole_dataset = pd.read_csv(f\"{default_path}/data/{season_file}.csv\")\n",
    "whole_dataset = whole_dataset.loc[(whole_dataset['HOME_ODDS'].notna()) & (whole_dataset['AWAY_ODDS'].notna())]\n",
    "whole_dataset['GAME_DATE'] = pd.to_datetime(whole_dataset['GAME_DATE']).dt.date"
   ]
  },
  {
   "cell_type": "code",
   "execution_count": 417,
   "metadata": {},
   "outputs": [
    {
     "data": {
      "text/html": [
       "<div>\n",
       "<style scoped>\n",
       "    .dataframe tbody tr th:only-of-type {\n",
       "        vertical-align: middle;\n",
       "    }\n",
       "\n",
       "    .dataframe tbody tr th {\n",
       "        vertical-align: top;\n",
       "    }\n",
       "\n",
       "    .dataframe thead th {\n",
       "        text-align: right;\n",
       "    }\n",
       "</style>\n",
       "<table border=\"1\" class=\"dataframe\">\n",
       "  <thead>\n",
       "    <tr style=\"text-align: right;\">\n",
       "      <th></th>\n",
       "      <th>Unnamed: 0</th>\n",
       "      <th>GAME_ID</th>\n",
       "      <th>GAME_DATE</th>\n",
       "      <th>SEASON</th>\n",
       "      <th>HOME_TEAM</th>\n",
       "      <th>AWAY_TEAM</th>\n",
       "      <th>HOME_ODDS</th>\n",
       "      <th>AWAY_ODDS</th>\n",
       "      <th>DRAW_ODDS</th>\n",
       "      <th>HOME_PTS_PCT</th>\n",
       "      <th>...</th>\n",
       "      <th>AWAY_SCORED_LAST_GAMES</th>\n",
       "      <th>AWAY_CONCEDED_LAST_GAMES</th>\n",
       "      <th>AWAY_AWAY_SCORED_LAST_GAMES</th>\n",
       "      <th>AWAY_AWAY_CONCEDED_LAST_GAMES</th>\n",
       "      <th>AWAY_WIN_PCT_LAST_GAMES</th>\n",
       "      <th>AWAY_DRAW_PCT_LAST_GAMES</th>\n",
       "      <th>AWAY_LOSS_PCT_LAST_GAMES</th>\n",
       "      <th>OUTCOME</th>\n",
       "      <th>HOME_SCORE</th>\n",
       "      <th>AWAY_SCORE</th>\n",
       "    </tr>\n",
       "  </thead>\n",
       "  <tbody>\n",
       "    <tr>\n",
       "      <th>0</th>\n",
       "      <td>0</td>\n",
       "      <td>195577</td>\n",
       "      <td>2012-11-10</td>\n",
       "      <td>2012</td>\n",
       "      <td>Schalke</td>\n",
       "      <td>Werder Bremen</td>\n",
       "      <td>1.46</td>\n",
       "      <td>6.62</td>\n",
       "      <td>4.59</td>\n",
       "      <td>66.666667</td>\n",
       "      <td>...</td>\n",
       "      <td>1.6</td>\n",
       "      <td>1.4</td>\n",
       "      <td>1.0</td>\n",
       "      <td>2.000000</td>\n",
       "      <td>40.0</td>\n",
       "      <td>20.0</td>\n",
       "      <td>40.0</td>\n",
       "      <td>H</td>\n",
       "      <td>2</td>\n",
       "      <td>1</td>\n",
       "    </tr>\n",
       "    <tr>\n",
       "      <th>1</th>\n",
       "      <td>1</td>\n",
       "      <td>195578</td>\n",
       "      <td>2012-11-10</td>\n",
       "      <td>2012</td>\n",
       "      <td>Freiburg</td>\n",
       "      <td>Hamburger SV</td>\n",
       "      <td>1.86</td>\n",
       "      <td>4.17</td>\n",
       "      <td>3.64</td>\n",
       "      <td>40.000000</td>\n",
       "      <td>...</td>\n",
       "      <td>0.8</td>\n",
       "      <td>0.8</td>\n",
       "      <td>1.5</td>\n",
       "      <td>0.000000</td>\n",
       "      <td>60.0</td>\n",
       "      <td>0.0</td>\n",
       "      <td>40.0</td>\n",
       "      <td>D</td>\n",
       "      <td>0</td>\n",
       "      <td>0</td>\n",
       "    </tr>\n",
       "    <tr>\n",
       "      <th>2</th>\n",
       "      <td>2</td>\n",
       "      <td>195579</td>\n",
       "      <td>2012-11-10</td>\n",
       "      <td>2012</td>\n",
       "      <td>Augsburg</td>\n",
       "      <td>Dortmund</td>\n",
       "      <td>6.89</td>\n",
       "      <td>1.50</td>\n",
       "      <td>4.18</td>\n",
       "      <td>20.000000</td>\n",
       "      <td>...</td>\n",
       "      <td>1.8</td>\n",
       "      <td>0.6</td>\n",
       "      <td>1.5</td>\n",
       "      <td>0.500000</td>\n",
       "      <td>40.0</td>\n",
       "      <td>40.0</td>\n",
       "      <td>20.0</td>\n",
       "      <td>A</td>\n",
       "      <td>1</td>\n",
       "      <td>3</td>\n",
       "    </tr>\n",
       "    <tr>\n",
       "      <th>3</th>\n",
       "      <td>3</td>\n",
       "      <td>195580</td>\n",
       "      <td>2012-11-10</td>\n",
       "      <td>2012</td>\n",
       "      <td>Dusseldorf</td>\n",
       "      <td>Hoffenheim</td>\n",
       "      <td>3.02</td>\n",
       "      <td>2.34</td>\n",
       "      <td>3.38</td>\n",
       "      <td>33.333333</td>\n",
       "      <td>...</td>\n",
       "      <td>1.2</td>\n",
       "      <td>2.0</td>\n",
       "      <td>0.0</td>\n",
       "      <td>2.500000</td>\n",
       "      <td>20.0</td>\n",
       "      <td>40.0</td>\n",
       "      <td>40.0</td>\n",
       "      <td>D</td>\n",
       "      <td>1</td>\n",
       "      <td>1</td>\n",
       "    </tr>\n",
       "    <tr>\n",
       "      <th>4</th>\n",
       "      <td>4</td>\n",
       "      <td>195583</td>\n",
       "      <td>2012-11-11</td>\n",
       "      <td>2012</td>\n",
       "      <td>Greuther Furth</td>\n",
       "      <td>B. Monchengladbach</td>\n",
       "      <td>2.46</td>\n",
       "      <td>2.86</td>\n",
       "      <td>3.36</td>\n",
       "      <td>23.333333</td>\n",
       "      <td>...</td>\n",
       "      <td>1.2</td>\n",
       "      <td>2.4</td>\n",
       "      <td>1.0</td>\n",
       "      <td>3.666667</td>\n",
       "      <td>40.0</td>\n",
       "      <td>20.0</td>\n",
       "      <td>40.0</td>\n",
       "      <td>A</td>\n",
       "      <td>2</td>\n",
       "      <td>4</td>\n",
       "    </tr>\n",
       "  </tbody>\n",
       "</table>\n",
       "<p>5 rows × 40 columns</p>\n",
       "</div>"
      ],
      "text/plain": [
       "   Unnamed: 0  GAME_ID   GAME_DATE  SEASON       HOME_TEAM  \\\n",
       "0           0   195577  2012-11-10    2012         Schalke   \n",
       "1           1   195578  2012-11-10    2012        Freiburg   \n",
       "2           2   195579  2012-11-10    2012        Augsburg   \n",
       "3           3   195580  2012-11-10    2012      Dusseldorf   \n",
       "4           4   195583  2012-11-11    2012  Greuther Furth   \n",
       "\n",
       "            AWAY_TEAM  HOME_ODDS  AWAY_ODDS  DRAW_ODDS  HOME_PTS_PCT  ...  \\\n",
       "0       Werder Bremen       1.46       6.62       4.59     66.666667  ...   \n",
       "1        Hamburger SV       1.86       4.17       3.64     40.000000  ...   \n",
       "2            Dortmund       6.89       1.50       4.18     20.000000  ...   \n",
       "3          Hoffenheim       3.02       2.34       3.38     33.333333  ...   \n",
       "4  B. Monchengladbach       2.46       2.86       3.36     23.333333  ...   \n",
       "\n",
       "   AWAY_SCORED_LAST_GAMES  AWAY_CONCEDED_LAST_GAMES  \\\n",
       "0                     1.6                       1.4   \n",
       "1                     0.8                       0.8   \n",
       "2                     1.8                       0.6   \n",
       "3                     1.2                       2.0   \n",
       "4                     1.2                       2.4   \n",
       "\n",
       "   AWAY_AWAY_SCORED_LAST_GAMES  AWAY_AWAY_CONCEDED_LAST_GAMES  \\\n",
       "0                          1.0                       2.000000   \n",
       "1                          1.5                       0.000000   \n",
       "2                          1.5                       0.500000   \n",
       "3                          0.0                       2.500000   \n",
       "4                          1.0                       3.666667   \n",
       "\n",
       "   AWAY_WIN_PCT_LAST_GAMES  AWAY_DRAW_PCT_LAST_GAMES  \\\n",
       "0                     40.0                      20.0   \n",
       "1                     60.0                       0.0   \n",
       "2                     40.0                      40.0   \n",
       "3                     20.0                      40.0   \n",
       "4                     40.0                      20.0   \n",
       "\n",
       "   AWAY_LOSS_PCT_LAST_GAMES  OUTCOME  HOME_SCORE  AWAY_SCORE  \n",
       "0                      40.0        H           2           1  \n",
       "1                      40.0        D           0           0  \n",
       "2                      20.0        A           1           3  \n",
       "3                      40.0        D           1           1  \n",
       "4                      40.0        A           2           4  \n",
       "\n",
       "[5 rows x 40 columns]"
      ]
     },
     "execution_count": 417,
     "metadata": {},
     "output_type": "execute_result"
    }
   ],
   "source": [
    "whole_dataset.head()"
   ]
  },
  {
   "cell_type": "code",
   "execution_count": 522,
   "metadata": {},
   "outputs": [],
   "source": [
    "def plot_chart(title, x_label, y_label):\n",
    "    plt.ylabel(y_label)\n",
    "    plt.xlabel(x_label)\n",
    "    plt.title(title)\n",
    "    \n",
    "    path = 'charts'\n",
    "    if not os.path.exists(path):\n",
    "        os.makedirs(path)\n",
    "    \n",
    "    plt.savefig(f\"{path}/{title.replace(' ','_').lower()}.png\", dpi=300)\n",
    "    plt.show()\n",
    "\n",
    "def plot_hist(title, x_label, y_label, data):\n",
    "    plt.hist(data, density=False, bins=20)  # density=False would make counts\n",
    "    plot_chart(title, x_label, y_label)\n",
    "    \n",
    "def plot_bar(title, x_label, y_label, x_data, y_data):\n",
    "    ax= plt.subplot()\n",
    "    plt.bar(x_data, y_data) \n",
    "    # plt.setp(ax.get_xticklabels(), rotation=30, ha='right')\n",
    "    plt.xticks(fontsize=10, rotation=90)\n",
    "    plot_chart(title, x_label, y_label)\n",
    "    \n",
    "def plot_pie_chart(title, labels, data):\n",
    "    try:\n",
    "        data_converted = np.unique(data, return_counts=True)[1]\n",
    "        plt.pie(data_converted, labels = labels, startangle = 90, shadow = True, autopct='%.2f%%')\n",
    "        plt.title(title)\n",
    "        plt.savefig('charts/{}.png'.format(title.replace(' ','_').lower()), dpi=300)\n",
    "        plt.show() \n",
    "    except Exception as e:\n",
    "        print(f'Error when trying to plot the pie chart: {e}')\n",
    "\n",
    "def check_bet_worth(prediction, odds_home, odds_away, odds_draw):\n",
    "    return ((prediction == 'H' and (odds_home > min_threshold and odds_home < max_threshold)) or \n",
    "            (prediction == 'A' and (odds_away > min_threshold and odds_away < max_threshold)) or \n",
    "            (prediction == 'D' and (odds_draw > min_threshold and odds_draw < max_threshold)))\n",
    "\n",
    "def check_model_performance_on_game(game, prediction, bet_value, home_pred_score, away_pred_score):\n",
    "    game_money = 0\n",
    "            \n",
    "    if abs(home_pred_score - away_pred_score) < 0.1:\n",
    "        pass\n",
    "    \n",
    "    if check_bet_worth(prediction, game['HOME_ODDS'], game['AWAY_ODDS'], game['DRAW_ODDS']):\n",
    "        if game['OUTCOME'] == prediction and game['OUTCOME'] == 'H':\n",
    "            game_money = (bet_value*game['HOME_ODDS'] - bet_value)\n",
    "        elif game['OUTCOME'] == prediction and game['OUTCOME'] == 'A':\n",
    "            game_money = (bet_value*game['AWAY_ODDS'] - bet_value)\n",
    "        elif game['OUTCOME'] == prediction and game['OUTCOME'] == 'D':\n",
    "            game_money = (bet_value*game['DRAW_ODDS'] - bet_value)\n",
    "        else:\n",
    "            game_money = -bet_value\n",
    "            \n",
    "    return game_money\n",
    "\n",
    "def get_bet_value(bankroll):\n",
    "    bankroll_baseline = round(bankroll / 1000, 0) * 1000\n",
    "    return stake * bankroll_baseline\n",
    "#     return default_stake"
   ]
  },
  {
   "cell_type": "code",
   "execution_count": 523,
   "metadata": {},
   "outputs": [],
   "source": [
    "def get_feature_correlation_matrix(dataset):\n",
    "    print('\\nGetting the feature correlation matrix...')\n",
    "\n",
    "    import seaborn as sns\n",
    "\n",
    "    try:\n",
    "        dependent_variables = dataset.iloc[:,first_attr_index:]\n",
    "        corrmat = dependent_variables.corr()\n",
    "        top_corr_features = corrmat.index\n",
    "        plt.figure(figsize=(13,13))\n",
    "        title = 'Feature Correlation'\n",
    "        plt.title(title)\n",
    "        #plot heat map\n",
    "        sns.set(font_scale=0.6)\n",
    "        g=sns.heatmap(dependent_variables.corr(),annot=True,cmap='Blues', fmt='0.1g')\n",
    "        plt.savefig('charts/{}.png'.format(title.replace(' ','_').lower()), dpi=300)\n",
    "        plt.show()\n",
    "    except:\n",
    "        print('No correlation matrix for the selected model.')"
   ]
  },
  {
   "cell_type": "code",
   "execution_count": 524,
   "metadata": {},
   "outputs": [],
   "source": [
    "def simulate_by_model(predictions, dataset_itr):\n",
    "    money_by_date = []\n",
    "    bets = []\n",
    "    money_by_team = dict()\n",
    "    total_invested = 0\n",
    "    outcome_predictions = {'H': 0, 'A': 0, 'D': 0}\n",
    "    strikes = 0\n",
    "    no_value_games = []\n",
    "\n",
    "    money_by_date.append({\n",
    "        'date': dataset_itr.iloc[0,2],\n",
    "        'date_profit': 0,\n",
    "        'total_bankroll': bankroll\n",
    "    })\n",
    "\n",
    "    for index, game in dataset_itr.iterrows():\n",
    "        bet_value = get_bet_value(money_by_date[-1]['total_bankroll'])\n",
    "        \n",
    "        # Next date\n",
    "        if game['GAME_DATE'] != money_by_date[-1]['date']:\n",
    "                \n",
    "            money_by_date.append({\n",
    "                'date': game['GAME_DATE'],\n",
    "                'date_profit': 0,\n",
    "                'total_bankroll': money_by_date[-1]['total_bankroll']\n",
    "            })\n",
    "\n",
    "        if game['HOME_TEAM'] not in money_by_team:\n",
    "            money_by_team[game['HOME_TEAM']] = 0\n",
    "        if game['AWAY_TEAM'] not in money_by_team:\n",
    "            money_by_team[game['AWAY_TEAM']] = 0\n",
    "\n",
    "        home_score_pred, away_score_pred = predictions[index]\n",
    "        \n",
    "        prediction = 'D'\n",
    "        score_pred_diff = abs(home_score_pred - away_score_pred)\n",
    "        if home_score_pred > away_score_pred and score_pred_diff > 0.25:\n",
    "            prediction = 'H'\n",
    "        elif home_score_pred < away_score_pred and score_pred_diff > 0.25:\n",
    "            prediction = 'A'\n",
    "        \n",
    "        if prediction == game['OUTCOME']:\n",
    "            strikes += 1\n",
    "\n",
    "        game_money_model = 0\n",
    "\n",
    "        game_money_model = check_model_performance_on_game(game, prediction, bet_value, home_score_pred, away_score_pred)\n",
    "\n",
    "        if game_money_model != 0:       \n",
    "            if game['OUTCOME'] == prediction and game['OUTCOME'] == 'H':\n",
    "                bets.append(['HOME', game['HOME_ODDS'], 1])\n",
    "                money_by_team[game['HOME_TEAM']] += game_money_model\n",
    "            elif game['OUTCOME'] == prediction and game['OUTCOME'] == 'A':\n",
    "                bets.append(['AWAY', game['AWAY_ODDS'], 1])\n",
    "                money_by_team[game['AWAY_TEAM']] += game_money_model\n",
    "            elif game['OUTCOME'] == prediction and game['OUTCOME'] == 'D':\n",
    "                bets.append(['DRAW', game['DRAW_ODDS'], 1])\n",
    "            else:\n",
    "                if prediction == 'H':\n",
    "                    bets.append(['HOME', game['HOME_ODDS'], 0])\n",
    "                    money_by_team[game['HOME_TEAM']] += game_money_model\n",
    "                elif prediction == 'A':\n",
    "                    bets.append(['AWAY', game['AWAY_ODDS'], 0])\n",
    "                    money_by_team[game['AWAY_TEAM']] += game_money_model\n",
    "                elif prediction == 'D':\n",
    "                    bets.append(['DRAW', game['DRAW_ODDS'], 0])\n",
    "\n",
    "            total_invested += bet_value\n",
    "\n",
    "        outcome_predictions[prediction] += 1\n",
    "\n",
    "        money_by_date[-1]['date_profit'] += game_money_model\n",
    "        money_by_date[-1]['total_bankroll'] += game_money_model\n",
    "        \n",
    "    return {\n",
    "        'results': money_by_date,\n",
    "        'outcome_distribution': outcome_predictions,\n",
    "        'bets': bets,\n",
    "        'profit_by_team': money_by_team,\n",
    "        'total_invested': total_invested,\n",
    "        'strike_rate': strikes * 100 / len(dataset_itr.index),\n",
    "    }\n"
   ]
  },
  {
   "cell_type": "code",
   "execution_count": 525,
   "metadata": {},
   "outputs": [],
   "source": [
    "def save_league_season_results(result, season_train, season_test):\n",
    "    path = f\"leagues/{league_id}/results/regression\"\n",
    "    file_name = f\"{season_train}-{season_test}.json\"\n",
    "\n",
    "    if not os.path.exists(path):\n",
    "        os.makedirs(path)\n",
    "\n",
    "    with open(f\"{path}/{file_name}\", 'w') as f:\n",
    "        json.dump(result['results'], f, indent = 4, sort_keys = True, default = str)"
   ]
  },
  {
   "cell_type": "code",
   "execution_count": 526,
   "metadata": {},
   "outputs": [],
   "source": [
    "from sklearn.linear_model import LinearRegression\n",
    "from sklearn.ensemble import RandomForestRegressor\n",
    "from sklearn.model_selection import RandomizedSearchCV\n",
    "\n",
    "def train_regression_model(dataset):\n",
    "    X = dataset.loc[:, features]\n",
    "    y = dataset[targets]\n",
    "    \n",
    "#     \" Random Search CV Optmizer \"\n",
    "#     classifier = RandomForestRegressor()\n",
    "    \n",
    "#     # Number of trees in random forest\n",
    "#     n_estimators = [int(x) for x in np.linspace(start = 200, stop = 2000, num = 10)]\n",
    "#     # Number of features to consider at every split\n",
    "#     max_features = ['log2']\n",
    "#     # Maximum number of levels in tree\n",
    "#     max_depth = [int(x) for x in np.linspace(10, 110, num = 11)]\n",
    "#     max_depth.append(None)\n",
    "#     # Minimum number of samples required to split a node\n",
    "#     min_samples_split = [2, 5, 10]\n",
    "#     # Minimum number of samples required at each leaf node\n",
    "#     min_samples_leaf = [1, 2, 4]\n",
    "#     # Method of selecting samples for training each tree\n",
    "#     bootstrap = [True, False]\n",
    "#     # Create the random grid\n",
    "#     random_grid = {'n_estimators': n_estimators,\n",
    "#                     'max_features': max_features,\n",
    "#                     'max_depth': max_depth,\n",
    "#                     'min_samples_split': min_samples_split,\n",
    "#                     'min_samples_leaf': min_samples_leaf,\n",
    "#                     'bootstrap': bootstrap}\n",
    "                   \n",
    "#     rf_random = RandomizedSearchCV(estimator = classifier, param_distributions = random_grid, n_iter = 100, cv = 3, verbose=2, random_state=42, n_jobs = -1)\n",
    "    \n",
    "#     rf_random.fit(X, y)\n",
    "    \n",
    "#     best_random = rf_random.best_estimator_\n",
    "#     best_parameters = rf_random.cv_results_\n",
    "#     print(best_parameters)\n",
    "#     print(best_random)\n",
    "    \n",
    "#     return rf_random\n",
    "    \n",
    "    model = RandomForestRegressor(max_depth=10, max_features='log2', min_samples_split=10,\n",
    "                      n_estimators=2000, random_state=0)\n",
    "    \n",
    "    model.fit(X.values, y.values)\n",
    "    \n",
    "    return model"
   ]
  },
  {
   "cell_type": "code",
   "execution_count": 527,
   "metadata": {},
   "outputs": [],
   "source": [
    "# dataset_test = whole_dataset.loc[(whole_dataset['SEASON'] >= first_season) & (whole_dataset['SEASON'] < 2022)].reset_index(drop=True)\n",
    "# train_regression_model(dataset_test)"
   ]
  },
  {
   "cell_type": "code",
   "execution_count": 528,
   "metadata": {},
   "outputs": [],
   "source": [
    "def predict(dataset_train, dataset_itr):\n",
    "    \n",
    "    model = train_regression_model(dataset_train)\n",
    "\n",
    "    X = dataset_itr.loc[:, features]\n",
    "    \n",
    "    if not len(X):\n",
    "        return None, model\n",
    "    \n",
    "    predictions = model.predict(X.values)\n",
    "    \n",
    "    return predictions, model"
   ]
  },
  {
   "cell_type": "code",
   "execution_count": 529,
   "metadata": {},
   "outputs": [],
   "source": [
    "def simulate(season):\n",
    "    print(f\"\\Simultating the results for season {season}...\")\n",
    "    \n",
    "    dataset_train = whole_dataset.loc[(whole_dataset['SEASON'] >= first_season) & (whole_dataset['SEASON'] < season)].reset_index(drop=True)\n",
    "    dataset_itr = whole_dataset.loc[whole_dataset['SEASON'] == season].reset_index(drop=True)\n",
    "    \n",
    "    clear_output(wait=True)\n",
    "\n",
    "    print(f\"Season {season}/{last_season}\")\n",
    "\n",
    "    predictions, model = predict(dataset_train, dataset_itr)\n",
    "\n",
    "    result = dict()\n",
    "    \n",
    "    if predictions is None:\n",
    "        pass\n",
    "    else:\n",
    "        result = simulate_by_model(predictions, dataset_itr)\n",
    "        save_league_season_results(result, first_season, season)\n",
    "        \n",
    "    result['seasons'] = f\"{first_season}-{season}\"\n",
    "    result['model'] = model\n",
    "        \n",
    "        \n",
    "    return result\n"
   ]
  },
  {
   "cell_type": "code",
   "execution_count": 530,
   "metadata": {
    "scrolled": true
   },
   "outputs": [
    {
     "name": "stdout",
     "output_type": "stream",
     "text": [
      "Season 2021/2021\n"
     ]
    }
   ],
   "source": [
    "results = []\n",
    "\n",
    "for season in range(first_season + 1, last_season + 1):\n",
    "    results.append(simulate(season))"
   ]
  },
  {
   "cell_type": "code",
   "execution_count": 531,
   "metadata": {},
   "outputs": [],
   "source": [
    "results.sort(key=lambda x: x['results'][-1]['total_bankroll'], reverse=True)"
   ]
  },
  {
   "cell_type": "code",
   "execution_count": 532,
   "metadata": {},
   "outputs": [],
   "source": [
    "def print_bankroll_update(result):\n",
    "    won = result['results'][-1]['total_bankroll'] - bankroll\n",
    "    print(f\"\\nSeasons: {result['seasons']} // Accuracy: {round(result['strike_rate'], 2)}%\")\n",
    "    print(f\"Total moneyline bets: {len([r for r in result['bets'] if r[2]])}\")\n",
    "    print(f\"Yield: {round(won*100/result['total_invested'], 2)}% // Bet Accuracy: {round(len([r for r in result['bets'] if r[2]])*100/len(result['bets']), 2)}% \\nBankroll: {round(result['results'][-1]['total_bankroll'], 2)} // Won: {round(won, 2)} // Margin: {round(100*won/bankroll, 2)}%\")"
   ]
  },
  {
   "cell_type": "code",
   "execution_count": 533,
   "metadata": {},
   "outputs": [
    {
     "name": "stdout",
     "output_type": "stream",
     "text": [
      "\n",
      "Seasons: 2012-2021 // Accuracy: 48.57%\n",
      "Total moneyline bets: 47\n",
      "Yield: 2.64% // Bet Accuracy: 36.72% \n",
      "Bankroll: 2178.5 // Won: 178.5 // Margin: 8.93%\n",
      "\n",
      "Seasons: 2012-2014 // Accuracy: 45.5%\n",
      "Total moneyline bets: 52\n",
      "Yield: 0.99% // Bet Accuracy: 35.37% \n",
      "Bankroll: 2072.0 // Won: 72.0 // Margin: 3.6%\n",
      "\n",
      "Seasons: 2012-2019 // Accuracy: 46.92%\n",
      "Total moneyline bets: 42\n",
      "Yield: -3.17% // Bet Accuracy: 34.43% \n",
      "Bankroll: 1807.25 // Won: -192.75 // Margin: -9.64%\n",
      "\n",
      "Seasons: 2012-2020 // Accuracy: 48.6%\n",
      "Total moneyline bets: 44\n",
      "Yield: -9.68% // Bet Accuracy: 33.85% \n",
      "Bankroll: 1409.25 // Won: -590.75 // Margin: -29.54%\n",
      "\n",
      "Seasons: 2012-2016 // Accuracy: 42.06%\n",
      "Total moneyline bets: 47\n",
      "Yield: -14.0% // Bet Accuracy: 32.64% \n",
      "Bankroll: 1237.25 // Won: -762.75 // Margin: -38.14%\n",
      "\n",
      "Seasons: 2012-2018 // Accuracy: 46.48%\n",
      "Total moneyline bets: 37\n",
      "Yield: -13.93% // Bet Accuracy: 30.33% \n",
      "Bankroll: 1234.0 // Won: -766.0 // Margin: -38.3%\n",
      "\n",
      "Seasons: 2012-2017 // Accuracy: 43.06%\n",
      "Total moneyline bets: 47\n",
      "Yield: -17.15% // Bet Accuracy: 32.41% \n",
      "Bankroll: 1211.25 // Won: -788.75 // Margin: -39.44%\n",
      "\n",
      "Seasons: 2012-2013 // Accuracy: 47.85%\n",
      "Total moneyline bets: 37\n",
      "Yield: -16.17% // Bet Accuracy: 30.33% \n",
      "Bankroll: 1139.0 // Won: -861.0 // Margin: -43.05%\n",
      "\n",
      "Seasons: 2012-2015 // Accuracy: 44.04%\n",
      "Total moneyline bets: 39\n",
      "Yield: -18.85% // Bet Accuracy: 30.47% \n",
      "Bankroll: 1099.75 // Won: -900.25 // Margin: -45.01%\n"
     ]
    }
   ],
   "source": [
    "for r in results:\n",
    "    print_bankroll_update(r)"
   ]
  },
  {
   "cell_type": "code",
   "execution_count": 534,
   "metadata": {
    "scrolled": false
   },
   "outputs": [],
   "source": [
    "result_for_analysis = results[0]"
   ]
  },
  {
   "cell_type": "code",
   "execution_count": 535,
   "metadata": {},
   "outputs": [
    {
     "name": "stdout",
     "output_type": "stream",
     "text": [
      "{'H': 120, 'A': 32, 'D': 58}\n"
     ]
    }
   ],
   "source": [
    "print(result_for_analysis['outcome_distribution'])"
   ]
  },
  {
   "cell_type": "code",
   "execution_count": 536,
   "metadata": {},
   "outputs": [
    {
     "name": "stdout",
     "output_type": "stream",
     "text": [
      "\n",
      "Plotting charts...\n"
     ]
    }
   ],
   "source": [
    "print('\\nPlotting charts...')\n",
    "\n",
    "models_tracking =  [np.array([x['total_bankroll'] for x in result_for_analysis['results']], dtype=np.float32)]\n",
    "\n",
    "money_by_date = np.array([[r['date'], r['total_bankroll']] for r in result_for_analysis['results']], dtype=str)\n",
    "correct_bets = list(filter(lambda x: x[2] == 1, result_for_analysis['bets']))\n",
    "missed_bets = list(filter(lambda x: x[2] == 0, result_for_analysis['bets']))\n",
    "correct_bets_odds = np.array(list(map(lambda x: x[1], correct_bets)))\n",
    "missed_bets_odds = np.array(list(map(lambda x: x[1], missed_bets)))\n",
    "correct_bets_home = np.array(list(map(lambda x: x[0], correct_bets)))\n",
    "missed_bets_home = np.array(list(map(lambda x: x[0], missed_bets)))\n",
    "\n",
    "money_by_team = dict(sorted(result_for_analysis['profit_by_team'].items(), key=lambda x: x[1]))\n",
    "money_by_team_labels = np.array(list(money_by_team.keys()), dtype=str)\n",
    "money_by_team_values = np.array(list(money_by_team.values()), dtype=np.float32)"
   ]
  },
  {
   "cell_type": "code",
   "execution_count": 537,
   "metadata": {},
   "outputs": [
    {
     "data": {
      "image/png": "[encoded data removed]",
      "text/plain": [
       "<Figure size 432x288 with 1 Axes>"
      ]
     },
     "metadata": {
      "needs_background": "light"
     },
     "output_type": "display_data"
    },
    {
     "data": {
      "image/png": "[encoded data removed]",
      "text/plain": [
       "<Figure size 432x288 with 1 Axes>"
      ]
     },
     "metadata": {
      "needs_background": "light"
     },
     "output_type": "display_data"
    },
    {
     "data": {
      "image/png": "[encoded data removed]",
      "text/plain": [
       "<Figure size 432x288 with 1 Axes>"
      ]
     },
     "metadata": {},
     "output_type": "display_data"
    },
    {
     "data": {
      "image/png": "[encoded data removed]",
      "text/plain": [
       "<Figure size 432x288 with 1 Axes>"
      ]
     },
     "metadata": {},
     "output_type": "display_data"
    },
    {
     "data": {
      "image/png": "[encoded data removed]",
      "text/plain": [
       "<Figure size 432x288 with 1 Axes>"
      ]
     },
     "metadata": {
      "needs_background": "light"
     },
     "output_type": "display_data"
    }
   ],
   "source": [
    "plot_hist('Missed Bets by Odds', 'Odds', 'X Times', missed_bets_odds)\n",
    "\n",
    "plot_hist('Correct Bets by Odds', 'Odds', 'X Times', correct_bets_odds)\n",
    "\n",
    "plot_pie_chart('Correct Bets by Home-Away', ['Home', 'Away', 'Draw'], correct_bets_home)\n",
    "\n",
    "plot_pie_chart('Missed Bets by Home-Away', ['Home', 'Away', 'Draw'], missed_bets_home)\n",
    "\n",
    "plot_bar('Profit by Team', 'Teams', 'Profit', money_by_team_labels, money_by_team_values)"
   ]
  },
  {
   "cell_type": "code",
   "execution_count": 538,
   "metadata": {},
   "outputs": [
    {
     "data": {
      "image/png": "[encoded data removed]",
      "text/plain": [
       "<Figure size 432x288 with 1 Axes>"
      ]
     },
     "metadata": {
      "needs_background": "light"
     },
     "output_type": "display_data"
    }
   ],
   "source": [
    "xpoints = money_by_date[:, 0].astype(np.datetime64)\n",
    "\n",
    "plt.gca().xaxis.set_major_formatter(mdates.DateFormatter('%Y-%m-%d'))\n",
    "plt.gca().xaxis.set_major_locator(mdates.DayLocator(interval=15))\n",
    "for model in models_tracking:\n",
    "    plt.plot(xpoints, model)\n",
    "\n",
    "title = \"Profit by Date\"\n",
    "plt.ylabel(\"Profit($)\")\n",
    "plt.xlabel(\"Date\")\n",
    "plt.title(title)\n",
    "plt.gcf().autofmt_xdate()\n",
    "plt.savefig('charts/{}.png'.format(title.replace(' ','_').lower()), dpi=300)\n",
    "plt.show()"
   ]
  },
  {
   "cell_type": "code",
   "execution_count": 539,
   "metadata": {},
   "outputs": [],
   "source": [
    "from joblib import dump, load\n",
    "\n",
    "save_current_season_model = False\n",
    "current_season = 2022\n",
    "\n",
    "if save_current_season_model:\n",
    "    result = simulate(current_season)\n",
    "    dump(result['model'], f'{league_id}/model.joblib')"
   ]
  }
 ],
 "metadata": {
  "kernelspec": {
   "display_name": "Python 3 (ipykernel)",
   "language": "python",
   "name": "python3"
  },
  "language_info": {
   "codemirror_mode": {
    "name": "ipython",
    "version": 3
   },
   "file_extension": ".py",
   "mimetype": "text/x-python",
   "name": "python",
   "nbconvert_exporter": "python",
   "pygments_lexer": "ipython3",
   "version": "3.9.12"
  }
 },
 "nbformat": 4,
 "nbformat_minor": 2
}
