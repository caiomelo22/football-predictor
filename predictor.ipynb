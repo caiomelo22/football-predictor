{
 "cells": [
  {
   "cell_type": "code",
   "execution_count": 56,
   "metadata": {},
   "outputs": [],
   "source": [
    "import sys  \n",
    "sys.path.insert(0, './machine_learning_models')\n",
    "\n",
    "from logistic_regression import logistic_regression\n",
    "from stochastic_gradient_descent import stochastic_gradient_descent\n",
    "from knn import knn\n",
    "from kernel_svm import kernel_svm\n",
    "from naive_bayes import naive_bayes\n",
    "from random_forest import random_forest\n",
    "from voting_classifier import voting_classifier\n",
    "import os\n",
    "import pandas as pd\n",
    "import numpy as np\n",
    "import matplotlib.pyplot as plt\n",
    "import datetime as dt\n",
    "import matplotlib.dates as mdates\n",
    "from sklearn.metrics import confusion_matrix, accuracy_score\n",
    "import pickle"
   ]
  },
  {
   "cell_type": "code",
   "execution_count": 57,
   "metadata": {},
   "outputs": [],
   "source": [
    "min_threshold = 1.75\n",
    "max_threshold = 3"
   ]
  },
  {
   "cell_type": "code",
   "execution_count": 58,
   "metadata": {},
   "outputs": [],
   "source": [
    "def plot_chart(title, x_label, y_label):\n",
    "    plt.ylabel(y_label)\n",
    "    plt.xlabel(x_label)\n",
    "    plt.title(title)\n",
    "    plt.savefig('charts/{}.png'.format(title.replace(' ','_').lower()), dpi=300)\n",
    "    plt.show()\n",
    "\n",
    "def plot_hist(title, x_label, y_label, data):\n",
    "    plt.hist(data, density=False, bins=20)  # density=False would make counts\n",
    "    plot_chart(title, x_label, y_label)\n",
    "    \n",
    "def plot_bar(title, x_label, y_label, x_data, y_data):\n",
    "    ax= plt.subplot()\n",
    "    plt.bar(x_data, y_data) \n",
    "    # plt.setp(ax.get_xticklabels(), rotation=30, ha='right')\n",
    "    plt.xticks(fontsize=10, rotation=90)\n",
    "    plot_chart(title, x_label, y_label)\n",
    "    \n",
    "def plot_pie_chart(title, labels, data):\n",
    "    data_converted = np.unique(data, return_counts=True)[1]\n",
    "    plt.pie(data_converted, labels = labels, startangle = 90, shadow = True, autopct='%.2f%%')\n",
    "    plt.title(title)\n",
    "    plt.savefig('charts/{}.png'.format(title.replace(' ','_').lower()), dpi=300)\n",
    "    plt.show() \n",
    "    \n",
    "def get_season_year(season_id):\n",
    "    if len(str(season_id)) == 4:\n",
    "        return int(season_id)\n",
    "    return int(str(season_id)[1:])\n",
    "\n",
    "def check_bet_worth(prediction, odds_home, odds_away, odds_draw, pred_odds_home, pred_odds_away, pred_odds_draw):\n",
    "    return ((prediction == 'H' and (pred_odds_home < odds_home) and (odds_home > min_threshold and odds_home < max_threshold)) or \n",
    "            (prediction == 'A' and (pred_odds_away < odds_away) and (odds_away > min_threshold and odds_away < max_threshold)) or\n",
    "            (prediction == 'D' and (pred_odds_draw < odds_draw) and (odds_draw > min_threshold and odds_draw < max_threshold)))\n",
    "\n",
    "def check_game_with_odds(game, bet_value, pred_odds_home, pred_odds_away, pred_odds_draw):\n",
    "    game_money = 0\n",
    "    \n",
    "    prediction = 'D'\n",
    "    if game['HOME_ODDS'] > game['AWAY_ODDS']:\n",
    "        prediction = 'H'\n",
    "    elif game['AWAY_ODDS'] > game['HOME_ODDS']:\n",
    "        prediction = 'A'\n",
    "    \n",
    "    if check_bet_worth(prediction, game['HOME_ODDS'], game['AWAY_ODDS'], game['DRAW_ODDS'], pred_odds_home, pred_odds_away, pred_odds_draw):\n",
    "        if game['OUTCOME'] == prediction and game['OUTCOME'] == 'H':\n",
    "            game_money = (bet_value*game['HOME_ODDS'] - bet_value)\n",
    "        elif game['OUTCOME'] == prediction and game['OUTCOME'] == 'A':\n",
    "            game_money = (bet_value*game['AWAY_ODDS'] - bet_value)\n",
    "        elif game['OUTCOME'] == prediction and game['OUTCOME'] == 'D':\n",
    "            game_money = (bet_value*game['DRAW_ODDS'] - bet_value)\n",
    "        else:\n",
    "            game_money = -bet_value\n",
    "    return game_money\n",
    "\n",
    "def check_model_performance_on_game(game, prediction, bet_value, odds_home, odds_away, odds_draw):\n",
    "    game_money = 0\n",
    "    if check_bet_worth(prediction, game['HOME_ODDS'], game['AWAY_ODDS'], game['DRAW_ODDS'], odds_home, odds_away, odds_draw):\n",
    "        if game['OUTCOME'] == prediction and game['OUTCOME'] == 'H':\n",
    "            game_money = (bet_value*game['HOME_ODDS'] - bet_value)\n",
    "        elif game['OUTCOME'] == prediction and game['OUTCOME'] == 'A':\n",
    "            game_money = (bet_value*game['AWAY_ODDS'] - bet_value)\n",
    "        elif game['OUTCOME'] == prediction and game['OUTCOME'] == 'D':\n",
    "            game_money = (bet_value*game['DRAW_ODDS'] - bet_value)\n",
    "        else:\n",
    "            game_money = -bet_value\n",
    "    return game_money\n",
    "\n",
    "def get_bet_value(prob):\n",
    "#     bet_value = 0 \n",
    "#     if prob >= 0.5:\n",
    "#         bet_value = 10*prob\n",
    "#     else:\n",
    "#         bet_value = 10*abs(1-prob)\n",
    "    bet_value = 10\n",
    "    return bet_value"
   ]
  },
  {
   "cell_type": "code",
   "execution_count": 232,
   "metadata": {},
   "outputs": [
    {
     "name": "stdout",
     "output_type": "stream",
     "text": [
      "\n",
      "Getting data for the model...\n"
     ]
    }
   ],
   "source": [
    "print('\\nGetting data for the model...')\n",
    "\n",
    "season_file = '2014-2022'\n",
    "\n",
    "first_season_train = 2014\n",
    "last_season_train = 2020\n",
    "\n",
    "season = \"{}-{}\".format(first_season_train, last_season_train)\n",
    "\n",
    "whole_dataset = pd.read_csv('./data/{}.csv'.format(season_file))\n",
    "whole_dataset['GAME_DATE'] = pd.to_datetime(whole_dataset['GAME_DATE']).dt.date\n",
    "\n",
    "dataset_train = whole_dataset.loc[(whole_dataset['SEASON'] >= first_season_train) & (whole_dataset['SEASON'] <= last_season_train)].reset_index(drop=True)\n",
    "\n",
    "first_season_test = 2021\n",
    "last_season_test = 2021\n",
    "\n",
    "dataset = whole_dataset.loc[(whole_dataset['SEASON'] >= first_season_test) & (whole_dataset['SEASON'] <= last_season_test)].reset_index(drop=True)\n",
    "\n",
    "results = []\n",
    "\n",
    "X_train = dataset_train.iloc[:, 6:-1].values\n",
    "X = dataset.iloc[:, 6:-1].values\n",
    "y = dataset.iloc[:, -1].values"
   ]
  },
  {
   "cell_type": "code",
   "execution_count": 233,
   "metadata": {},
   "outputs": [
    {
     "data": {
      "text/html": [
       "<div>\n",
       "<style scoped>\n",
       "    .dataframe tbody tr th:only-of-type {\n",
       "        vertical-align: middle;\n",
       "    }\n",
       "\n",
       "    .dataframe tbody tr th {\n",
       "        vertical-align: top;\n",
       "    }\n",
       "\n",
       "    .dataframe thead th {\n",
       "        text-align: right;\n",
       "    }\n",
       "</style>\n",
       "<table border=\"1\" class=\"dataframe\">\n",
       "  <thead>\n",
       "    <tr style=\"text-align: right;\">\n",
       "      <th></th>\n",
       "      <th>Unnamed: 0</th>\n",
       "      <th>GAME_ID</th>\n",
       "      <th>GAME_DATE</th>\n",
       "      <th>SEASON</th>\n",
       "      <th>HOME_TEAM</th>\n",
       "      <th>AWAY_TEAM</th>\n",
       "      <th>HOME_ODDS</th>\n",
       "      <th>AWAY_ODDS</th>\n",
       "      <th>DRAW_ODDS</th>\n",
       "      <th>HOME_PTS_PCT</th>\n",
       "      <th>...</th>\n",
       "      <th>AWAY_DRAW_PCT</th>\n",
       "      <th>AWAY_LOSS_PCT</th>\n",
       "      <th>AWAY_AWAY_WIN_PCT</th>\n",
       "      <th>AWAY_AWAY_DRAW_PCT</th>\n",
       "      <th>AWAY_AWAY_LOSS_PCT</th>\n",
       "      <th>AWAY_SCORED_LAST_5</th>\n",
       "      <th>AWAY_CONCEDED_LAST_5</th>\n",
       "      <th>AWAY_AWAY_SCORED_LAST_5</th>\n",
       "      <th>AWAY_AWAY_CONCEDED_LAST_5</th>\n",
       "      <th>OUTCOME</th>\n",
       "    </tr>\n",
       "  </thead>\n",
       "  <tbody>\n",
       "    <tr>\n",
       "      <th>0</th>\n",
       "      <td>0</td>\n",
       "      <td>190549</td>\n",
       "      <td>2014-07-19</td>\n",
       "      <td>2014</td>\n",
       "      <td>Figueirense</td>\n",
       "      <td>Gremio</td>\n",
       "      <td>3.49</td>\n",
       "      <td>2.14</td>\n",
       "      <td>3.18</td>\n",
       "      <td>23.333333</td>\n",
       "      <td>...</td>\n",
       "      <td>40.0</td>\n",
       "      <td>20.0</td>\n",
       "      <td>20.0</td>\n",
       "      <td>40.0</td>\n",
       "      <td>40.0</td>\n",
       "      <td>0.4</td>\n",
       "      <td>0.4</td>\n",
       "      <td>0.0</td>\n",
       "      <td>0.5</td>\n",
       "      <td>A</td>\n",
       "    </tr>\n",
       "    <tr>\n",
       "      <th>1</th>\n",
       "      <td>1</td>\n",
       "      <td>190550</td>\n",
       "      <td>2014-07-19</td>\n",
       "      <td>2014</td>\n",
       "      <td>Botafogo RJ</td>\n",
       "      <td>Coritiba</td>\n",
       "      <td>2.12</td>\n",
       "      <td>3.45</td>\n",
       "      <td>3.27</td>\n",
       "      <td>30.000000</td>\n",
       "      <td>...</td>\n",
       "      <td>40.0</td>\n",
       "      <td>50.0</td>\n",
       "      <td>0.0</td>\n",
       "      <td>40.0</td>\n",
       "      <td>60.0</td>\n",
       "      <td>0.8</td>\n",
       "      <td>1.2</td>\n",
       "      <td>0.0</td>\n",
       "      <td>1.5</td>\n",
       "      <td>H</td>\n",
       "    </tr>\n",
       "    <tr>\n",
       "      <th>2</th>\n",
       "      <td>2</td>\n",
       "      <td>190551</td>\n",
       "      <td>2014-07-20</td>\n",
       "      <td>2014</td>\n",
       "      <td>Palmeiras</td>\n",
       "      <td>Cruzeiro</td>\n",
       "      <td>3.36</td>\n",
       "      <td>2.17</td>\n",
       "      <td>3.25</td>\n",
       "      <td>43.333333</td>\n",
       "      <td>...</td>\n",
       "      <td>10.0</td>\n",
       "      <td>20.0</td>\n",
       "      <td>60.0</td>\n",
       "      <td>0.0</td>\n",
       "      <td>40.0</td>\n",
       "      <td>2.2</td>\n",
       "      <td>0.6</td>\n",
       "      <td>1.5</td>\n",
       "      <td>1.0</td>\n",
       "      <td>A</td>\n",
       "    </tr>\n",
       "    <tr>\n",
       "      <th>3</th>\n",
       "      <td>3</td>\n",
       "      <td>190552</td>\n",
       "      <td>2014-07-20</td>\n",
       "      <td>2014</td>\n",
       "      <td>Vitoria</td>\n",
       "      <td>Corinthians</td>\n",
       "      <td>2.96</td>\n",
       "      <td>2.49</td>\n",
       "      <td>3.07</td>\n",
       "      <td>23.333333</td>\n",
       "      <td>...</td>\n",
       "      <td>40.0</td>\n",
       "      <td>10.0</td>\n",
       "      <td>50.0</td>\n",
       "      <td>50.0</td>\n",
       "      <td>0.0</td>\n",
       "      <td>1.8</td>\n",
       "      <td>0.8</td>\n",
       "      <td>4.0</td>\n",
       "      <td>1.0</td>\n",
       "      <td>D</td>\n",
       "    </tr>\n",
       "    <tr>\n",
       "      <th>4</th>\n",
       "      <td>4</td>\n",
       "      <td>190553</td>\n",
       "      <td>2014-07-20</td>\n",
       "      <td>2014</td>\n",
       "      <td>Internacional</td>\n",
       "      <td>Flamengo RJ</td>\n",
       "      <td>1.61</td>\n",
       "      <td>5.80</td>\n",
       "      <td>3.69</td>\n",
       "      <td>53.333333</td>\n",
       "      <td>...</td>\n",
       "      <td>40.0</td>\n",
       "      <td>50.0</td>\n",
       "      <td>0.0</td>\n",
       "      <td>25.0</td>\n",
       "      <td>75.0</td>\n",
       "      <td>0.6</td>\n",
       "      <td>1.4</td>\n",
       "      <td>0.0</td>\n",
       "      <td>1.5</td>\n",
       "      <td>H</td>\n",
       "    </tr>\n",
       "  </tbody>\n",
       "</table>\n",
       "<p>5 rows × 32 columns</p>\n",
       "</div>"
      ],
      "text/plain": [
       "   Unnamed: 0  GAME_ID   GAME_DATE  SEASON      HOME_TEAM    AWAY_TEAM  \\\n",
       "0           0   190549  2014-07-19    2014    Figueirense       Gremio   \n",
       "1           1   190550  2014-07-19    2014    Botafogo RJ     Coritiba   \n",
       "2           2   190551  2014-07-20    2014      Palmeiras     Cruzeiro   \n",
       "3           3   190552  2014-07-20    2014        Vitoria  Corinthians   \n",
       "4           4   190553  2014-07-20    2014  Internacional  Flamengo RJ   \n",
       "\n",
       "   HOME_ODDS  AWAY_ODDS  DRAW_ODDS  HOME_PTS_PCT  ...  AWAY_DRAW_PCT  \\\n",
       "0       3.49       2.14       3.18     23.333333  ...           40.0   \n",
       "1       2.12       3.45       3.27     30.000000  ...           40.0   \n",
       "2       3.36       2.17       3.25     43.333333  ...           10.0   \n",
       "3       2.96       2.49       3.07     23.333333  ...           40.0   \n",
       "4       1.61       5.80       3.69     53.333333  ...           40.0   \n",
       "\n",
       "   AWAY_LOSS_PCT  AWAY_AWAY_WIN_PCT  AWAY_AWAY_DRAW_PCT  AWAY_AWAY_LOSS_PCT  \\\n",
       "0           20.0               20.0                40.0                40.0   \n",
       "1           50.0                0.0                40.0                60.0   \n",
       "2           20.0               60.0                 0.0                40.0   \n",
       "3           10.0               50.0                50.0                 0.0   \n",
       "4           50.0                0.0                25.0                75.0   \n",
       "\n",
       "   AWAY_SCORED_LAST_5  AWAY_CONCEDED_LAST_5  AWAY_AWAY_SCORED_LAST_5  \\\n",
       "0                 0.4                   0.4                      0.0   \n",
       "1                 0.8                   1.2                      0.0   \n",
       "2                 2.2                   0.6                      1.5   \n",
       "3                 1.8                   0.8                      4.0   \n",
       "4                 0.6                   1.4                      0.0   \n",
       "\n",
       "   AWAY_AWAY_CONCEDED_LAST_5  OUTCOME  \n",
       "0                        0.5        A  \n",
       "1                        1.5        H  \n",
       "2                        1.0        A  \n",
       "3                        1.0        D  \n",
       "4                        1.5        H  \n",
       "\n",
       "[5 rows x 32 columns]"
      ]
     },
     "execution_count": 233,
     "metadata": {},
     "output_type": "execute_result"
    }
   ],
   "source": [
    "dataset_train.head()"
   ]
  },
  {
   "cell_type": "code",
   "execution_count": 234,
   "metadata": {},
   "outputs": [
    {
     "data": {
      "text/html": [
       "<div>\n",
       "<style scoped>\n",
       "    .dataframe tbody tr th:only-of-type {\n",
       "        vertical-align: middle;\n",
       "    }\n",
       "\n",
       "    .dataframe tbody tr th {\n",
       "        vertical-align: top;\n",
       "    }\n",
       "\n",
       "    .dataframe thead th {\n",
       "        text-align: right;\n",
       "    }\n",
       "</style>\n",
       "<table border=\"1\" class=\"dataframe\">\n",
       "  <thead>\n",
       "    <tr style=\"text-align: right;\">\n",
       "      <th></th>\n",
       "      <th>Unnamed: 0</th>\n",
       "      <th>GAME_ID</th>\n",
       "      <th>GAME_DATE</th>\n",
       "      <th>SEASON</th>\n",
       "      <th>HOME_TEAM</th>\n",
       "      <th>AWAY_TEAM</th>\n",
       "      <th>HOME_ODDS</th>\n",
       "      <th>AWAY_ODDS</th>\n",
       "      <th>DRAW_ODDS</th>\n",
       "      <th>HOME_PTS_PCT</th>\n",
       "      <th>...</th>\n",
       "      <th>AWAY_DRAW_PCT</th>\n",
       "      <th>AWAY_LOSS_PCT</th>\n",
       "      <th>AWAY_AWAY_WIN_PCT</th>\n",
       "      <th>AWAY_AWAY_DRAW_PCT</th>\n",
       "      <th>AWAY_AWAY_LOSS_PCT</th>\n",
       "      <th>AWAY_SCORED_LAST_5</th>\n",
       "      <th>AWAY_CONCEDED_LAST_5</th>\n",
       "      <th>AWAY_AWAY_SCORED_LAST_5</th>\n",
       "      <th>AWAY_AWAY_CONCEDED_LAST_5</th>\n",
       "      <th>OUTCOME</th>\n",
       "    </tr>\n",
       "  </thead>\n",
       "  <tbody>\n",
       "    <tr>\n",
       "      <th>0</th>\n",
       "      <td>1951</td>\n",
       "      <td>689010</td>\n",
       "      <td>2021-07-10</td>\n",
       "      <td>2021</td>\n",
       "      <td>Palmeiras</td>\n",
       "      <td>Santos</td>\n",
       "      <td>1.53</td>\n",
       "      <td>6.81</td>\n",
       "      <td>4.02</td>\n",
       "      <td>73.333333</td>\n",
       "      <td>...</td>\n",
       "      <td>30.0</td>\n",
       "      <td>30.0</td>\n",
       "      <td>0.0</td>\n",
       "      <td>25.0</td>\n",
       "      <td>75.0</td>\n",
       "      <td>1.2</td>\n",
       "      <td>1.0</td>\n",
       "      <td>1.000000</td>\n",
       "      <td>2.000000</td>\n",
       "      <td>H</td>\n",
       "    </tr>\n",
       "    <tr>\n",
       "      <th>1</th>\n",
       "      <td>1952</td>\n",
       "      <td>689011</td>\n",
       "      <td>2021-07-10</td>\n",
       "      <td>2021</td>\n",
       "      <td>Sao Paulo</td>\n",
       "      <td>Bahia</td>\n",
       "      <td>1.90</td>\n",
       "      <td>4.36</td>\n",
       "      <td>3.37</td>\n",
       "      <td>26.666667</td>\n",
       "      <td>...</td>\n",
       "      <td>20.0</td>\n",
       "      <td>30.0</td>\n",
       "      <td>50.0</td>\n",
       "      <td>25.0</td>\n",
       "      <td>25.0</td>\n",
       "      <td>2.0</td>\n",
       "      <td>1.6</td>\n",
       "      <td>2.000000</td>\n",
       "      <td>1.500000</td>\n",
       "      <td>H</td>\n",
       "    </tr>\n",
       "    <tr>\n",
       "      <th>2</th>\n",
       "      <td>1953</td>\n",
       "      <td>689012</td>\n",
       "      <td>2021-07-10</td>\n",
       "      <td>2021</td>\n",
       "      <td>America MG</td>\n",
       "      <td>Atletico-MG</td>\n",
       "      <td>4.04</td>\n",
       "      <td>2.00</td>\n",
       "      <td>3.26</td>\n",
       "      <td>30.000000</td>\n",
       "      <td>...</td>\n",
       "      <td>10.0</td>\n",
       "      <td>30.0</td>\n",
       "      <td>60.0</td>\n",
       "      <td>0.0</td>\n",
       "      <td>40.0</td>\n",
       "      <td>1.6</td>\n",
       "      <td>1.2</td>\n",
       "      <td>0.666667</td>\n",
       "      <td>1.333333</td>\n",
       "      <td>A</td>\n",
       "    </tr>\n",
       "    <tr>\n",
       "      <th>3</th>\n",
       "      <td>1954</td>\n",
       "      <td>689015</td>\n",
       "      <td>2021-07-10</td>\n",
       "      <td>2021</td>\n",
       "      <td>Sport Recife</td>\n",
       "      <td>Fluminense</td>\n",
       "      <td>2.76</td>\n",
       "      <td>2.91</td>\n",
       "      <td>2.90</td>\n",
       "      <td>23.333333</td>\n",
       "      <td>...</td>\n",
       "      <td>50.0</td>\n",
       "      <td>20.0</td>\n",
       "      <td>20.0</td>\n",
       "      <td>60.0</td>\n",
       "      <td>20.0</td>\n",
       "      <td>0.6</td>\n",
       "      <td>1.2</td>\n",
       "      <td>0.500000</td>\n",
       "      <td>0.500000</td>\n",
       "      <td>A</td>\n",
       "    </tr>\n",
       "    <tr>\n",
       "      <th>4</th>\n",
       "      <td>1955</td>\n",
       "      <td>689014</td>\n",
       "      <td>2021-07-11</td>\n",
       "      <td>2021</td>\n",
       "      <td>Fortaleza</td>\n",
       "      <td>Corinthians</td>\n",
       "      <td>2.34</td>\n",
       "      <td>3.44</td>\n",
       "      <td>3.00</td>\n",
       "      <td>60.000000</td>\n",
       "      <td>...</td>\n",
       "      <td>50.0</td>\n",
       "      <td>20.0</td>\n",
       "      <td>40.0</td>\n",
       "      <td>60.0</td>\n",
       "      <td>0.0</td>\n",
       "      <td>1.0</td>\n",
       "      <td>0.6</td>\n",
       "      <td>1.000000</td>\n",
       "      <td>0.500000</td>\n",
       "      <td>H</td>\n",
       "    </tr>\n",
       "  </tbody>\n",
       "</table>\n",
       "<p>5 rows × 32 columns</p>\n",
       "</div>"
      ],
      "text/plain": [
       "   Unnamed: 0  GAME_ID   GAME_DATE  SEASON     HOME_TEAM    AWAY_TEAM  \\\n",
       "0        1951   689010  2021-07-10    2021     Palmeiras       Santos   \n",
       "1        1952   689011  2021-07-10    2021     Sao Paulo        Bahia   \n",
       "2        1953   689012  2021-07-10    2021    America MG  Atletico-MG   \n",
       "3        1954   689015  2021-07-10    2021  Sport Recife   Fluminense   \n",
       "4        1955   689014  2021-07-11    2021     Fortaleza  Corinthians   \n",
       "\n",
       "   HOME_ODDS  AWAY_ODDS  DRAW_ODDS  HOME_PTS_PCT  ...  AWAY_DRAW_PCT  \\\n",
       "0       1.53       6.81       4.02     73.333333  ...           30.0   \n",
       "1       1.90       4.36       3.37     26.666667  ...           20.0   \n",
       "2       4.04       2.00       3.26     30.000000  ...           10.0   \n",
       "3       2.76       2.91       2.90     23.333333  ...           50.0   \n",
       "4       2.34       3.44       3.00     60.000000  ...           50.0   \n",
       "\n",
       "   AWAY_LOSS_PCT  AWAY_AWAY_WIN_PCT  AWAY_AWAY_DRAW_PCT  AWAY_AWAY_LOSS_PCT  \\\n",
       "0           30.0                0.0                25.0                75.0   \n",
       "1           30.0               50.0                25.0                25.0   \n",
       "2           30.0               60.0                 0.0                40.0   \n",
       "3           20.0               20.0                60.0                20.0   \n",
       "4           20.0               40.0                60.0                 0.0   \n",
       "\n",
       "   AWAY_SCORED_LAST_5  AWAY_CONCEDED_LAST_5  AWAY_AWAY_SCORED_LAST_5  \\\n",
       "0                 1.2                   1.0                 1.000000   \n",
       "1                 2.0                   1.6                 2.000000   \n",
       "2                 1.6                   1.2                 0.666667   \n",
       "3                 0.6                   1.2                 0.500000   \n",
       "4                 1.0                   0.6                 1.000000   \n",
       "\n",
       "   AWAY_AWAY_CONCEDED_LAST_5  OUTCOME  \n",
       "0                   2.000000        H  \n",
       "1                   1.500000        H  \n",
       "2                   1.333333        A  \n",
       "3                   0.500000        A  \n",
       "4                   0.500000        H  \n",
       "\n",
       "[5 rows x 32 columns]"
      ]
     },
     "execution_count": 234,
     "metadata": {},
     "output_type": "execute_result"
    }
   ],
   "source": [
    "dataset.head()"
   ]
  },
  {
   "cell_type": "code",
   "execution_count": 235,
   "metadata": {},
   "outputs": [],
   "source": [
    "directory = \"models/{}\".format(season)\n",
    "if not os.path.exists(directory):\n",
    "    os.makedirs(directory)"
   ]
  },
  {
   "cell_type": "code",
   "execution_count": 236,
   "metadata": {},
   "outputs": [
    {
     "name": "stdout",
     "output_type": "stream",
     "text": [
      "\n",
      "Executing the logistic Regression model...\n"
     ]
    }
   ],
   "source": [
    "print('\\nExecuting the logistic Regression model...')\n",
    "Pkl_Filename = \"{}/LogisticRegressionModel.pkl\".format(directory)\n",
    "try:\n",
    "    with open(Pkl_Filename, 'rb') as file:  \n",
    "        logisticRegression = pickle.load(file)\n",
    "except:\n",
    "    logisticRegression = logistic_regression(dataset_train)\n",
    "    with open(Pkl_Filename, 'wb') as file:  \n",
    "        pickle.dump(logisticRegression, file)\n",
    "results.append(dict(model='Logistic Regression',cm=logisticRegression[0], acc=logisticRegression[1], classifier=logisticRegression[2]))\n"
   ]
  },
  {
   "cell_type": "code",
   "execution_count": 237,
   "metadata": {},
   "outputs": [
    {
     "name": "stdout",
     "output_type": "stream",
     "text": [
      "\n",
      "Executing the Stochastic Gradient Descent model...\n"
     ]
    }
   ],
   "source": [
    "print('\\nExecuting the Stochastic Gradient Descent model...')\n",
    "Pkl_Filename = \"{}/StochasticGradientDescent.pkl\".format(directory)\n",
    "try:\n",
    "    with open(Pkl_Filename, 'rb') as file:  \n",
    "        sgd = pickle.load(file)\n",
    "except:\n",
    "    sgd = stochastic_gradient_descent(dataset_train)\n",
    "    with open(Pkl_Filename, 'wb') as file:  \n",
    "        pickle.dump(sgd, file)\n",
    "results.append(dict(model='Stochastic Gradient Descent',cm=sgd[0], acc=sgd[1], classifier=sgd[2]))\n"
   ]
  },
  {
   "cell_type": "code",
   "execution_count": 238,
   "metadata": {},
   "outputs": [
    {
     "name": "stdout",
     "output_type": "stream",
     "text": [
      "\n",
      "Executing the KNN model...\n"
     ]
    }
   ],
   "source": [
    "print('\\nExecuting the KNN model...')\n",
    "Pkl_Filename = \"{}/KNN.pkl\".format(directory)\n",
    "try:\n",
    "    with open(Pkl_Filename, 'rb') as file:  \n",
    "        knn_model = pickle.load(file)\n",
    "except:\n",
    "    knn_model = knn(dataset_train)\n",
    "    with open(Pkl_Filename, 'wb') as file:  \n",
    "        pickle.dump(knn_model, file)\n",
    "results.append(dict(model='KNN',cm=knn_model[0], acc=knn_model[1], classifier=knn_model[2]))\n"
   ]
  },
  {
   "cell_type": "code",
   "execution_count": 239,
   "metadata": {},
   "outputs": [
    {
     "name": "stdout",
     "output_type": "stream",
     "text": [
      "Executing the Kernel SVM model...\n"
     ]
    }
   ],
   "source": [
    "print('Executing the Kernel SVM model...')\n",
    "Pkl_Filename = \"{}/KernelSVM.pkl\".format(directory)\n",
    "try:\n",
    "    with open(Pkl_Filename, 'rb') as file:  \n",
    "        svm = pickle.load(file)\n",
    "except:\n",
    "    svm = kernel_svm(dataset_train)\n",
    "    with open(Pkl_Filename, 'wb') as file:  \n",
    "        pickle.dump(svm, file)\n",
    "results.append(dict(model='Kernel SVM',cm=svm[0], acc=svm[1], classifier=svm[2]))"
   ]
  },
  {
   "cell_type": "code",
   "execution_count": 240,
   "metadata": {},
   "outputs": [
    {
     "name": "stdout",
     "output_type": "stream",
     "text": [
      "Executing the Naive Bayes model...\n"
     ]
    }
   ],
   "source": [
    "print('Executing the Naive Bayes model...')\n",
    "Pkl_Filename = \"{}/NaiveBayes.pkl\".format(directory)\n",
    "try:\n",
    "    with open(Pkl_Filename, 'rb') as file:  \n",
    "        nb = pickle.load(file)\n",
    "except:\n",
    "    nb = naive_bayes(dataset_train)\n",
    "    with open(Pkl_Filename, 'wb') as file:  \n",
    "        pickle.dump(nb, file)\n",
    "results.append(dict(model='Naive Bayes',cm=nb[0], acc=nb[1], classifier=nb[2]))"
   ]
  },
  {
   "cell_type": "code",
   "execution_count": 241,
   "metadata": {},
   "outputs": [
    {
     "name": "stdout",
     "output_type": "stream",
     "text": [
      "Executing the Random Forest model...\n"
     ]
    }
   ],
   "source": [
    "print('Executing the Random Forest model...')\n",
    "Pkl_Filename = \"{}/RandomForest.pkl\".format(directory)\n",
    "try:\n",
    "    with open(Pkl_Filename, 'rb') as file:  \n",
    "        rf = pickle.load(file)\n",
    "except:\n",
    "    rf = random_forest(dataset_train)\n",
    "    with open(Pkl_Filename, 'wb') as file:  \n",
    "        pickle.dump(rf, file)\n",
    "results.append(dict(model='Random Forest',cm=rf[0], acc=rf[1], classifier=rf[2]))"
   ]
  },
  {
   "cell_type": "code",
   "execution_count": 242,
   "metadata": {},
   "outputs": [
    {
     "name": "stdout",
     "output_type": "stream",
     "text": [
      "Executing the Voting Classifier model...\n"
     ]
    }
   ],
   "source": [
    "print('Executing the Voting Classifier model...')\n",
    "Pkl_Filename = \"{}/VotingClassifier.pkl\".format(directory)\n",
    "\n",
    "estimators = [('lr', logisticRegression[2]), ('svm', svm[2]), ('nb', nb[2]), ('sgd', sgd[2])]\n",
    "weights = [1,1,1,1]\n",
    "\n",
    "try:\n",
    "    with open(Pkl_Filename, 'rb') as file:  \n",
    "        vc = pickle.load(file)\n",
    "except:\n",
    "    vc = voting_classifier(dataset, estimators, weights)\n",
    "    with open(Pkl_Filename, 'wb') as file:  \n",
    "        pickle.dump(vc, file)\n",
    "results.append(dict(model='Voting Classifier',cm=vc[0], acc=vc[1], classifier=vc[2]))"
   ]
  },
  {
   "cell_type": "code",
   "execution_count": 243,
   "metadata": {},
   "outputs": [
    {
     "name": "stdout",
     "output_type": "stream",
     "text": [
      "\n",
      "Getting the feature correlation matrix...\n"
     ]
    },
    {
     "data": {
      "image/png": "[encoded data removed]",
      "text/plain": [
       "<Figure size 936x936 with 2 Axes>"
      ]
     },
     "metadata": {},
     "output_type": "display_data"
    }
   ],
   "source": [
    "print('\\nGetting the feature correlation matrix...')\n",
    "\n",
    "import seaborn as sns\n",
    "\n",
    "try:\n",
    "    dependent_variables = dataset.iloc[:,5:20]\n",
    "    corrmat = dependent_variables.corr()\n",
    "    top_corr_features = corrmat.index\n",
    "    plt.figure(figsize=(13,13))\n",
    "    title = 'Feature Correlation'\n",
    "    plt.title(title)\n",
    "    #plot heat map\n",
    "    sns.set(font_scale=0.6)\n",
    "    g=sns.heatmap(dependent_variables.corr(),annot=True,cmap='Blues', fmt='0.1g')\n",
    "    plt.savefig('charts/{}.png'.format(title.replace(' ','_').lower()), dpi=300)\n",
    "    plt.show()\n",
    "except:\n",
    "    print('No correlation matrix for the selected model.')"
   ]
  },
  {
   "cell_type": "code",
   "execution_count": 244,
   "metadata": {},
   "outputs": [],
   "source": [
    "directory = \"scalers\"\n",
    "if not os.path.exists(directory):\n",
    "    os.makedirs(directory)\n",
    "\n",
    "from sklearn.preprocessing import StandardScaler\n",
    "sc_train = StandardScaler()\n",
    "sc_train.fit(X_train)\n",
    "\n",
    "Pkl_ScalerName = \"{}/{}.pkl\".format(directory, season)\n",
    "with open(Pkl_ScalerName, 'wb') as file:  \n",
    "    pickle.dump(sc_train, file)\n",
    "\n",
    "X_transformed = sc_train.transform(X)"
   ]
  },
  {
   "cell_type": "code",
   "execution_count": 245,
   "metadata": {},
   "outputs": [
    {
     "name": "stdout",
     "output_type": "stream",
     "text": [
      "\n",
      "Getting classification model with the best predictions...\n",
      "Using predictions from Logistic Regression model: 0.532608695652174\n",
      "Using predictions from Kernel SVM model: 0.5398550724637681\n",
      "Using predictions from Voting Classifier model: 0.5652173913043478\n"
     ]
    }
   ],
   "source": [
    "print('\\nGetting classification model with the best predictions...')\n",
    "\n",
    "modelCont = 0\n",
    "highestAcc = 0\n",
    "probs = dict()\n",
    "total_invested = dict()\n",
    "while True:\n",
    "    try:\n",
    "        total_invested[results[modelCont]['model']] = 0\n",
    "        results[modelCont]['pred'] = results[modelCont]['classifier'].predict(X_transformed)\n",
    "        probs[results[modelCont]['model']] = results[modelCont]['classifier'].predict_proba(X_transformed)\n",
    "        results[modelCont]['acc_test'] = accuracy_score(y, results[modelCont]['pred'])\n",
    "        if results[modelCont]['acc_test'] > highestAcc:\n",
    "            y_pred = results[modelCont]['pred']\n",
    "            highestAcc = results[modelCont]['acc_test']\n",
    "            print('Using predictions from {} model: {}'.format(results[modelCont]['model'], results[modelCont]['acc_test']))\n",
    "        modelCont += 1\n",
    "    except IndexError:\n",
    "        break\n",
    "\n",
    "results.sort(key=lambda x: x['acc_test'], reverse=True)"
   ]
  },
  {
   "cell_type": "code",
   "execution_count": 246,
   "metadata": {},
   "outputs": [
    {
     "name": "stdout",
     "output_type": "stream",
     "text": [
      "\n",
      "Results Classification:\n",
      "Voting Classifier:\t0.5652\n",
      "Kernel SVM:\t0.5399\n",
      "Logistic Regression:\t0.5326\n",
      "Random Forest:\t0.5181\n",
      "KNN:\t0.4203\n",
      "Stochastic Gradient Descent:\t0.4058\n",
      "Naive Bayes:\t0.4022\n",
      "Baseline Odds:\t53.9855\n"
     ]
    }
   ],
   "source": [
    "odds_baseline = dataset[((dataset['HOME_ODDS'] <= dataset['AWAY_ODDS']) & (dataset['HOME_ODDS'] <= dataset['DRAW_ODDS']) & (dataset['OUTCOME'] == 'H')) | \n",
    "                   ((dataset['AWAY_ODDS'] <= dataset['HOME_ODDS']) & (dataset['AWAY_ODDS'] <= dataset['DRAW_ODDS']) & (dataset['OUTCOME'] == 'A')) |\n",
    "                       ((dataset['DRAW_ODDS'] <= dataset['HOME_ODDS']) & (dataset['DRAW_ODDS'] <= dataset['AWAY_ODDS']) & (dataset['OUTCOME'] == 'D'))]\n",
    "\n",
    "print('\\nResults Classification:')\n",
    "results.sort(key=lambda x: x['acc_test'], reverse=True)\n",
    "[print('{}:\\t{:.4f}'.format(x['model'], x['acc_test'])) for x in results]\n",
    "print('Baseline Odds:\\t{:.4f}'.format(100*len(odds_baseline.index)/len(dataset.index)))"
   ]
  },
  {
   "cell_type": "code",
   "execution_count": 247,
   "metadata": {},
   "outputs": [
    {
     "name": "stdout",
     "output_type": "stream",
     "text": [
      "\n",
      "Getting the probabilities of the best model possible...\n",
      "Using the Voting Classifier model for probability tracking!\n"
     ]
    }
   ],
   "source": [
    "print('\\nGetting the probabilities of the best model possible...')\n",
    "\n",
    "for res in results:\n",
    "    try:\n",
    "        y_prob = res['classifier'].predict_proba(X_transformed)\n",
    "        print('Using the {} model for probability tracking!'.format(res['model']))\n",
    "        break\n",
    "    except AttributeError:\n",
    "        continue"
   ]
  },
  {
   "cell_type": "code",
   "execution_count": 248,
   "metadata": {},
   "outputs": [
    {
     "name": "stdout",
     "output_type": "stream",
     "text": [
      "\n",
      "Displaying data for the Voting Classifier model...\n",
      "[[21 20 22]\n",
      " [10 40 28]\n",
      " [10 30 95]]\n",
      "0.5652173913043478\n"
     ]
    }
   ],
   "source": [
    "print('\\nDisplaying data for the {} model...'.format(results[0]['model']))\n",
    "cm = confusion_matrix(y.ravel(), y_pred.ravel())\n",
    "acc_score = accuracy_score(y, y_pred)\n",
    "print(cm)\n",
    "print(acc_score)"
   ]
  },
  {
   "cell_type": "code",
   "execution_count": 249,
   "metadata": {},
   "outputs": [
    {
     "name": "stdout",
     "output_type": "stream",
     "text": [
      "[0.07679587 0.08420126 0.83900287] H\n",
      "[0.52041905 0.23662724 0.24295371] A\n",
      "[0.70151337 0.18463673 0.1138499 ] A\n",
      "[0.26227311 0.5509805  0.18674639] D\n",
      "[0.10047575 0.35365461 0.54586964] H\n",
      "[0.3268399 0.2270166 0.4461435] H\n",
      "[0.2021636  0.43047676 0.36735963] D\n",
      "[0.38286309 0.25553    0.36160691] A\n",
      "[0.53395772 0.30997415 0.15606813] A\n",
      "[0.25519855 0.2074206  0.53738086] H\n"
     ]
    }
   ],
   "source": [
    "for i in range(10):\n",
    "    print(y_prob[i,:], y_pred[i])"
   ]
  },
  {
   "cell_type": "code",
   "execution_count": 250,
   "metadata": {},
   "outputs": [],
   "source": [
    "def get_pred_odds(probs):\n",
    "    return 1/probs[0], 1/probs[1], 1/probs[2] # Away, Draw, Home"
   ]
  },
  {
   "cell_type": "code",
   "execution_count": 251,
   "metadata": {},
   "outputs": [
    {
     "name": "stdout",
     "output_type": "stream",
     "text": [
      "\n",
      "Getting data from the regular models for visualization...\n"
     ]
    },
    {
     "name": "stderr",
     "output_type": "stream",
     "text": [
      "C:\\Users\\caiog\\AppData\\Local\\Temp\\ipykernel_1928\\1250689490.py:2: RuntimeWarning: divide by zero encountered in double_scalars\n",
      "  return 1/probs[0], 1/probs[1], 1/probs[2] # Away, Draw, Home\n"
     ]
    }
   ],
   "source": [
    "print(\"\\nGetting data from the regular models for visualization...\")\n",
    "right = 0\n",
    "total = 0\n",
    "profit = 0\n",
    "money_by_date = []\n",
    "bets_tracking_odds = [0]\n",
    "money_by_team = dict()\n",
    "bets = []\n",
    "money_by_date.append([dataset.iloc[0,2], dict(zip([x['model'] for x in results], [0 for x in results])),  dict(zip([x['model'] for x in results], [0 for x in results]))])\n",
    "\n",
    "for index, game in dataset.iterrows():\n",
    "    if game['GAME_DATE'] != money_by_date[-1][0]:    \n",
    "        bets_tracking_odds.append(bets_tracking_odds[-1])\n",
    "        money_by_date.append([game['GAME_DATE'],  dict(zip([x['model'] for x in results], [0 for x in results])), dict(money_by_date[-1][2])])\n",
    "\n",
    "    game_money = 0\n",
    "    bet_value = get_bet_value(y_prob[index,0])\n",
    "    \n",
    "    if game['HOME_TEAM'] not in money_by_team:\n",
    "        money_by_team[game['HOME_TEAM']] = 0\n",
    "    if game['AWAY_TEAM'] not in money_by_team:\n",
    "        money_by_team[game['AWAY_TEAM']] = 0\n",
    "    \n",
    "    pred_odds_away, pred_odds_draw, pred_odds_home  = get_pred_odds(y_prob[index,:])\n",
    "\n",
    "    game_money = check_model_performance_on_game(game, y_pred[index], bet_value, pred_odds_home, pred_odds_away, pred_odds_draw)\n",
    "    if game_money != 0:\n",
    "        if game['OUTCOME'] == y_pred[index] and game['OUTCOME'] == 'H':\n",
    "            bets.append(['HOME', game['HOME_ODDS'], pred_odds_home, 1])\n",
    "            money_by_team[game['HOME_TEAM']] += game_money\n",
    "        elif game['OUTCOME'] == y_pred[index] and game['OUTCOME'] == 'A':\n",
    "            bets.append(['AWAY', game['AWAY_ODDS'], pred_odds_away, 1])\n",
    "            money_by_team[game['AWAY_TEAM']] += game_money\n",
    "        elif game['OUTCOME'] == y_pred[index] and game['OUTCOME'] == 'D':\n",
    "            bets.append(['DRAW', game['DRAW_ODDS'], pred_odds_draw, 1])\n",
    "        else:\n",
    "            if y_pred[index] == 'H':\n",
    "                bets.append(['HOME', game['HOME_ODDS'], pred_odds_home, 0])\n",
    "                money_by_team[game['HOME_TEAM']] += game_money\n",
    "            elif y_pred[index] == 'A':\n",
    "                bets.append(['AWAY', game['AWAY_ODDS'], pred_odds_away, 0])\n",
    "                money_by_team[game['AWAY_TEAM']] += game_money\n",
    "            else:\n",
    "                bets.append(['DRAW', game['DRAW_ODDS'], pred_odds_draw, 0])\n",
    "\n",
    "        if game_money > 0:\n",
    "            right += 1\n",
    "        total += 1\n",
    "        \n",
    "    profit += game_money\n",
    "    bets_tracking_odds[-1] += check_game_with_odds(game, bet_value, pred_odds_home, pred_odds_away, pred_odds_draw)\n",
    "\n",
    "    for model in money_by_date[-1][1]:\n",
    "        game_money_model = 0\n",
    "        if probs[model][index,0] != 1 and probs[model][index,0] != 0:\n",
    "            bet_value = get_bet_value(probs[model][index,1])\n",
    "            prediction = next(x['pred'][index] for x in results if x['model'] == model)\n",
    "            pred_odds_away, pred_odds_draw, pred_odds_home = get_pred_odds(probs[model][index, :])\n",
    "            game_money_model = check_model_performance_on_game(game, prediction, bet_value, pred_odds_home, pred_odds_away, pred_odds_draw)\n",
    "        if game_money_model != 0:\n",
    "            total_invested[model] += bet_value\n",
    "        money_by_date[-1][1][model] += game_money_model\n",
    "        money_by_date[-1][2][model] += game_money_model\n",
    "\n"
   ]
  },
  {
   "cell_type": "code",
   "execution_count": 252,
   "metadata": {},
   "outputs": [
    {
     "name": "stdout",
     "output_type": "stream",
     "text": [
      "Bets Result: 66/109 => 60.55%\n"
     ]
    }
   ],
   "source": [
    "print(\"Bets Result: {}/{} => {:.2f}%\".format(right, total, right*100/total))"
   ]
  },
  {
   "cell_type": "code",
   "execution_count": 253,
   "metadata": {},
   "outputs": [
    {
     "name": "stdout",
     "output_type": "stream",
     "text": [
      "\n",
      "Profit and margin by model...\n",
      "Model: Voting Classifier \t// Invested: 1090 \t// Won: 480.40 \t// Margin: 44.07%\n",
      "Model: Kernel SVM \t// Invested: 1180 \t// Won: 341.10 \t// Margin: 28.91%\n",
      "Model: Logistic Regression \t// Invested: 1080 \t// Won: 262.30 \t// Margin: 24.29%\n",
      "Model: Random Forest \t// Invested: 950 \t// Won: 206.60 \t// Margin: 21.75%\n",
      "Model: KNN \t// Invested: 930 \t// Won: 60.60 \t// Margin: 6.52%\n",
      "Model: Stochastic Gradient Descent \t// Invested: 990 \t// Won: 102.50 \t// Margin: 10.35%\n",
      "Model: Naive Bayes \t// Invested: 1210 \t// Won: -126.50 \t// Margin: -10.45%\n"
     ]
    }
   ],
   "source": [
    "print('\\nProfit and margin by model...')\n",
    "for model in money_by_date[-1][1]:\n",
    "    if total_invested[model] > 0:\n",
    "        print('Model: {} \\t// Invested: {} \\t// Won: {:.2f} \\t// Margin: {:.2f}%'.format(model, total_invested[model], money_by_date[-1][2][model], 100*money_by_date[-1][2][model]/total_invested[model]))"
   ]
  },
  {
   "cell_type": "code",
   "execution_count": 254,
   "metadata": {},
   "outputs": [
    {
     "name": "stdout",
     "output_type": "stream",
     "text": [
      "\n",
      "Plotting charts...\n"
     ]
    }
   ],
   "source": [
    "print('\\nPlotting charts...')\n",
    "\n",
    "models_tracking =  [np.array([x[2][model] for x in money_by_date], dtype=np.float32) for model in money_by_date[-1][1]]\n",
    "\n",
    "money_by_date = np.array(money_by_date, dtype=str)\n",
    "correct_bets = list(filter(lambda x: x[3] == 1, bets))\n",
    "missed_bets = list(filter(lambda x: x[3] == 0, bets))\n",
    "correct_bets_odds = np.array(list(map(lambda x: x[1], correct_bets)))\n",
    "missed_bets_odds = np.array(list(map(lambda x: x[1], missed_bets)))\n",
    "correct_bets_home = np.array(list(map(lambda x: x[0], correct_bets)))\n",
    "missed_bets_home = np.array(list(map(lambda x: x[0], missed_bets)))\n",
    "\n",
    "money_by_team = dict(sorted(money_by_team.items(), key=lambda x: x[1]))\n",
    "money_by_team_labels = np.array(list(money_by_team.keys()), dtype=str)\n",
    "money_by_team_values = np.array(list(money_by_team.values()), dtype=np.float32)"
   ]
  },
  {
   "cell_type": "code",
   "execution_count": 255,
   "metadata": {
    "scrolled": false
   },
   "outputs": [
    {
     "data": {
      "image/png": "[encoded data removed]",
      "text/plain": [
       "<Figure size 432x288 with 1 Axes>"
      ]
     },
     "metadata": {},
     "output_type": "display_data"
    },
    {
     "data": {
      "image/png": "[encoded data removed]",
      "text/plain": [
       "<Figure size 432x288 with 1 Axes>"
      ]
     },
     "metadata": {},
     "output_type": "display_data"
    },
    {
     "data": {
      "image/png": "[encoded data removed]",
      "text/plain": [
       "<Figure size 432x288 with 1 Axes>"
      ]
     },
     "metadata": {},
     "output_type": "display_data"
    },
    {
     "data": {
      "image/png": "[encoded data removed]",
      "text/plain": [
       "<Figure size 432x288 with 1 Axes>"
      ]
     },
     "metadata": {},
     "output_type": "display_data"
    },
    {
     "data": {
      "image/png": "[encoded data removed]",
      "text/plain": [
       "<Figure size 432x288 with 1 Axes>"
      ]
     },
     "metadata": {},
     "output_type": "display_data"
    }
   ],
   "source": [
    "plot_hist('Missed Bets by Odds', 'Odds', 'X Times', missed_bets_odds)\n",
    "\n",
    "plot_hist('Correct Bets by Odds', 'Odds', 'X Times', correct_bets_odds)\n",
    "\n",
    "plot_pie_chart('Correct Bets by Home-Away', ['Home', 'Away', 'Draw'], correct_bets_home)\n",
    "\n",
    "plot_pie_chart('Missed Bets by Home-Away', ['Home', 'Away', 'Draw'], missed_bets_home)\n",
    "\n",
    "plot_bar('Profit by Team', 'Teams', 'Profit', money_by_team_labels, money_by_team_values)"
   ]
  },
  {
   "cell_type": "code",
   "execution_count": 256,
   "metadata": {},
   "outputs": [
    {
     "data": {
      "image/png": "[encoded data removed]",
      "text/plain": [
       "<Figure size 432x288 with 1 Axes>"
      ]
     },
     "metadata": {},
     "output_type": "display_data"
    }
   ],
   "source": [
    "xpoints = money_by_date[:,0].astype(np.datetime64)\n",
    "\n",
    "plt.gca().xaxis.set_major_formatter(mdates.DateFormatter('%Y-%m-%d'))\n",
    "plt.gca().xaxis.set_major_locator(mdates.DayLocator(interval=15))\n",
    "for model in models_tracking:\n",
    "    plt.plot(xpoints, model)\n",
    "plt.plot(xpoints, bets_tracking_odds)\n",
    "\n",
    "title = \"Profit by Date\"\n",
    "plt.legend([x['model'] for x in results] + ['Odds Baseline'], loc=(1.04,0))\n",
    "plt.ylabel(\"Profit($)\")\n",
    "plt.xlabel(\"Date\")\n",
    "plt.title(title)\n",
    "plt.gcf().autofmt_xdate()\n",
    "plt.savefig('charts/{}.png'.format(title.replace(' ','_').lower()), dpi=300)\n",
    "plt.show()"
   ]
  },
  {
   "cell_type": "code",
   "execution_count": null,
   "metadata": {},
   "outputs": [],
   "source": []
  }
 ],
 "metadata": {
  "kernelspec": {
   "display_name": "Python 3 (ipykernel)",
   "language": "python",
   "name": "python3"
  },
  "language_info": {
   "codemirror_mode": {
    "name": "ipython",
    "version": 3
   },
   "file_extension": ".py",
   "mimetype": "text/x-python",
   "name": "python",
   "nbconvert_exporter": "python",
   "pygments_lexer": "ipython3",
   "version": "3.9.12"
  }
 },
 "nbformat": 4,
 "nbformat_minor": 2
}
