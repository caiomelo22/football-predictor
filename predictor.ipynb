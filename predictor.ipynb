{
 "cells": [
  {
   "cell_type": "code",
   "execution_count": 264,
   "metadata": {},
   "outputs": [],
   "source": [
    "import sys  \n",
    "sys.path.insert(0, './machine_learning_models')\n",
    "\n",
    "from logistic_regression import logistic_regression\n",
    "from stochastic_gradient_descent import stochastic_gradient_descent\n",
    "from knn import knn\n",
    "from kernel_svm import kernel_svm\n",
    "from naive_bayes import naive_bayes\n",
    "from random_forest import random_forest\n",
    "from voting_classifier import voting_classifier\n",
    "import os\n",
    "import pandas as pd\n",
    "import numpy as np\n",
    "import matplotlib.pyplot as plt\n",
    "import datetime as dt\n",
    "import matplotlib.dates as mdates\n",
    "from sklearn.metrics import confusion_matrix, accuracy_score\n",
    "import pickle"
   ]
  },
  {
   "cell_type": "code",
   "execution_count": 265,
   "metadata": {},
   "outputs": [],
   "source": [
    "league_id = 39 # Choose the league id\n",
    "min_threshold = 1.75\n",
    "max_threshold = 10"
   ]
  },
  {
   "cell_type": "code",
   "execution_count": 266,
   "metadata": {},
   "outputs": [],
   "source": [
    "def plot_chart(title, x_label, y_label):\n",
    "    plt.ylabel(y_label)\n",
    "    plt.xlabel(x_label)\n",
    "    plt.title(title)\n",
    "    plt.savefig('charts/{}.png'.format(title.replace(' ','_').lower()), dpi=300)\n",
    "    plt.show()\n",
    "\n",
    "def plot_hist(title, x_label, y_label, data):\n",
    "    plt.hist(data, density=False, bins=20)  # density=False would make counts\n",
    "    plot_chart(title, x_label, y_label)\n",
    "    \n",
    "def plot_bar(title, x_label, y_label, x_data, y_data):\n",
    "    ax= plt.subplot()\n",
    "    plt.bar(x_data, y_data) \n",
    "    # plt.setp(ax.get_xticklabels(), rotation=30, ha='right')\n",
    "    plt.xticks(fontsize=10, rotation=90)\n",
    "    plot_chart(title, x_label, y_label)\n",
    "    \n",
    "def plot_pie_chart(title, labels, data):\n",
    "    data_converted = np.unique(data, return_counts=True)[1]\n",
    "    plt.pie(data_converted, labels = labels, startangle = 90, shadow = True, autopct='%.2f%%')\n",
    "    plt.title(title)\n",
    "    plt.savefig('charts/{}.png'.format(title.replace(' ','_').lower()), dpi=300)\n",
    "    plt.show() \n",
    "    \n",
    "def get_season_year(season_id):\n",
    "    if len(str(season_id)) == 4:\n",
    "        return int(season_id)\n",
    "    return int(str(season_id)[1:])\n",
    "\n",
    "def check_bet_worth(prediction, odds_home, odds_away, odds_draw, pred_odds_home, pred_odds_away, pred_odds_draw):\n",
    "    return ((prediction == 'H' and (pred_odds_home < odds_home) and (odds_home > min_threshold and odds_home < max_threshold)) or \n",
    "            (prediction == 'A' and (pred_odds_away < odds_away) and (odds_away > min_threshold and odds_away < max_threshold)) or\n",
    "            (prediction == 'D' and (pred_odds_draw < odds_draw) and (odds_draw > min_threshold and odds_draw < max_threshold)))\n",
    "\n",
    "def check_game_with_odds(game, bet_value, pred_odds_home, pred_odds_away, pred_odds_draw):\n",
    "    game_money = 0\n",
    "    \n",
    "    prediction = 'D'\n",
    "    if game['HOME_ODDS'] > game['AWAY_ODDS']:\n",
    "        prediction = 'H'\n",
    "    elif game['AWAY_ODDS'] > game['HOME_ODDS']:\n",
    "        prediction = 'A'\n",
    "    \n",
    "    if check_bet_worth(prediction, game['HOME_ODDS'], game['AWAY_ODDS'], game['DRAW_ODDS'], pred_odds_home, pred_odds_away, pred_odds_draw):\n",
    "        if game['OUTCOME'] == prediction and game['OUTCOME'] == 'H':\n",
    "            game_money = (bet_value*game['HOME_ODDS'] - bet_value)\n",
    "        elif game['OUTCOME'] == prediction and game['OUTCOME'] == 'A':\n",
    "            game_money = (bet_value*game['AWAY_ODDS'] - bet_value)\n",
    "        elif game['OUTCOME'] == prediction and game['OUTCOME'] == 'D':\n",
    "            game_money = (bet_value*game['DRAW_ODDS'] - bet_value)\n",
    "        else:\n",
    "            game_money = -bet_value\n",
    "    return game_money\n",
    "\n",
    "def check_model_performance_on_game(game, prediction, bet_value, odds_home, odds_away, odds_draw):\n",
    "    game_money = 0\n",
    "    if check_bet_worth(prediction, game['HOME_ODDS'], game['AWAY_ODDS'], game['DRAW_ODDS'], odds_home, odds_away, odds_draw):\n",
    "        if game['OUTCOME'] == prediction and game['OUTCOME'] == 'H':\n",
    "            game_money = (bet_value*game['HOME_ODDS'] - bet_value)\n",
    "        elif game['OUTCOME'] == prediction and game['OUTCOME'] == 'A':\n",
    "            game_money = (bet_value*game['AWAY_ODDS'] - bet_value)\n",
    "        elif game['OUTCOME'] == prediction and game['OUTCOME'] == 'D':\n",
    "            game_money = (bet_value*game['DRAW_ODDS'] - bet_value)\n",
    "        else:\n",
    "            game_money = -bet_value\n",
    "    return game_money\n",
    "\n",
    "def get_bet_value(prob):\n",
    "#     bet_value = 0 \n",
    "#     if prob >= 0.5:\n",
    "#         bet_value = 10*prob\n",
    "#     else:\n",
    "#         bet_value = 10*abs(1-prob)\n",
    "    bet_value = 10\n",
    "    return bet_value"
   ]
  },
  {
   "cell_type": "code",
   "execution_count": 292,
   "metadata": {},
   "outputs": [
    {
     "name": "stdout",
     "output_type": "stream",
     "text": [
      "\n",
      "Getting data for the model...\n"
     ]
    }
   ],
   "source": [
    "print('\\nGetting data for the model...')\n",
    "\n",
    "season_file = '2012-2022'\n",
    "\n",
    "first_season_train = 2012\n",
    "last_season_train = 2021\n",
    "\n",
    "season = \"{}-{}\".format(first_season_train, last_season_train)\n",
    "\n",
    "whole_dataset = (pd.read_csv(f'./leagues/{league_id}/data/{season_file}.csv')).dropna()\n",
    "whole_dataset['GAME_DATE'] = pd.to_datetime(whole_dataset['GAME_DATE']).dt.date\n",
    "\n",
    "dataset_train = whole_dataset.loc[(whole_dataset['SEASON'] >= first_season_train) & (whole_dataset['SEASON'] <= last_season_train)].reset_index(drop=True)\n",
    "\n",
    "first_season_test = 2021\n",
    "last_season_test = 2021\n",
    "\n",
    "dataset = whole_dataset.loc[(whole_dataset['SEASON'] >= first_season_test) & (whole_dataset['SEASON'] <= last_season_test)].reset_index(drop=True)\n",
    "\n",
    "results = []\n",
    "\n",
    "X_train = dataset_train.iloc[:, 6:-1].values\n",
    "X = dataset.iloc[:, 6:-1].values\n",
    "y = dataset.iloc[:, -1].values"
   ]
  },
  {
   "cell_type": "code",
   "execution_count": 293,
   "metadata": {},
   "outputs": [
    {
     "data": {
      "text/html": [
       "<div>\n",
       "<style scoped>\n",
       "    .dataframe tbody tr th:only-of-type {\n",
       "        vertical-align: middle;\n",
       "    }\n",
       "\n",
       "    .dataframe tbody tr th {\n",
       "        vertical-align: top;\n",
       "    }\n",
       "\n",
       "    .dataframe thead th {\n",
       "        text-align: right;\n",
       "    }\n",
       "</style>\n",
       "<table border=\"1\" class=\"dataframe\">\n",
       "  <thead>\n",
       "    <tr style=\"text-align: right;\">\n",
       "      <th></th>\n",
       "      <th>Unnamed: 0</th>\n",
       "      <th>GAME_ID</th>\n",
       "      <th>GAME_DATE</th>\n",
       "      <th>SEASON</th>\n",
       "      <th>HOME_TEAM</th>\n",
       "      <th>AWAY_TEAM</th>\n",
       "      <th>HOME_ODDS</th>\n",
       "      <th>AWAY_ODDS</th>\n",
       "      <th>DRAW_ODDS</th>\n",
       "      <th>HOME_PTS_PCT</th>\n",
       "      <th>...</th>\n",
       "      <th>AWAY_DRAW_PCT</th>\n",
       "      <th>AWAY_LOSS_PCT</th>\n",
       "      <th>AWAY_AWAY_WIN_PCT</th>\n",
       "      <th>AWAY_AWAY_DRAW_PCT</th>\n",
       "      <th>AWAY_AWAY_LOSS_PCT</th>\n",
       "      <th>AWAY_SCORED_LAST_5</th>\n",
       "      <th>AWAY_CONCEDED_LAST_5</th>\n",
       "      <th>AWAY_AWAY_SCORED_LAST_5</th>\n",
       "      <th>AWAY_AWAY_CONCEDED_LAST_5</th>\n",
       "      <th>OUTCOME</th>\n",
       "    </tr>\n",
       "  </thead>\n",
       "  <tbody>\n",
       "    <tr>\n",
       "      <th>0</th>\n",
       "      <td>0</td>\n",
       "      <td>193537</td>\n",
       "      <td>2012-11-10</td>\n",
       "      <td>2012</td>\n",
       "      <td>Arsenal</td>\n",
       "      <td>Fulham</td>\n",
       "      <td>1.54</td>\n",
       "      <td>6.31</td>\n",
       "      <td>4.11</td>\n",
       "      <td>50.000000</td>\n",
       "      <td>...</td>\n",
       "      <td>30.0</td>\n",
       "      <td>30.0</td>\n",
       "      <td>20.0</td>\n",
       "      <td>40.0</td>\n",
       "      <td>40.0</td>\n",
       "      <td>1.8</td>\n",
       "      <td>1.8</td>\n",
       "      <td>2.5</td>\n",
       "      <td>2.5</td>\n",
       "      <td>D</td>\n",
       "    </tr>\n",
       "    <tr>\n",
       "      <th>1</th>\n",
       "      <td>1</td>\n",
       "      <td>193540</td>\n",
       "      <td>2012-11-10</td>\n",
       "      <td>2012</td>\n",
       "      <td>Southampton</td>\n",
       "      <td>Swansea</td>\n",
       "      <td>2.49</td>\n",
       "      <td>2.80</td>\n",
       "      <td>3.43</td>\n",
       "      <td>13.333333</td>\n",
       "      <td>...</td>\n",
       "      <td>30.0</td>\n",
       "      <td>40.0</td>\n",
       "      <td>25.0</td>\n",
       "      <td>0.0</td>\n",
       "      <td>75.0</td>\n",
       "      <td>1.0</td>\n",
       "      <td>1.4</td>\n",
       "      <td>0.0</td>\n",
       "      <td>1.5</td>\n",
       "      <td>D</td>\n",
       "    </tr>\n",
       "    <tr>\n",
       "      <th>2</th>\n",
       "      <td>2</td>\n",
       "      <td>193541</td>\n",
       "      <td>2012-11-10</td>\n",
       "      <td>2012</td>\n",
       "      <td>Stoke</td>\n",
       "      <td>QPR</td>\n",
       "      <td>1.99</td>\n",
       "      <td>3.98</td>\n",
       "      <td>3.36</td>\n",
       "      <td>30.000000</td>\n",
       "      <td>...</td>\n",
       "      <td>40.0</td>\n",
       "      <td>60.0</td>\n",
       "      <td>0.0</td>\n",
       "      <td>20.0</td>\n",
       "      <td>80.0</td>\n",
       "      <td>1.0</td>\n",
       "      <td>1.6</td>\n",
       "      <td>1.0</td>\n",
       "      <td>2.0</td>\n",
       "      <td>H</td>\n",
       "    </tr>\n",
       "    <tr>\n",
       "      <th>3</th>\n",
       "      <td>3</td>\n",
       "      <td>193542</td>\n",
       "      <td>2012-11-10</td>\n",
       "      <td>2012</td>\n",
       "      <td>Wigan</td>\n",
       "      <td>West Brom</td>\n",
       "      <td>2.20</td>\n",
       "      <td>3.34</td>\n",
       "      <td>3.35</td>\n",
       "      <td>36.666667</td>\n",
       "      <td>...</td>\n",
       "      <td>20.0</td>\n",
       "      <td>30.0</td>\n",
       "      <td>0.0</td>\n",
       "      <td>50.0</td>\n",
       "      <td>50.0</td>\n",
       "      <td>1.6</td>\n",
       "      <td>1.4</td>\n",
       "      <td>1.0</td>\n",
       "      <td>1.5</td>\n",
       "      <td>A</td>\n",
       "    </tr>\n",
       "    <tr>\n",
       "      <th>4</th>\n",
       "      <td>4</td>\n",
       "      <td>193543</td>\n",
       "      <td>2012-11-10</td>\n",
       "      <td>2012</td>\n",
       "      <td>Aston Villa</td>\n",
       "      <td>Manchester Utd</td>\n",
       "      <td>7.37</td>\n",
       "      <td>1.43</td>\n",
       "      <td>4.63</td>\n",
       "      <td>30.000000</td>\n",
       "      <td>...</td>\n",
       "      <td>0.0</td>\n",
       "      <td>20.0</td>\n",
       "      <td>80.0</td>\n",
       "      <td>0.0</td>\n",
       "      <td>20.0</td>\n",
       "      <td>2.8</td>\n",
       "      <td>1.6</td>\n",
       "      <td>3.0</td>\n",
       "      <td>1.0</td>\n",
       "      <td>A</td>\n",
       "    </tr>\n",
       "  </tbody>\n",
       "</table>\n",
       "<p>5 rows × 32 columns</p>\n",
       "</div>"
      ],
      "text/plain": [
       "   Unnamed: 0  GAME_ID   GAME_DATE  SEASON    HOME_TEAM       AWAY_TEAM  \\\n",
       "0           0   193537  2012-11-10    2012      Arsenal          Fulham   \n",
       "1           1   193540  2012-11-10    2012  Southampton         Swansea   \n",
       "2           2   193541  2012-11-10    2012        Stoke             QPR   \n",
       "3           3   193542  2012-11-10    2012        Wigan       West Brom   \n",
       "4           4   193543  2012-11-10    2012  Aston Villa  Manchester Utd   \n",
       "\n",
       "   HOME_ODDS  AWAY_ODDS  DRAW_ODDS  HOME_PTS_PCT  ...  AWAY_DRAW_PCT  \\\n",
       "0       1.54       6.31       4.11     50.000000  ...           30.0   \n",
       "1       2.49       2.80       3.43     13.333333  ...           30.0   \n",
       "2       1.99       3.98       3.36     30.000000  ...           40.0   \n",
       "3       2.20       3.34       3.35     36.666667  ...           20.0   \n",
       "4       7.37       1.43       4.63     30.000000  ...            0.0   \n",
       "\n",
       "   AWAY_LOSS_PCT  AWAY_AWAY_WIN_PCT  AWAY_AWAY_DRAW_PCT  AWAY_AWAY_LOSS_PCT  \\\n",
       "0           30.0               20.0                40.0                40.0   \n",
       "1           40.0               25.0                 0.0                75.0   \n",
       "2           60.0                0.0                20.0                80.0   \n",
       "3           30.0                0.0                50.0                50.0   \n",
       "4           20.0               80.0                 0.0                20.0   \n",
       "\n",
       "   AWAY_SCORED_LAST_5  AWAY_CONCEDED_LAST_5  AWAY_AWAY_SCORED_LAST_5  \\\n",
       "0                 1.8                   1.8                      2.5   \n",
       "1                 1.0                   1.4                      0.0   \n",
       "2                 1.0                   1.6                      1.0   \n",
       "3                 1.6                   1.4                      1.0   \n",
       "4                 2.8                   1.6                      3.0   \n",
       "\n",
       "   AWAY_AWAY_CONCEDED_LAST_5  OUTCOME  \n",
       "0                        2.5        D  \n",
       "1                        1.5        D  \n",
       "2                        2.0        H  \n",
       "3                        1.5        A  \n",
       "4                        1.0        A  \n",
       "\n",
       "[5 rows x 32 columns]"
      ]
     },
     "execution_count": 293,
     "metadata": {},
     "output_type": "execute_result"
    }
   ],
   "source": [
    "dataset_train.head()"
   ]
  },
  {
   "cell_type": "code",
   "execution_count": 294,
   "metadata": {},
   "outputs": [
    {
     "data": {
      "text/html": [
       "<div>\n",
       "<style scoped>\n",
       "    .dataframe tbody tr th:only-of-type {\n",
       "        vertical-align: middle;\n",
       "    }\n",
       "\n",
       "    .dataframe tbody tr th {\n",
       "        vertical-align: top;\n",
       "    }\n",
       "\n",
       "    .dataframe thead th {\n",
       "        text-align: right;\n",
       "    }\n",
       "</style>\n",
       "<table border=\"1\" class=\"dataframe\">\n",
       "  <thead>\n",
       "    <tr style=\"text-align: right;\">\n",
       "      <th></th>\n",
       "      <th>Unnamed: 0</th>\n",
       "      <th>GAME_ID</th>\n",
       "      <th>GAME_DATE</th>\n",
       "      <th>SEASON</th>\n",
       "      <th>HOME_TEAM</th>\n",
       "      <th>AWAY_TEAM</th>\n",
       "      <th>HOME_ODDS</th>\n",
       "      <th>AWAY_ODDS</th>\n",
       "      <th>DRAW_ODDS</th>\n",
       "      <th>HOME_PTS_PCT</th>\n",
       "      <th>...</th>\n",
       "      <th>AWAY_DRAW_PCT</th>\n",
       "      <th>AWAY_LOSS_PCT</th>\n",
       "      <th>AWAY_AWAY_WIN_PCT</th>\n",
       "      <th>AWAY_AWAY_DRAW_PCT</th>\n",
       "      <th>AWAY_AWAY_LOSS_PCT</th>\n",
       "      <th>AWAY_SCORED_LAST_5</th>\n",
       "      <th>AWAY_CONCEDED_LAST_5</th>\n",
       "      <th>AWAY_AWAY_SCORED_LAST_5</th>\n",
       "      <th>AWAY_AWAY_CONCEDED_LAST_5</th>\n",
       "      <th>OUTCOME</th>\n",
       "    </tr>\n",
       "  </thead>\n",
       "  <tbody>\n",
       "    <tr>\n",
       "      <th>0</th>\n",
       "      <td>2415</td>\n",
       "      <td>710664</td>\n",
       "      <td>2021-11-05</td>\n",
       "      <td>2021</td>\n",
       "      <td>Southampton</td>\n",
       "      <td>Aston Villa</td>\n",
       "      <td>2.07</td>\n",
       "      <td>3.60</td>\n",
       "      <td>3.67</td>\n",
       "      <td>36.666667</td>\n",
       "      <td>...</td>\n",
       "      <td>10.0</td>\n",
       "      <td>60.0</td>\n",
       "      <td>20.0</td>\n",
       "      <td>0.0</td>\n",
       "      <td>80.0</td>\n",
       "      <td>1.2</td>\n",
       "      <td>2.4</td>\n",
       "      <td>1.000000</td>\n",
       "      <td>1.666667</td>\n",
       "      <td>H</td>\n",
       "    </tr>\n",
       "    <tr>\n",
       "      <th>1</th>\n",
       "      <td>2416</td>\n",
       "      <td>710663</td>\n",
       "      <td>2021-11-06</td>\n",
       "      <td>2021</td>\n",
       "      <td>Manchester Utd</td>\n",
       "      <td>Manchester City</td>\n",
       "      <td>4.70</td>\n",
       "      <td>1.73</td>\n",
       "      <td>4.20</td>\n",
       "      <td>56.666667</td>\n",
       "      <td>...</td>\n",
       "      <td>20.0</td>\n",
       "      <td>20.0</td>\n",
       "      <td>60.0</td>\n",
       "      <td>20.0</td>\n",
       "      <td>20.0</td>\n",
       "      <td>1.8</td>\n",
       "      <td>1.0</td>\n",
       "      <td>2.333333</td>\n",
       "      <td>1.000000</td>\n",
       "      <td>A</td>\n",
       "    </tr>\n",
       "    <tr>\n",
       "      <th>2</th>\n",
       "      <td>2417</td>\n",
       "      <td>710657</td>\n",
       "      <td>2021-11-06</td>\n",
       "      <td>2021</td>\n",
       "      <td>Brentford</td>\n",
       "      <td>Norwich</td>\n",
       "      <td>1.65</td>\n",
       "      <td>5.63</td>\n",
       "      <td>4.03</td>\n",
       "      <td>40.000000</td>\n",
       "      <td>...</td>\n",
       "      <td>20.0</td>\n",
       "      <td>80.0</td>\n",
       "      <td>0.0</td>\n",
       "      <td>20.0</td>\n",
       "      <td>80.0</td>\n",
       "      <td>0.2</td>\n",
       "      <td>2.2</td>\n",
       "      <td>0.000000</td>\n",
       "      <td>3.000000</td>\n",
       "      <td>A</td>\n",
       "    </tr>\n",
       "    <tr>\n",
       "      <th>3</th>\n",
       "      <td>2418</td>\n",
       "      <td>710659</td>\n",
       "      <td>2021-11-06</td>\n",
       "      <td>2021</td>\n",
       "      <td>Chelsea</td>\n",
       "      <td>Burnley</td>\n",
       "      <td>1.28</td>\n",
       "      <td>12.74</td>\n",
       "      <td>5.87</td>\n",
       "      <td>83.333333</td>\n",
       "      <td>...</td>\n",
       "      <td>40.0</td>\n",
       "      <td>50.0</td>\n",
       "      <td>0.0</td>\n",
       "      <td>40.0</td>\n",
       "      <td>60.0</td>\n",
       "      <td>1.4</td>\n",
       "      <td>1.4</td>\n",
       "      <td>1.333333</td>\n",
       "      <td>2.000000</td>\n",
       "      <td>D</td>\n",
       "    </tr>\n",
       "    <tr>\n",
       "      <th>4</th>\n",
       "      <td>2419</td>\n",
       "      <td>710660</td>\n",
       "      <td>2021-11-06</td>\n",
       "      <td>2021</td>\n",
       "      <td>Crystal Palace</td>\n",
       "      <td>Wolves</td>\n",
       "      <td>2.36</td>\n",
       "      <td>3.45</td>\n",
       "      <td>3.13</td>\n",
       "      <td>40.000000</td>\n",
       "      <td>...</td>\n",
       "      <td>10.0</td>\n",
       "      <td>40.0</td>\n",
       "      <td>60.0</td>\n",
       "      <td>20.0</td>\n",
       "      <td>20.0</td>\n",
       "      <td>1.8</td>\n",
       "      <td>1.0</td>\n",
       "      <td>1.666667</td>\n",
       "      <td>1.000000</td>\n",
       "      <td>H</td>\n",
       "    </tr>\n",
       "  </tbody>\n",
       "</table>\n",
       "<p>5 rows × 32 columns</p>\n",
       "</div>"
      ],
      "text/plain": [
       "   Unnamed: 0  GAME_ID   GAME_DATE  SEASON       HOME_TEAM        AWAY_TEAM  \\\n",
       "0        2415   710664  2021-11-05    2021     Southampton      Aston Villa   \n",
       "1        2416   710663  2021-11-06    2021  Manchester Utd  Manchester City   \n",
       "2        2417   710657  2021-11-06    2021       Brentford          Norwich   \n",
       "3        2418   710659  2021-11-06    2021         Chelsea          Burnley   \n",
       "4        2419   710660  2021-11-06    2021  Crystal Palace           Wolves   \n",
       "\n",
       "   HOME_ODDS  AWAY_ODDS  DRAW_ODDS  HOME_PTS_PCT  ...  AWAY_DRAW_PCT  \\\n",
       "0       2.07       3.60       3.67     36.666667  ...           10.0   \n",
       "1       4.70       1.73       4.20     56.666667  ...           20.0   \n",
       "2       1.65       5.63       4.03     40.000000  ...           20.0   \n",
       "3       1.28      12.74       5.87     83.333333  ...           40.0   \n",
       "4       2.36       3.45       3.13     40.000000  ...           10.0   \n",
       "\n",
       "   AWAY_LOSS_PCT  AWAY_AWAY_WIN_PCT  AWAY_AWAY_DRAW_PCT  AWAY_AWAY_LOSS_PCT  \\\n",
       "0           60.0               20.0                 0.0                80.0   \n",
       "1           20.0               60.0                20.0                20.0   \n",
       "2           80.0                0.0                20.0                80.0   \n",
       "3           50.0                0.0                40.0                60.0   \n",
       "4           40.0               60.0                20.0                20.0   \n",
       "\n",
       "   AWAY_SCORED_LAST_5  AWAY_CONCEDED_LAST_5  AWAY_AWAY_SCORED_LAST_5  \\\n",
       "0                 1.2                   2.4                 1.000000   \n",
       "1                 1.8                   1.0                 2.333333   \n",
       "2                 0.2                   2.2                 0.000000   \n",
       "3                 1.4                   1.4                 1.333333   \n",
       "4                 1.8                   1.0                 1.666667   \n",
       "\n",
       "   AWAY_AWAY_CONCEDED_LAST_5  OUTCOME  \n",
       "0                   1.666667        H  \n",
       "1                   1.000000        A  \n",
       "2                   3.000000        A  \n",
       "3                   2.000000        D  \n",
       "4                   1.000000        H  \n",
       "\n",
       "[5 rows x 32 columns]"
      ]
     },
     "execution_count": 294,
     "metadata": {},
     "output_type": "execute_result"
    }
   ],
   "source": [
    "dataset.head()"
   ]
  },
  {
   "cell_type": "code",
   "execution_count": 295,
   "metadata": {},
   "outputs": [],
   "source": [
    "directory = f'leagues/{league_id}/models/{season}'\n",
    "if not os.path.exists(directory):\n",
    "    os.makedirs(directory)"
   ]
  },
  {
   "cell_type": "code",
   "execution_count": 296,
   "metadata": {},
   "outputs": [
    {
     "name": "stdout",
     "output_type": "stream",
     "text": [
      "\n",
      "Executing the logistic Regression model...\n"
     ]
    }
   ],
   "source": [
    "print('\\nExecuting the logistic Regression model...')\n",
    "Pkl_Filename = \"{}/LogisticRegressionModel.pkl\".format(directory)\n",
    "try:\n",
    "    with open(Pkl_Filename, 'rb') as file:  \n",
    "        logisticRegression = pickle.load(file)\n",
    "except:\n",
    "    logisticRegression = logistic_regression(dataset_train)\n",
    "    with open(Pkl_Filename, 'wb') as file:  \n",
    "        pickle.dump(logisticRegression, file)\n",
    "results.append(dict(model='Logistic Regression',cm=logisticRegression[0], acc=logisticRegression[1], classifier=logisticRegression[2]))\n"
   ]
  },
  {
   "cell_type": "code",
   "execution_count": 297,
   "metadata": {},
   "outputs": [
    {
     "name": "stdout",
     "output_type": "stream",
     "text": [
      "\n",
      "Executing the Stochastic Gradient Descent model...\n"
     ]
    }
   ],
   "source": [
    "print('\\nExecuting the Stochastic Gradient Descent model...')\n",
    "Pkl_Filename = \"{}/StochasticGradientDescent.pkl\".format(directory)\n",
    "try:\n",
    "    with open(Pkl_Filename, 'rb') as file:  \n",
    "        sgd = pickle.load(file)\n",
    "except:\n",
    "    sgd = stochastic_gradient_descent(dataset_train)\n",
    "    with open(Pkl_Filename, 'wb') as file:  \n",
    "        pickle.dump(sgd, file)\n",
    "results.append(dict(model='Stochastic Gradient Descent',cm=sgd[0], acc=sgd[1], classifier=sgd[2]))\n"
   ]
  },
  {
   "cell_type": "code",
   "execution_count": 298,
   "metadata": {},
   "outputs": [
    {
     "name": "stdout",
     "output_type": "stream",
     "text": [
      "\n",
      "Executing the KNN model...\n"
     ]
    }
   ],
   "source": [
    "print('\\nExecuting the KNN model...')\n",
    "Pkl_Filename = \"{}/KNN.pkl\".format(directory)\n",
    "try:\n",
    "    with open(Pkl_Filename, 'rb') as file:  \n",
    "        knn_model = pickle.load(file)\n",
    "except:\n",
    "    knn_model = knn(dataset_train)\n",
    "    with open(Pkl_Filename, 'wb') as file:  \n",
    "        pickle.dump(knn_model, file)\n",
    "results.append(dict(model='KNN',cm=knn_model[0], acc=knn_model[1], classifier=knn_model[2]))\n"
   ]
  },
  {
   "cell_type": "code",
   "execution_count": 299,
   "metadata": {},
   "outputs": [
    {
     "name": "stdout",
     "output_type": "stream",
     "text": [
      "Executing the Kernel SVM model...\n"
     ]
    }
   ],
   "source": [
    "print('Executing the Kernel SVM model...')\n",
    "Pkl_Filename = \"{}/KernelSVM.pkl\".format(directory)\n",
    "try:\n",
    "    with open(Pkl_Filename, 'rb') as file:  \n",
    "        svm = pickle.load(file)\n",
    "except:\n",
    "    svm = kernel_svm(dataset_train)\n",
    "    with open(Pkl_Filename, 'wb') as file:  \n",
    "        pickle.dump(svm, file)\n",
    "results.append(dict(model='Kernel SVM',cm=svm[0], acc=svm[1], classifier=svm[2]))"
   ]
  },
  {
   "cell_type": "code",
   "execution_count": 300,
   "metadata": {},
   "outputs": [
    {
     "name": "stdout",
     "output_type": "stream",
     "text": [
      "Executing the Naive Bayes model...\n"
     ]
    }
   ],
   "source": [
    "print('Executing the Naive Bayes model...')\n",
    "Pkl_Filename = \"{}/NaiveBayes.pkl\".format(directory)\n",
    "try:\n",
    "    with open(Pkl_Filename, 'rb') as file:  \n",
    "        nb = pickle.load(file)\n",
    "except:\n",
    "    nb = naive_bayes(dataset_train)\n",
    "    with open(Pkl_Filename, 'wb') as file:  \n",
    "        pickle.dump(nb, file)\n",
    "results.append(dict(model='Naive Bayes',cm=nb[0], acc=nb[1], classifier=nb[2]))"
   ]
  },
  {
   "cell_type": "code",
   "execution_count": 301,
   "metadata": {},
   "outputs": [
    {
     "name": "stdout",
     "output_type": "stream",
     "text": [
      "Executing the Random Forest model...\n"
     ]
    },
    {
     "data": {
      "image/png": "[encoded data removed]",
      "text/plain": [
       "<Figure size 432x288 with 1 Axes>"
      ]
     },
     "metadata": {},
     "output_type": "display_data"
    }
   ],
   "source": [
    "print('Executing the Random Forest model...')\n",
    "Pkl_Filename = \"{}/RandomForest.pkl\".format(directory)\n",
    "try:\n",
    "    with open(Pkl_Filename, 'rb') as file:  \n",
    "        rf = pickle.load(file)\n",
    "except:\n",
    "    rf = random_forest(dataset_train)\n",
    "    with open(Pkl_Filename, 'wb') as file:  \n",
    "        pickle.dump(rf, file)\n",
    "results.append(dict(model='Random Forest',cm=rf[0], acc=rf[1], classifier=rf[2]))"
   ]
  },
  {
   "cell_type": "code",
   "execution_count": 302,
   "metadata": {},
   "outputs": [
    {
     "name": "stdout",
     "output_type": "stream",
     "text": [
      "Executing the Voting Classifier model...\n"
     ]
    }
   ],
   "source": [
    "print('Executing the Voting Classifier model...')\n",
    "Pkl_Filename = \"{}/VotingClassifier.pkl\".format(directory)\n",
    "\n",
    "estimators = [('lr', logisticRegression[2]), ('svm', svm[2]), ('nb', nb[2]), ('sgd', sgd[2])]\n",
    "weights = [1,1,1,1]\n",
    "\n",
    "try:\n",
    "    with open(Pkl_Filename, 'rb') as file:  \n",
    "        vc = pickle.load(file)\n",
    "except:\n",
    "    vc = voting_classifier(dataset, estimators, weights)\n",
    "    with open(Pkl_Filename, 'wb') as file:  \n",
    "        pickle.dump(vc, file)\n",
    "results.append(dict(model='Voting Classifier',cm=vc[0], acc=vc[1], classifier=vc[2]))"
   ]
  },
  {
   "cell_type": "code",
   "execution_count": 303,
   "metadata": {},
   "outputs": [
    {
     "name": "stdout",
     "output_type": "stream",
     "text": [
      "\n",
      "Getting the feature correlation matrix...\n"
     ]
    },
    {
     "data": {
      "image/png": "[encoded data removed]",
      "text/plain": [
       "<Figure size 936x936 with 2 Axes>"
      ]
     },
     "metadata": {},
     "output_type": "display_data"
    }
   ],
   "source": [
    "print('\\nGetting the feature correlation matrix...')\n",
    "\n",
    "import seaborn as sns\n",
    "\n",
    "try:\n",
    "    dependent_variables = dataset.iloc[:,5:20]\n",
    "    corrmat = dependent_variables.corr()\n",
    "    top_corr_features = corrmat.index\n",
    "    plt.figure(figsize=(13,13))\n",
    "    title = 'Feature Correlation'\n",
    "    plt.title(title)\n",
    "    #plot heat map\n",
    "    sns.set(font_scale=0.6)\n",
    "    g=sns.heatmap(dependent_variables.corr(),annot=True,cmap='Blues', fmt='0.1g')\n",
    "    plt.savefig('charts/{}.png'.format(title.replace(' ','_').lower()), dpi=300)\n",
    "    plt.show()\n",
    "except:\n",
    "    print('No correlation matrix for the selected model.')"
   ]
  },
  {
   "cell_type": "code",
   "execution_count": 304,
   "metadata": {},
   "outputs": [],
   "source": [
    "directory = f'leagues/{league_id}/scalers'\n",
    "if not os.path.exists(directory):\n",
    "    os.makedirs(directory)\n",
    "\n",
    "from sklearn.preprocessing import StandardScaler\n",
    "sc_train = StandardScaler()\n",
    "sc_train.fit(X_train)\n",
    "\n",
    "Pkl_ScalerName = \"{}/{}.pkl\".format(directory, season)\n",
    "with open(Pkl_ScalerName, 'wb') as file:  \n",
    "    pickle.dump(sc_train, file)\n",
    "\n",
    "X_transformed = sc_train.transform(X)"
   ]
  },
  {
   "cell_type": "code",
   "execution_count": 305,
   "metadata": {},
   "outputs": [
    {
     "name": "stdout",
     "output_type": "stream",
     "text": [
      "\n",
      "Getting classification model with the best predictions...\n",
      "Using predictions from Logistic Regression model: 0.5949820788530465\n",
      "Using predictions from Kernel SVM model: 0.6057347670250897\n",
      "Using predictions from Random Forest model: 0.8745519713261649\n"
     ]
    }
   ],
   "source": [
    "print('\\nGetting classification model with the best predictions...')\n",
    "\n",
    "modelCont = 0\n",
    "highestAcc = 0\n",
    "probs = dict()\n",
    "total_invested = dict()\n",
    "while True:\n",
    "    try:\n",
    "        total_invested[results[modelCont]['model']] = 0\n",
    "        results[modelCont]['pred'] = results[modelCont]['classifier'].predict(X_transformed)\n",
    "        probs[results[modelCont]['model']] = results[modelCont]['classifier'].predict_proba(X_transformed)\n",
    "        results[modelCont]['acc_test'] = accuracy_score(y, results[modelCont]['pred'])\n",
    "        if results[modelCont]['acc_test'] > highestAcc:\n",
    "            y_pred = results[modelCont]['pred']\n",
    "            highestAcc = results[modelCont]['acc_test']\n",
    "            print('Using predictions from {} model: {}'.format(results[modelCont]['model'], results[modelCont]['acc_test']))\n",
    "        modelCont += 1\n",
    "    except IndexError:\n",
    "        break\n",
    "\n",
    "results.sort(key=lambda x: x['acc_test'], reverse=True)"
   ]
  },
  {
   "cell_type": "code",
   "execution_count": 306,
   "metadata": {},
   "outputs": [
    {
     "name": "stdout",
     "output_type": "stream",
     "text": [
      "\n",
      "Results Classification:\n",
      "Random Forest:\t0.8746\n",
      "Voting Classifier:\t0.6272\n",
      "Kernel SVM:\t0.6057\n",
      "Logistic Regression:\t0.5950\n",
      "Stochastic Gradient Descent:\t0.5806\n",
      "KNN:\t0.5663\n",
      "Naive Bayes:\t0.5090\n",
      "Baseline Odds:\t59.4982\n"
     ]
    }
   ],
   "source": [
    "odds_baseline = dataset[((dataset['HOME_ODDS'] <= dataset['AWAY_ODDS']) & (dataset['HOME_ODDS'] <= dataset['DRAW_ODDS']) & (dataset['OUTCOME'] == 'H')) | \n",
    "                   ((dataset['AWAY_ODDS'] <= dataset['HOME_ODDS']) & (dataset['AWAY_ODDS'] <= dataset['DRAW_ODDS']) & (dataset['OUTCOME'] == 'A')) |\n",
    "                       ((dataset['DRAW_ODDS'] <= dataset['HOME_ODDS']) & (dataset['DRAW_ODDS'] <= dataset['AWAY_ODDS']) & (dataset['OUTCOME'] == 'D'))]\n",
    "\n",
    "print('\\nResults Classification:')\n",
    "results.sort(key=lambda x: x['acc_test'], reverse=True)\n",
    "[print('{}:\\t{:.4f}'.format(x['model'], x['acc_test'])) for x in results]\n",
    "print('Baseline Odds:\\t{:.4f}'.format(100*len(odds_baseline.index)/len(dataset.index)))"
   ]
  },
  {
   "cell_type": "code",
   "execution_count": 307,
   "metadata": {},
   "outputs": [
    {
     "name": "stdout",
     "output_type": "stream",
     "text": [
      "\n",
      "Getting the probabilities of the best model possible...\n",
      "Using the Random Forest model for probability tracking!\n"
     ]
    }
   ],
   "source": [
    "print('\\nGetting the probabilities of the best model possible...')\n",
    "\n",
    "for res in results:\n",
    "    try:\n",
    "        y_prob = res['classifier'].predict_proba(X_transformed)\n",
    "        print('Using the {} model for probability tracking!'.format(res['model']))\n",
    "        break\n",
    "    except AttributeError:\n",
    "        continue"
   ]
  },
  {
   "cell_type": "code",
   "execution_count": 308,
   "metadata": {},
   "outputs": [
    {
     "name": "stdout",
     "output_type": "stream",
     "text": [
      "\n",
      "Displaying data for the Random Forest model...\n",
      "[[ 80   0  11]\n",
      " [  3  39  19]\n",
      " [  2   0 125]]\n",
      "0.8745519713261649\n"
     ]
    }
   ],
   "source": [
    "print('\\nDisplaying data for the {} model...'.format(results[0]['model']))\n",
    "cm = confusion_matrix(y.ravel(), y_pred.ravel())\n",
    "acc_score = accuracy_score(y, y_pred)\n",
    "print(cm)\n",
    "print(acc_score)"
   ]
  },
  {
   "cell_type": "code",
   "execution_count": 309,
   "metadata": {},
   "outputs": [
    {
     "name": "stdout",
     "output_type": "stream",
     "text": [
      "[0.1631447  0.18217706 0.65467824] H\n",
      "[0.64418058 0.17343644 0.18238298] A\n",
      "[0.47270722 0.13243255 0.39486023] A\n",
      "[0.07814814 0.4773819  0.44446996] D\n",
      "[0.20041524 0.21373718 0.58584758] H\n",
      "[0.24198113 0.42477603 0.33324284] D\n",
      "[0.12480085 0.13856541 0.73663374] H\n",
      "[0.28835959 0.45683086 0.25480955] D\n",
      "[0.30231976 0.34742216 0.35025808] H\n",
      "[0.2760906 0.1728762 0.5510332] H\n"
     ]
    }
   ],
   "source": [
    "for i in range(10):\n",
    "    print(y_prob[i,:], y_pred[i])"
   ]
  },
  {
   "cell_type": "code",
   "execution_count": 310,
   "metadata": {},
   "outputs": [],
   "source": [
    "def get_pred_odds(probs):\n",
    "    return 1/probs[0], 1/probs[1], 1/probs[2] # Away, Draw, Home"
   ]
  },
  {
   "cell_type": "code",
   "execution_count": 311,
   "metadata": {},
   "outputs": [
    {
     "name": "stdout",
     "output_type": "stream",
     "text": [
      "\n",
      "Getting data from the regular models for visualization...\n"
     ]
    },
    {
     "name": "stderr",
     "output_type": "stream",
     "text": [
      "C:\\Users\\caiog\\AppData\\Local\\Temp\\ipykernel_16248\\1250689490.py:2: RuntimeWarning: divide by zero encountered in double_scalars\n",
      "  return 1/probs[0], 1/probs[1], 1/probs[2] # Away, Draw, Home\n"
     ]
    }
   ],
   "source": [
    "print(\"\\nGetting data from the regular models for visualization...\")\n",
    "right = 0\n",
    "total = 0\n",
    "profit = 0\n",
    "money_by_date = []\n",
    "bets_tracking_odds = [0]\n",
    "money_by_team = dict()\n",
    "bets = []\n",
    "money_by_date.append([dataset.iloc[0,2], dict(zip([x['model'] for x in results], [0 for x in results])),  dict(zip([x['model'] for x in results], [0 for x in results]))])\n",
    "\n",
    "for index, game in dataset.iterrows():\n",
    "    if game['GAME_DATE'] != money_by_date[-1][0]:    \n",
    "        bets_tracking_odds.append(bets_tracking_odds[-1])\n",
    "        money_by_date.append([game['GAME_DATE'],  dict(zip([x['model'] for x in results], [0 for x in results])), dict(money_by_date[-1][2])])\n",
    "\n",
    "    game_money = 0\n",
    "    bet_value = get_bet_value(y_prob[index,0])\n",
    "    \n",
    "    if game['HOME_TEAM'] not in money_by_team:\n",
    "        money_by_team[game['HOME_TEAM']] = 0\n",
    "    if game['AWAY_TEAM'] not in money_by_team:\n",
    "        money_by_team[game['AWAY_TEAM']] = 0\n",
    "    \n",
    "    pred_odds_away, pred_odds_draw, pred_odds_home  = get_pred_odds(y_prob[index,:])\n",
    "\n",
    "    game_money = check_model_performance_on_game(game, y_pred[index], bet_value, pred_odds_home, pred_odds_away, pred_odds_draw)\n",
    "    if game_money != 0:\n",
    "        if game['OUTCOME'] == y_pred[index] and game['OUTCOME'] == 'H':\n",
    "            bets.append(['HOME', game['HOME_ODDS'], pred_odds_home, 1])\n",
    "            money_by_team[game['HOME_TEAM']] += game_money\n",
    "        elif game['OUTCOME'] == y_pred[index] and game['OUTCOME'] == 'A':\n",
    "            bets.append(['AWAY', game['AWAY_ODDS'], pred_odds_away, 1])\n",
    "            money_by_team[game['AWAY_TEAM']] += game_money\n",
    "        elif game['OUTCOME'] == y_pred[index] and game['OUTCOME'] == 'D':\n",
    "            bets.append(['DRAW', game['DRAW_ODDS'], pred_odds_draw, 1])\n",
    "        else:\n",
    "            if y_pred[index] == 'H':\n",
    "                bets.append(['HOME', game['HOME_ODDS'], pred_odds_home, 0])\n",
    "                money_by_team[game['HOME_TEAM']] += game_money\n",
    "            elif y_pred[index] == 'A':\n",
    "                bets.append(['AWAY', game['AWAY_ODDS'], pred_odds_away, 0])\n",
    "                money_by_team[game['AWAY_TEAM']] += game_money\n",
    "            else:\n",
    "                bets.append(['DRAW', game['DRAW_ODDS'], pred_odds_draw, 0])\n",
    "\n",
    "        if game_money > 0:\n",
    "            right += 1\n",
    "        total += 1\n",
    "        \n",
    "    profit += game_money\n",
    "    bets_tracking_odds[-1] += check_game_with_odds(game, bet_value, pred_odds_home, pred_odds_away, pred_odds_draw)\n",
    "\n",
    "    for model in money_by_date[-1][1]:\n",
    "        game_money_model = 0\n",
    "        if probs[model][index,0] != 1 and probs[model][index,0] != 0:\n",
    "            bet_value = get_bet_value(probs[model][index,1])\n",
    "            prediction = next(x['pred'][index] for x in results if x['model'] == model)\n",
    "            pred_odds_away, pred_odds_draw, pred_odds_home = get_pred_odds(probs[model][index, :])\n",
    "            game_money_model = check_model_performance_on_game(game, prediction, bet_value, pred_odds_home, pred_odds_away, pred_odds_draw)\n",
    "        if game_money_model != 0:\n",
    "            total_invested[model] += bet_value\n",
    "        money_by_date[-1][1][model] += game_money_model\n",
    "        money_by_date[-1][2][model] += game_money_model\n",
    "\n"
   ]
  },
  {
   "cell_type": "code",
   "execution_count": 312,
   "metadata": {},
   "outputs": [
    {
     "name": "stdout",
     "output_type": "stream",
     "text": [
      "Bets Result: 149/149 => 100.00%\n"
     ]
    }
   ],
   "source": [
    "print(\"Bets Result: {}/{} => {:.2f}%\".format(right, total, right*100/total))"
   ]
  },
  {
   "cell_type": "code",
   "execution_count": 313,
   "metadata": {},
   "outputs": [
    {
     "name": "stdout",
     "output_type": "stream",
     "text": [
      "\n",
      "Profit and margin by model...\n",
      "Model: Random Forest \t// Invested: 1490 \t// Won: 3102.30 \t// Margin: 208.21%\n",
      "Model: Voting Classifier \t// Invested: 1300 \t// Won: 571.70 \t// Margin: 43.98%\n",
      "Model: Kernel SVM \t// Invested: 1120 \t// Won: 339.00 \t// Margin: 30.27%\n",
      "Model: Logistic Regression \t// Invested: 710 \t// Won: 172.10 \t// Margin: 24.24%\n",
      "Model: Stochastic Gradient Descent \t// Invested: 1240 \t// Won: 79.50 \t// Margin: 6.41%\n",
      "Model: KNN \t// Invested: 1300 \t// Won: 408.60 \t// Margin: 31.43%\n",
      "Model: Naive Bayes \t// Invested: 1530 \t// Won: -69.40 \t// Margin: -4.54%\n"
     ]
    }
   ],
   "source": [
    "print('\\nProfit and margin by model...')\n",
    "for model in money_by_date[-1][1]:\n",
    "    if total_invested[model] > 0:\n",
    "        print('Model: {} \\t// Invested: {} \\t// Won: {:.2f} \\t// Margin: {:.2f}%'.format(model, total_invested[model], money_by_date[-1][2][model], 100*money_by_date[-1][2][model]/total_invested[model]))"
   ]
  },
  {
   "cell_type": "code",
   "execution_count": 314,
   "metadata": {},
   "outputs": [
    {
     "name": "stdout",
     "output_type": "stream",
     "text": [
      "\n",
      "Plotting charts...\n"
     ]
    }
   ],
   "source": [
    "print('\\nPlotting charts...')\n",
    "\n",
    "models_tracking =  [np.array([x[2][model] for x in money_by_date], dtype=np.float32) for model in money_by_date[-1][1]]\n",
    "\n",
    "money_by_date = np.array(money_by_date, dtype=str)\n",
    "correct_bets = list(filter(lambda x: x[3] == 1, bets))\n",
    "missed_bets = list(filter(lambda x: x[3] == 0, bets))\n",
    "correct_bets_odds = np.array(list(map(lambda x: x[1], correct_bets)))\n",
    "missed_bets_odds = np.array(list(map(lambda x: x[1], missed_bets)))\n",
    "correct_bets_home = np.array(list(map(lambda x: x[0], correct_bets)))\n",
    "missed_bets_home = np.array(list(map(lambda x: x[0], missed_bets)))\n",
    "\n",
    "money_by_team = dict(sorted(money_by_team.items(), key=lambda x: x[1]))\n",
    "money_by_team_labels = np.array(list(money_by_team.keys()), dtype=str)\n",
    "money_by_team_values = np.array(list(money_by_team.values()), dtype=np.float32)"
   ]
  },
  {
   "cell_type": "code",
   "execution_count": 315,
   "metadata": {
    "scrolled": false
   },
   "outputs": [
    {
     "data": {
      "image/png": "[encoded data removed]",
      "text/plain": [
       "<Figure size 432x288 with 1 Axes>"
      ]
     },
     "metadata": {},
     "output_type": "display_data"
    },
    {
     "data": {
      "image/png": "[encoded data removed]",
      "text/plain": [
       "<Figure size 432x288 with 1 Axes>"
      ]
     },
     "metadata": {},
     "output_type": "display_data"
    },
    {
     "data": {
      "image/png": "[encoded data removed]",
      "text/plain": [
       "<Figure size 432x288 with 1 Axes>"
      ]
     },
     "metadata": {},
     "output_type": "display_data"
    },
    {
     "ename": "ValueError",
     "evalue": "'label' must be of length 'x'",
     "output_type": "error",
     "traceback": [
      "\u001b[1;31m---------------------------------------------------------------------------\u001b[0m",
      "\u001b[1;31mValueError\u001b[0m                                Traceback (most recent call last)",
      "Input \u001b[1;32mIn [315]\u001b[0m, in \u001b[0;36m<cell line: 7>\u001b[1;34m()\u001b[0m\n\u001b[0;32m      3\u001b[0m plot_hist(\u001b[38;5;124m'\u001b[39m\u001b[38;5;124mCorrect Bets by Odds\u001b[39m\u001b[38;5;124m'\u001b[39m, \u001b[38;5;124m'\u001b[39m\u001b[38;5;124mOdds\u001b[39m\u001b[38;5;124m'\u001b[39m, \u001b[38;5;124m'\u001b[39m\u001b[38;5;124mX Times\u001b[39m\u001b[38;5;124m'\u001b[39m, correct_bets_odds)\n\u001b[0;32m      5\u001b[0m plot_pie_chart(\u001b[38;5;124m'\u001b[39m\u001b[38;5;124mCorrect Bets by Home-Away\u001b[39m\u001b[38;5;124m'\u001b[39m, [\u001b[38;5;124m'\u001b[39m\u001b[38;5;124mHome\u001b[39m\u001b[38;5;124m'\u001b[39m, \u001b[38;5;124m'\u001b[39m\u001b[38;5;124mAway\u001b[39m\u001b[38;5;124m'\u001b[39m, \u001b[38;5;124m'\u001b[39m\u001b[38;5;124mDraw\u001b[39m\u001b[38;5;124m'\u001b[39m], correct_bets_home)\n\u001b[1;32m----> 7\u001b[0m \u001b[43mplot_pie_chart\u001b[49m\u001b[43m(\u001b[49m\u001b[38;5;124;43m'\u001b[39;49m\u001b[38;5;124;43mMissed Bets by Home-Away\u001b[39;49m\u001b[38;5;124;43m'\u001b[39;49m\u001b[43m,\u001b[49m\u001b[43m \u001b[49m\u001b[43m[\u001b[49m\u001b[38;5;124;43m'\u001b[39;49m\u001b[38;5;124;43mHome\u001b[39;49m\u001b[38;5;124;43m'\u001b[39;49m\u001b[43m,\u001b[49m\u001b[43m \u001b[49m\u001b[38;5;124;43m'\u001b[39;49m\u001b[38;5;124;43mAway\u001b[39;49m\u001b[38;5;124;43m'\u001b[39;49m\u001b[43m,\u001b[49m\u001b[43m \u001b[49m\u001b[38;5;124;43m'\u001b[39;49m\u001b[38;5;124;43mDraw\u001b[39;49m\u001b[38;5;124;43m'\u001b[39;49m\u001b[43m]\u001b[49m\u001b[43m,\u001b[49m\u001b[43m \u001b[49m\u001b[43mmissed_bets_home\u001b[49m\u001b[43m)\u001b[49m\n\u001b[0;32m      9\u001b[0m plot_bar(\u001b[38;5;124m'\u001b[39m\u001b[38;5;124mProfit by Team\u001b[39m\u001b[38;5;124m'\u001b[39m, \u001b[38;5;124m'\u001b[39m\u001b[38;5;124mTeams\u001b[39m\u001b[38;5;124m'\u001b[39m, \u001b[38;5;124m'\u001b[39m\u001b[38;5;124mProfit\u001b[39m\u001b[38;5;124m'\u001b[39m, money_by_team_labels, money_by_team_values)\n",
      "Input \u001b[1;32mIn [266]\u001b[0m, in \u001b[0;36mplot_pie_chart\u001b[1;34m(title, labels, data)\u001b[0m\n\u001b[0;32m     19\u001b[0m \u001b[38;5;28;01mdef\u001b[39;00m \u001b[38;5;21mplot_pie_chart\u001b[39m(title, labels, data):\n\u001b[0;32m     20\u001b[0m     data_converted \u001b[38;5;241m=\u001b[39m np\u001b[38;5;241m.\u001b[39munique(data, return_counts\u001b[38;5;241m=\u001b[39m\u001b[38;5;28;01mTrue\u001b[39;00m)[\u001b[38;5;241m1\u001b[39m]\n\u001b[1;32m---> 21\u001b[0m     \u001b[43mplt\u001b[49m\u001b[38;5;241;43m.\u001b[39;49m\u001b[43mpie\u001b[49m\u001b[43m(\u001b[49m\u001b[43mdata_converted\u001b[49m\u001b[43m,\u001b[49m\u001b[43m \u001b[49m\u001b[43mlabels\u001b[49m\u001b[43m \u001b[49m\u001b[38;5;241;43m=\u001b[39;49m\u001b[43m \u001b[49m\u001b[43mlabels\u001b[49m\u001b[43m,\u001b[49m\u001b[43m \u001b[49m\u001b[43mstartangle\u001b[49m\u001b[43m \u001b[49m\u001b[38;5;241;43m=\u001b[39;49m\u001b[43m \u001b[49m\u001b[38;5;241;43m90\u001b[39;49m\u001b[43m,\u001b[49m\u001b[43m \u001b[49m\u001b[43mshadow\u001b[49m\u001b[43m \u001b[49m\u001b[38;5;241;43m=\u001b[39;49m\u001b[43m \u001b[49m\u001b[38;5;28;43;01mTrue\u001b[39;49;00m\u001b[43m,\u001b[49m\u001b[43m \u001b[49m\u001b[43mautopct\u001b[49m\u001b[38;5;241;43m=\u001b[39;49m\u001b[38;5;124;43m'\u001b[39;49m\u001b[38;5;132;43;01m%.2f\u001b[39;49;00m\u001b[38;5;132;43;01m%%\u001b[39;49;00m\u001b[38;5;124;43m'\u001b[39;49m\u001b[43m)\u001b[49m\n\u001b[0;32m     22\u001b[0m     plt\u001b[38;5;241m.\u001b[39mtitle(title)\n\u001b[0;32m     23\u001b[0m     plt\u001b[38;5;241m.\u001b[39msavefig(\u001b[38;5;124m'\u001b[39m\u001b[38;5;124mcharts/\u001b[39m\u001b[38;5;132;01m{}\u001b[39;00m\u001b[38;5;124m.png\u001b[39m\u001b[38;5;124m'\u001b[39m\u001b[38;5;241m.\u001b[39mformat(title\u001b[38;5;241m.\u001b[39mreplace(\u001b[38;5;124m'\u001b[39m\u001b[38;5;124m \u001b[39m\u001b[38;5;124m'\u001b[39m,\u001b[38;5;124m'\u001b[39m\u001b[38;5;124m_\u001b[39m\u001b[38;5;124m'\u001b[39m)\u001b[38;5;241m.\u001b[39mlower()), dpi\u001b[38;5;241m=\u001b[39m\u001b[38;5;241m300\u001b[39m)\n",
      "File \u001b[1;32m~\\anaconda3\\lib\\site-packages\\matplotlib\\pyplot.py:2744\u001b[0m, in \u001b[0;36mpie\u001b[1;34m(x, explode, labels, colors, autopct, pctdistance, shadow, labeldistance, startangle, radius, counterclock, wedgeprops, textprops, center, frame, rotatelabels, normalize, data)\u001b[0m\n\u001b[0;32m   2737\u001b[0m \u001b[38;5;129m@_copy_docstring_and_deprecators\u001b[39m(Axes\u001b[38;5;241m.\u001b[39mpie)\n\u001b[0;32m   2738\u001b[0m \u001b[38;5;28;01mdef\u001b[39;00m \u001b[38;5;21mpie\u001b[39m(\n\u001b[0;32m   2739\u001b[0m         x, explode\u001b[38;5;241m=\u001b[39m\u001b[38;5;28;01mNone\u001b[39;00m, labels\u001b[38;5;241m=\u001b[39m\u001b[38;5;28;01mNone\u001b[39;00m, colors\u001b[38;5;241m=\u001b[39m\u001b[38;5;28;01mNone\u001b[39;00m, autopct\u001b[38;5;241m=\u001b[39m\u001b[38;5;28;01mNone\u001b[39;00m,\n\u001b[1;32m   (...)\u001b[0m\n\u001b[0;32m   2742\u001b[0m         textprops\u001b[38;5;241m=\u001b[39m\u001b[38;5;28;01mNone\u001b[39;00m, center\u001b[38;5;241m=\u001b[39m(\u001b[38;5;241m0\u001b[39m, \u001b[38;5;241m0\u001b[39m), frame\u001b[38;5;241m=\u001b[39m\u001b[38;5;28;01mFalse\u001b[39;00m,\n\u001b[0;32m   2743\u001b[0m         rotatelabels\u001b[38;5;241m=\u001b[39m\u001b[38;5;28;01mFalse\u001b[39;00m, \u001b[38;5;241m*\u001b[39m, normalize\u001b[38;5;241m=\u001b[39m\u001b[38;5;28;01mTrue\u001b[39;00m, data\u001b[38;5;241m=\u001b[39m\u001b[38;5;28;01mNone\u001b[39;00m):\n\u001b[1;32m-> 2744\u001b[0m     \u001b[38;5;28;01mreturn\u001b[39;00m gca()\u001b[38;5;241m.\u001b[39mpie(\n\u001b[0;32m   2745\u001b[0m         x, explode\u001b[38;5;241m=\u001b[39mexplode, labels\u001b[38;5;241m=\u001b[39mlabels, colors\u001b[38;5;241m=\u001b[39mcolors,\n\u001b[0;32m   2746\u001b[0m         autopct\u001b[38;5;241m=\u001b[39mautopct, pctdistance\u001b[38;5;241m=\u001b[39mpctdistance, shadow\u001b[38;5;241m=\u001b[39mshadow,\n\u001b[0;32m   2747\u001b[0m         labeldistance\u001b[38;5;241m=\u001b[39mlabeldistance, startangle\u001b[38;5;241m=\u001b[39mstartangle,\n\u001b[0;32m   2748\u001b[0m         radius\u001b[38;5;241m=\u001b[39mradius, counterclock\u001b[38;5;241m=\u001b[39mcounterclock,\n\u001b[0;32m   2749\u001b[0m         wedgeprops\u001b[38;5;241m=\u001b[39mwedgeprops, textprops\u001b[38;5;241m=\u001b[39mtextprops, center\u001b[38;5;241m=\u001b[39mcenter,\n\u001b[0;32m   2750\u001b[0m         frame\u001b[38;5;241m=\u001b[39mframe, rotatelabels\u001b[38;5;241m=\u001b[39mrotatelabels, normalize\u001b[38;5;241m=\u001b[39mnormalize,\n\u001b[0;32m   2751\u001b[0m         \u001b[38;5;241m*\u001b[39m\u001b[38;5;241m*\u001b[39m({\u001b[38;5;124m\"\u001b[39m\u001b[38;5;124mdata\u001b[39m\u001b[38;5;124m\"\u001b[39m: data} \u001b[38;5;28;01mif\u001b[39;00m data \u001b[38;5;129;01mis\u001b[39;00m \u001b[38;5;129;01mnot\u001b[39;00m \u001b[38;5;28;01mNone\u001b[39;00m \u001b[38;5;28;01melse\u001b[39;00m {}))\n",
      "File \u001b[1;32m~\\anaconda3\\lib\\site-packages\\matplotlib\\__init__.py:1412\u001b[0m, in \u001b[0;36m_preprocess_data.<locals>.inner\u001b[1;34m(ax, data, *args, **kwargs)\u001b[0m\n\u001b[0;32m   1409\u001b[0m \u001b[38;5;129m@functools\u001b[39m\u001b[38;5;241m.\u001b[39mwraps(func)\n\u001b[0;32m   1410\u001b[0m \u001b[38;5;28;01mdef\u001b[39;00m \u001b[38;5;21minner\u001b[39m(ax, \u001b[38;5;241m*\u001b[39margs, data\u001b[38;5;241m=\u001b[39m\u001b[38;5;28;01mNone\u001b[39;00m, \u001b[38;5;241m*\u001b[39m\u001b[38;5;241m*\u001b[39mkwargs):\n\u001b[0;32m   1411\u001b[0m     \u001b[38;5;28;01mif\u001b[39;00m data \u001b[38;5;129;01mis\u001b[39;00m \u001b[38;5;28;01mNone\u001b[39;00m:\n\u001b[1;32m-> 1412\u001b[0m         \u001b[38;5;28;01mreturn\u001b[39;00m func(ax, \u001b[38;5;241m*\u001b[39m\u001b[38;5;28mmap\u001b[39m(sanitize_sequence, args), \u001b[38;5;241m*\u001b[39m\u001b[38;5;241m*\u001b[39mkwargs)\n\u001b[0;32m   1414\u001b[0m     bound \u001b[38;5;241m=\u001b[39m new_sig\u001b[38;5;241m.\u001b[39mbind(ax, \u001b[38;5;241m*\u001b[39margs, \u001b[38;5;241m*\u001b[39m\u001b[38;5;241m*\u001b[39mkwargs)\n\u001b[0;32m   1415\u001b[0m     auto_label \u001b[38;5;241m=\u001b[39m (bound\u001b[38;5;241m.\u001b[39marguments\u001b[38;5;241m.\u001b[39mget(label_namer)\n\u001b[0;32m   1416\u001b[0m                   \u001b[38;5;129;01mor\u001b[39;00m bound\u001b[38;5;241m.\u001b[39mkwargs\u001b[38;5;241m.\u001b[39mget(label_namer))\n",
      "File \u001b[1;32m~\\anaconda3\\lib\\site-packages\\matplotlib\\axes\\_axes.py:3060\u001b[0m, in \u001b[0;36mAxes.pie\u001b[1;34m(self, x, explode, labels, colors, autopct, pctdistance, shadow, labeldistance, startangle, radius, counterclock, wedgeprops, textprops, center, frame, rotatelabels, normalize)\u001b[0m\n\u001b[0;32m   3058\u001b[0m     explode \u001b[38;5;241m=\u001b[39m [\u001b[38;5;241m0\u001b[39m] \u001b[38;5;241m*\u001b[39m \u001b[38;5;28mlen\u001b[39m(x)\n\u001b[0;32m   3059\u001b[0m \u001b[38;5;28;01mif\u001b[39;00m \u001b[38;5;28mlen\u001b[39m(x) \u001b[38;5;241m!=\u001b[39m \u001b[38;5;28mlen\u001b[39m(labels):\n\u001b[1;32m-> 3060\u001b[0m     \u001b[38;5;28;01mraise\u001b[39;00m \u001b[38;5;167;01mValueError\u001b[39;00m(\u001b[38;5;124m\"\u001b[39m\u001b[38;5;124m'\u001b[39m\u001b[38;5;124mlabel\u001b[39m\u001b[38;5;124m'\u001b[39m\u001b[38;5;124m must be of length \u001b[39m\u001b[38;5;124m'\u001b[39m\u001b[38;5;124mx\u001b[39m\u001b[38;5;124m'\u001b[39m\u001b[38;5;124m\"\u001b[39m)\n\u001b[0;32m   3061\u001b[0m \u001b[38;5;28;01mif\u001b[39;00m \u001b[38;5;28mlen\u001b[39m(x) \u001b[38;5;241m!=\u001b[39m \u001b[38;5;28mlen\u001b[39m(explode):\n\u001b[0;32m   3062\u001b[0m     \u001b[38;5;28;01mraise\u001b[39;00m \u001b[38;5;167;01mValueError\u001b[39;00m(\u001b[38;5;124m\"\u001b[39m\u001b[38;5;124m'\u001b[39m\u001b[38;5;124mexplode\u001b[39m\u001b[38;5;124m'\u001b[39m\u001b[38;5;124m must be of length \u001b[39m\u001b[38;5;124m'\u001b[39m\u001b[38;5;124mx\u001b[39m\u001b[38;5;124m'\u001b[39m\u001b[38;5;124m\"\u001b[39m)\n",
      "\u001b[1;31mValueError\u001b[0m: 'label' must be of length 'x'"
     ]
    },
    {
     "data": {
      "image/png": "[encoded data removed]",
      "text/plain": [
       "<Figure size 432x288 with 1 Axes>"
      ]
     },
     "metadata": {},
     "output_type": "display_data"
    }
   ],
   "source": [
    "plot_hist('Missed Bets by Odds', 'Odds', 'X Times', missed_bets_odds)\n",
    "\n",
    "plot_hist('Correct Bets by Odds', 'Odds', 'X Times', correct_bets_odds)\n",
    "\n",
    "plot_pie_chart('Correct Bets by Home-Away', ['Home', 'Away', 'Draw'], correct_bets_home)\n",
    "\n",
    "plot_pie_chart('Missed Bets by Home-Away', ['Home', 'Away', 'Draw'], missed_bets_home)\n",
    "\n",
    "plot_bar('Profit by Team', 'Teams', 'Profit', money_by_team_labels, money_by_team_values)"
   ]
  },
  {
   "cell_type": "code",
   "execution_count": null,
   "metadata": {},
   "outputs": [],
   "source": [
    "xpoints = money_by_date[:,0].astype(np.datetime64)\n",
    "\n",
    "plt.gca().xaxis.set_major_formatter(mdates.DateFormatter('%Y-%m-%d'))\n",
    "plt.gca().xaxis.set_major_locator(mdates.DayLocator(interval=15))\n",
    "for model in models_tracking:\n",
    "    plt.plot(xpoints, model)\n",
    "plt.plot(xpoints, bets_tracking_odds)\n",
    "\n",
    "title = \"Profit by Date\"\n",
    "plt.legend([x['model'] for x in results] + ['Odds Baseline'], loc=(1.04,0))\n",
    "plt.ylabel(\"Profit($)\")\n",
    "plt.xlabel(\"Date\")\n",
    "plt.title(title)\n",
    "plt.gcf().autofmt_xdate()\n",
    "plt.savefig('charts/{}.png'.format(title.replace(' ','_').lower()), dpi=300)\n",
    "plt.show()"
   ]
  },
  {
   "cell_type": "code",
   "execution_count": null,
   "metadata": {},
   "outputs": [],
   "source": []
  }
 ],
 "metadata": {
  "kernelspec": {
   "display_name": "Python 3 (ipykernel)",
   "language": "python",
   "name": "python3"
  },
  "language_info": {
   "codemirror_mode": {
    "name": "ipython",
    "version": 3
   },
   "file_extension": ".py",
   "mimetype": "text/x-python",
   "name": "python",
   "nbconvert_exporter": "python",
   "pygments_lexer": "ipython3",
   "version": "3.9.12"
  }
 },
 "nbformat": 4,
 "nbformat_minor": 2
}
