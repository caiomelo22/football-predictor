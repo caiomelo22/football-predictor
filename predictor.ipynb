{
 "cells": [
  {
   "cell_type": "code",
   "execution_count": 1,
   "metadata": {},
   "outputs": [],
   "source": [
    "import os\n",
    "import pandas as pd\n",
    "import numpy as np\n",
    "import matplotlib.pyplot as plt\n",
    "import datetime as dt\n",
    "import matplotlib.dates as mdates\n",
    "from sklearn.metrics import confusion_matrix, accuracy_score\n",
    "import pickle\n",
    "from IPython.display import clear_output\n",
    "from itertools import product, combinations\n",
    "import json"
   ]
  },
  {
   "cell_type": "code",
   "execution_count": 1414,
   "metadata": {},
   "outputs": [],
   "source": [
    "league_id = 39 # Choose the league id\n",
    "\n",
    "season_file = '2015-2022'\n",
    "\n",
    "first_season = 2015\n",
    "last_season = 2022\n",
    "\n",
    "features = ['HOME_PTS_PCT', 'HOME_WIN_PCT', 'HOME_DRAW_PCT', 'HOME_LOSS_PCT', 'HOME_HOME_WIN_PCT', 'HOME_HOME_DRAW_PCT', 'HOME_HOME_LOSS_PCT', f'HOME_WIN_PCT_LAST_GAMES', f'HOME_DRAW_PCT_LAST_GAMES', f'HOME_LOSS_PCT_LAST_GAMES','HOME_SCORE_LAST_GAMES', 'HOME_CONCEDED_LAST_GAMES', 'HOME_SHOTS_ON_GOAL_LAST_GAMES', 'HOME_SHOTS_OFF_GOAL_LAST_GAMES', 'HOME_TOTAL_SHOTS_LAST_GAMES', 'HOME_BLOCKED_SHOTS_LAST_GAMES','HOME_SHOTS_INSIDE_BOX_LAST_GAMES', 'HOME_SHOTS_OUTSIDE_BOX_LAST_GAMES', 'HOME_FOULS_LAST_GAMES', 'HOME_CORNERS_LAST_GAMES', 'HOME_OFFSIDES_LAST_GAMES','HOME_POSSESSION_LAST_GAMES', 'HOME_YELLOW_CARDS_LAST_GAMES', 'HOME_RED_CARDS_LAST_GAMES', 'HOME_SAVES_LAST_GAMES', 'HOME_TOTAL_PASSES_LAST_GAMES','HOME_PASSES_ACCURATE_LAST_GAMES', 'HOME_PASSES_PCT_LAST_GAMES',\n",
    "           'AWAY_PTS_PCT', 'AWAY_WIN_PCT', 'AWAY_DRAW_PCT', 'AWAY_LOSS_PCT', 'AWAY_AWAY_WIN_PCT', 'AWAY_AWAY_DRAW_PCT', 'AWAY_AWAY_LOSS_PCT', f'AWAY_WIN_PCT_LAST_GAMES', f'AWAY_DRAW_PCT_LAST_GAMES', f'AWAY_LOSS_PCT_LAST_GAMES','AWAY_SCORE_LAST_GAMES', 'AWAY_CONCEDED_LAST_GAMES', 'AWAY_SHOTS_ON_GOAL_LAST_GAMES', 'AWAY_SHOTS_OFF_GOAL_LAST_GAMES', 'AWAY_TOTAL_SHOTS_LAST_GAMES', 'AWAY_BLOCKED_SHOTS_LAST_GAMES','AWAY_SHOTS_INSIDE_BOX_LAST_GAMES', 'AWAY_SHOTS_OUTSIDE_BOX_LAST_GAMES', 'AWAY_FOULS_LAST_GAMES', 'AWAY_CORNERS_LAST_GAMES', 'AWAY_OFFSIDES_LAST_GAMES','AWAY_POSSESSION_LAST_GAMES', 'AWAY_YELLOW_CARDS_LAST_GAMES', 'AWAY_RED_CARDS_LAST_GAMES', 'AWAY_SAVES_LAST_GAMES', 'AWAY_TOTAL_PASSES_LAST_GAMES','AWAY_PASSES_ACCURATE_LAST_GAMES', 'AWAY_PASSES_PCT_LAST_GAMES']\n",
    "targets = ['OUTCOME']\n",
    "\n",
    "min_threshold = 1.8\n",
    "max_threshold = 10\n",
    "\n",
    "totals_max_threshold = 55\n",
    "totals_min_threshold = 45\n",
    "\n",
    "default_odds_value = 1.9\n",
    "\n",
    "first_attr_index = 9\n",
    "\n",
    "# default_stake = 50\n",
    "bankroll = 2000\n",
    "stake = 0.025"
   ]
  },
  {
   "cell_type": "code",
   "execution_count": 1415,
   "metadata": {},
   "outputs": [
    {
     "name": "stdout",
     "output_type": "stream",
     "text": [
      "\n",
      "Getting data for the model...\n"
     ]
    }
   ],
   "source": [
    "print('\\nGetting data for the model...')\n",
    "\n",
    "season = \"{}-{}\".format(first_season, last_season)\n",
    "\n",
    "default_path = f'./leagues/{league_id}'\n",
    "whole_dataset = pd.read_csv(f\"{default_path}/data/{season_file}.csv\")\n",
    "whole_dataset = whole_dataset.loc[(whole_dataset['HOME_ODDS'].notna()) & (whole_dataset['AWAY_ODDS'].notna())]\n",
    "whole_dataset['GAME_DATE'] = pd.to_datetime(whole_dataset['GAME_DATE']).dt.date"
   ]
  },
  {
   "cell_type": "code",
   "execution_count": 1416,
   "metadata": {},
   "outputs": [
    {
     "data": {
      "text/html": [
       "<div>\n",
       "<style scoped>\n",
       "    .dataframe tbody tr th:only-of-type {\n",
       "        vertical-align: middle;\n",
       "    }\n",
       "\n",
       "    .dataframe tbody tr th {\n",
       "        vertical-align: top;\n",
       "    }\n",
       "\n",
       "    .dataframe thead th {\n",
       "        text-align: right;\n",
       "    }\n",
       "</style>\n",
       "<table border=\"1\" class=\"dataframe\">\n",
       "  <thead>\n",
       "    <tr style=\"text-align: right;\">\n",
       "      <th></th>\n",
       "      <th>Unnamed: 0</th>\n",
       "      <th>GAME_ID</th>\n",
       "      <th>GAME_DATE</th>\n",
       "      <th>SEASON</th>\n",
       "      <th>HOME_TEAM</th>\n",
       "      <th>AWAY_TEAM</th>\n",
       "      <th>HOME_ODDS</th>\n",
       "      <th>AWAY_ODDS</th>\n",
       "      <th>DRAW_ODDS</th>\n",
       "      <th>HOME_PTS_PCT</th>\n",
       "      <th>...</th>\n",
       "      <th>AWAY_POSSESSION_LAST_GAMES</th>\n",
       "      <th>AWAY_YELLOW_CARDS_LAST_GAMES</th>\n",
       "      <th>AWAY_RED_CARDS_LAST_GAMES</th>\n",
       "      <th>AWAY_SAVES_LAST_GAMES</th>\n",
       "      <th>AWAY_TOTAL_PASSES_LAST_GAMES</th>\n",
       "      <th>AWAY_PASSES_ACCURATE_LAST_GAMES</th>\n",
       "      <th>AWAY_PASSES_PCT_LAST_GAMES</th>\n",
       "      <th>OUTCOME</th>\n",
       "      <th>HOME_SCORE</th>\n",
       "      <th>AWAY_SCORE</th>\n",
       "    </tr>\n",
       "  </thead>\n",
       "  <tbody>\n",
       "    <tr>\n",
       "      <th>0</th>\n",
       "      <td>0</td>\n",
       "      <td>192397</td>\n",
       "      <td>2015-10-31</td>\n",
       "      <td>2015</td>\n",
       "      <td>Chelsea</td>\n",
       "      <td>Liverpool</td>\n",
       "      <td>2.10</td>\n",
       "      <td>3.90</td>\n",
       "      <td>3.25</td>\n",
       "      <td>36.666667</td>\n",
       "      <td>...</td>\n",
       "      <td>56.4</td>\n",
       "      <td>1.4</td>\n",
       "      <td>0.0</td>\n",
       "      <td>2.4</td>\n",
       "      <td>509.6</td>\n",
       "      <td>419.8</td>\n",
       "      <td>82.0</td>\n",
       "      <td>A</td>\n",
       "      <td>1</td>\n",
       "      <td>3</td>\n",
       "    </tr>\n",
       "    <tr>\n",
       "      <th>1</th>\n",
       "      <td>1</td>\n",
       "      <td>192398</td>\n",
       "      <td>2015-10-31</td>\n",
       "      <td>2015</td>\n",
       "      <td>Swansea</td>\n",
       "      <td>Arsenal</td>\n",
       "      <td>4.70</td>\n",
       "      <td>1.77</td>\n",
       "      <td>3.89</td>\n",
       "      <td>43.333333</td>\n",
       "      <td>...</td>\n",
       "      <td>51.2</td>\n",
       "      <td>1.8</td>\n",
       "      <td>0.4</td>\n",
       "      <td>4.0</td>\n",
       "      <td>487.0</td>\n",
       "      <td>409.8</td>\n",
       "      <td>83.4</td>\n",
       "      <td>A</td>\n",
       "      <td>0</td>\n",
       "      <td>3</td>\n",
       "    </tr>\n",
       "    <tr>\n",
       "      <th>2</th>\n",
       "      <td>2</td>\n",
       "      <td>192399</td>\n",
       "      <td>2015-10-31</td>\n",
       "      <td>2015</td>\n",
       "      <td>West Brom</td>\n",
       "      <td>Leicester</td>\n",
       "      <td>2.88</td>\n",
       "      <td>2.59</td>\n",
       "      <td>3.35</td>\n",
       "      <td>46.666667</td>\n",
       "      <td>...</td>\n",
       "      <td>43.8</td>\n",
       "      <td>1.8</td>\n",
       "      <td>0.0</td>\n",
       "      <td>3.2</td>\n",
       "      <td>350.6</td>\n",
       "      <td>254.0</td>\n",
       "      <td>71.6</td>\n",
       "      <td>A</td>\n",
       "      <td>2</td>\n",
       "      <td>3</td>\n",
       "    </tr>\n",
       "    <tr>\n",
       "      <th>3</th>\n",
       "      <td>3</td>\n",
       "      <td>192400</td>\n",
       "      <td>2015-10-31</td>\n",
       "      <td>2015</td>\n",
       "      <td>Crystal Palace</td>\n",
       "      <td>Manchester Utd</td>\n",
       "      <td>4.25</td>\n",
       "      <td>1.95</td>\n",
       "      <td>3.51</td>\n",
       "      <td>50.000000</td>\n",
       "      <td>...</td>\n",
       "      <td>60.0</td>\n",
       "      <td>1.4</td>\n",
       "      <td>0.0</td>\n",
       "      <td>3.2</td>\n",
       "      <td>575.4</td>\n",
       "      <td>492.2</td>\n",
       "      <td>85.4</td>\n",
       "      <td>D</td>\n",
       "      <td>0</td>\n",
       "      <td>0</td>\n",
       "    </tr>\n",
       "    <tr>\n",
       "      <th>4</th>\n",
       "      <td>4</td>\n",
       "      <td>192401</td>\n",
       "      <td>2015-10-31</td>\n",
       "      <td>2015</td>\n",
       "      <td>Manchester City</td>\n",
       "      <td>Norwich</td>\n",
       "      <td>1.27</td>\n",
       "      <td>11.93</td>\n",
       "      <td>6.10</td>\n",
       "      <td>73.333333</td>\n",
       "      <td>...</td>\n",
       "      <td>56.4</td>\n",
       "      <td>0.8</td>\n",
       "      <td>0.0</td>\n",
       "      <td>3.4</td>\n",
       "      <td>459.2</td>\n",
       "      <td>360.4</td>\n",
       "      <td>78.2</td>\n",
       "      <td>H</td>\n",
       "      <td>2</td>\n",
       "      <td>1</td>\n",
       "    </tr>\n",
       "  </tbody>\n",
       "</table>\n",
       "<p>5 rows × 68 columns</p>\n",
       "</div>"
      ],
      "text/plain": [
       "   Unnamed: 0  GAME_ID   GAME_DATE  SEASON        HOME_TEAM       AWAY_TEAM  \\\n",
       "0           0   192397  2015-10-31    2015          Chelsea       Liverpool   \n",
       "1           1   192398  2015-10-31    2015          Swansea         Arsenal   \n",
       "2           2   192399  2015-10-31    2015        West Brom       Leicester   \n",
       "3           3   192400  2015-10-31    2015   Crystal Palace  Manchester Utd   \n",
       "4           4   192401  2015-10-31    2015  Manchester City         Norwich   \n",
       "\n",
       "   HOME_ODDS  AWAY_ODDS  DRAW_ODDS  HOME_PTS_PCT  ...  \\\n",
       "0       2.10       3.90       3.25     36.666667  ...   \n",
       "1       4.70       1.77       3.89     43.333333  ...   \n",
       "2       2.88       2.59       3.35     46.666667  ...   \n",
       "3       4.25       1.95       3.51     50.000000  ...   \n",
       "4       1.27      11.93       6.10     73.333333  ...   \n",
       "\n",
       "   AWAY_POSSESSION_LAST_GAMES  AWAY_YELLOW_CARDS_LAST_GAMES  \\\n",
       "0                        56.4                           1.4   \n",
       "1                        51.2                           1.8   \n",
       "2                        43.8                           1.8   \n",
       "3                        60.0                           1.4   \n",
       "4                        56.4                           0.8   \n",
       "\n",
       "   AWAY_RED_CARDS_LAST_GAMES  AWAY_SAVES_LAST_GAMES  \\\n",
       "0                        0.0                    2.4   \n",
       "1                        0.4                    4.0   \n",
       "2                        0.0                    3.2   \n",
       "3                        0.0                    3.2   \n",
       "4                        0.0                    3.4   \n",
       "\n",
       "   AWAY_TOTAL_PASSES_LAST_GAMES  AWAY_PASSES_ACCURATE_LAST_GAMES  \\\n",
       "0                         509.6                            419.8   \n",
       "1                         487.0                            409.8   \n",
       "2                         350.6                            254.0   \n",
       "3                         575.4                            492.2   \n",
       "4                         459.2                            360.4   \n",
       "\n",
       "   AWAY_PASSES_PCT_LAST_GAMES  OUTCOME  HOME_SCORE  AWAY_SCORE  \n",
       "0                        82.0        A           1           3  \n",
       "1                        83.4        A           0           3  \n",
       "2                        71.6        A           2           3  \n",
       "3                        85.4        D           0           0  \n",
       "4                        78.2        H           2           1  \n",
       "\n",
       "[5 rows x 68 columns]"
      ]
     },
     "execution_count": 1416,
     "metadata": {},
     "output_type": "execute_result"
    }
   ],
   "source": [
    "whole_dataset.head()"
   ]
  },
  {
   "cell_type": "code",
   "execution_count": 1417,
   "metadata": {},
   "outputs": [],
   "source": [
    "def plot_chart(title, x_label, y_label):\n",
    "    plt.ylabel(y_label)\n",
    "    plt.xlabel(x_label)\n",
    "    plt.title(title)\n",
    "    \n",
    "    path = 'charts'\n",
    "    if not os.path.exists(path):\n",
    "        os.makedirs(path)\n",
    "    \n",
    "    plt.savefig(f\"{path}/{title.replace(' ','_').lower()}.png\", dpi=300)\n",
    "    plt.show()\n",
    "\n",
    "def plot_hist(title, x_label, y_label, data):\n",
    "    plt.hist(data, density=False, bins=20)  # density=False would make counts\n",
    "    plot_chart(title, x_label, y_label)\n",
    "    \n",
    "def plot_bar(title, x_label, y_label, x_data, y_data):\n",
    "    ax= plt.subplot()\n",
    "    plt.bar(x_data, y_data) \n",
    "    # plt.setp(ax.get_xticklabels(), rotation=30, ha='right')\n",
    "    plt.xticks(fontsize=10, rotation=90)\n",
    "    plot_chart(title, x_label, y_label)\n",
    "    \n",
    "def plot_pie_chart(title, labels, data):\n",
    "    try:\n",
    "        data_converted = np.unique(data, return_counts=True)[1]\n",
    "        plt.pie(data_converted, labels = labels, startangle = 90, shadow = True, autopct='%.2f%%')\n",
    "        plt.title(title)\n",
    "        plt.savefig('charts/{}.png'.format(title.replace(' ','_').lower()), dpi=300)\n",
    "        plt.show() \n",
    "    except Exception as e:\n",
    "        print(f'Error when trying to plot the pie chart: {e}')\n",
    "\n",
    "def check_bet_worth(prediction, odds_home, odds_away, odds_draw, prob):\n",
    "    pred_odds = (1/prob)\n",
    "    return ((prediction == 'H' and (odds_home > min_threshold and odds_home < max_threshold)) or \n",
    "            (prediction == 'A' and (odds_away > min_threshold and odds_away < max_threshold)) or \n",
    "            (prediction == 'D' and (odds_draw > min_threshold and odds_draw < max_threshold)))\n",
    "\n",
    "def check_model_performance_on_game(game, prediction, bet_value, prob):\n",
    "    game_money = 0\n",
    "            \n",
    "#     goal_diff_pred = abs(home_pred_score - away_pred_score)\n",
    "#     if goal_diff_pred > 0.2 and goal_diff_pred < 0.4:\n",
    "#         return game_money\n",
    "    \n",
    "    if check_bet_worth(prediction, game['HOME_ODDS'], game['AWAY_ODDS'], game['DRAW_ODDS'], prob):\n",
    "        if game['OUTCOME'] == prediction and game['OUTCOME'] == 'H':\n",
    "            game_money = (bet_value*game['HOME_ODDS'] - bet_value)\n",
    "        elif game['OUTCOME'] == prediction and game['OUTCOME'] == 'A':\n",
    "            game_money = (bet_value*game['AWAY_ODDS'] - bet_value)\n",
    "        elif game['OUTCOME'] == prediction and game['OUTCOME'] == 'D':\n",
    "            game_money = (bet_value*game['DRAW_ODDS'] - bet_value)\n",
    "        else:\n",
    "            game_money = -bet_value\n",
    "            \n",
    "    return game_money\n",
    "\n",
    "def get_bet_value(bankroll):\n",
    "    bankroll_baseline = round(bankroll / 1000, 0) * 1000\n",
    "    return stake * bankroll_baseline\n",
    "#     return default_stake"
   ]
  },
  {
   "cell_type": "code",
   "execution_count": 1418,
   "metadata": {},
   "outputs": [],
   "source": [
    "def get_feature_correlation_matrix(dataset):\n",
    "    print('\\nGetting the feature correlation matrix...')\n",
    "\n",
    "    import seaborn as sns\n",
    "\n",
    "    try:\n",
    "        dependent_variables = dataset.iloc[:,first_attr_index:]\n",
    "        corrmat = dependent_variables.corr()\n",
    "        top_corr_features = corrmat.index\n",
    "        plt.figure(figsize=(13,13))\n",
    "        title = 'Feature Correlation'\n",
    "        plt.title(title)\n",
    "        #plot heat map\n",
    "        sns.set(font_scale=0.6)\n",
    "        g=sns.heatmap(dependent_variables.corr(),annot=True,cmap='Blues', fmt='0.1g')\n",
    "        plt.savefig('charts/{}.png'.format(title.replace(' ','_').lower()), dpi=300)\n",
    "        plt.show()\n",
    "    except:\n",
    "        print('No correlation matrix for the selected model.')"
   ]
  },
  {
   "cell_type": "code",
   "execution_count": 1419,
   "metadata": {},
   "outputs": [],
   "source": [
    "def simulate_by_model(predictions, dataset_itr):\n",
    "    money_by_date = []\n",
    "    bets = []\n",
    "    money_by_team = dict()\n",
    "    total_invested = 0\n",
    "    outcome_predictions = {'H': 0, 'A': 0, 'D': 0}\n",
    "    strikes = 0\n",
    "    no_value_games = []\n",
    "\n",
    "    money_by_date.append({\n",
    "        'date': dataset_itr.iloc[0,2],\n",
    "        'date_profit': 0,\n",
    "        'total_bankroll': bankroll\n",
    "    })\n",
    "\n",
    "    for index, game in dataset_itr.iterrows():\n",
    "        bet_value = get_bet_value(money_by_date[-1]['total_bankroll'])\n",
    "        \n",
    "        # Next date\n",
    "        if game['GAME_DATE'] != money_by_date[-1]['date']:\n",
    "                \n",
    "            money_by_date.append({\n",
    "                'date': game['GAME_DATE'],\n",
    "                'date_profit': 0,\n",
    "                'total_bankroll': money_by_date[-1]['total_bankroll']\n",
    "            })\n",
    "\n",
    "        if game['HOME_TEAM'] not in money_by_team:\n",
    "            money_by_team[game['HOME_TEAM']] = 0\n",
    "        if game['AWAY_TEAM'] not in money_by_team:\n",
    "            money_by_team[game['AWAY_TEAM']] = 0\n",
    "\n",
    "#         home_score_pred, away_score_pred = predictions[index]\n",
    "        \n",
    "#         prediction = 'D'\n",
    "#         score_pred_diff = abs(home_score_pred - away_score_pred)\n",
    "#         if home_score_pred > away_score_pred and score_pred_diff > 0.2:\n",
    "#             prediction = 'H'\n",
    "#         elif home_score_pred < away_score_pred and score_pred_diff > 0.2:\n",
    "#             prediction = 'A'\n",
    "\n",
    "        away_prob, draw_prob, home_prob = predictions[index]\n",
    "        biggest_prob = max(away_prob, draw_prob, home_prob)\n",
    "        \n",
    "        if away_prob == biggest_prob:\n",
    "            prediction = 'A'\n",
    "        elif home_prob == biggest_prob:\n",
    "            prediction = 'H'\n",
    "        else:\n",
    "            prediction = 'D'\n",
    "        \n",
    "        if prediction == game['OUTCOME']:\n",
    "            strikes += 1\n",
    "\n",
    "        game_money_model = 0\n",
    "\n",
    "#         game_money_model = check_model_performance_on_game(game, prediction, bet_value, home_score_pred, away_score_pred)\n",
    "        game_money_model = check_model_performance_on_game(game, prediction, bet_value, biggest_prob)\n",
    "\n",
    "        if game_money_model != 0:       \n",
    "            if game['OUTCOME'] == prediction and game['OUTCOME'] == 'H':\n",
    "                bets.append(['HOME', game['HOME_ODDS'], 1])\n",
    "                money_by_team[game['HOME_TEAM']] += game_money_model\n",
    "            elif game['OUTCOME'] == prediction and game['OUTCOME'] == 'A':\n",
    "                bets.append(['AWAY', game['AWAY_ODDS'], 1])\n",
    "                money_by_team[game['AWAY_TEAM']] += game_money_model\n",
    "            elif game['OUTCOME'] == prediction and game['OUTCOME'] == 'D':\n",
    "                bets.append(['DRAW', game['DRAW_ODDS'], 1])\n",
    "            else:\n",
    "                if prediction == 'H':\n",
    "                    bets.append(['HOME', game['HOME_ODDS'], 0])\n",
    "                    money_by_team[game['HOME_TEAM']] += game_money_model\n",
    "                elif prediction == 'A':\n",
    "                    bets.append(['AWAY', game['AWAY_ODDS'], 0])\n",
    "                    money_by_team[game['AWAY_TEAM']] += game_money_model\n",
    "                elif prediction == 'D':\n",
    "                    bets.append(['DRAW', game['DRAW_ODDS'], 0])\n",
    "\n",
    "            total_invested += bet_value\n",
    "\n",
    "        outcome_predictions[prediction] += 1\n",
    "\n",
    "        money_by_date[-1]['date_profit'] += game_money_model\n",
    "        money_by_date[-1]['total_bankroll'] += game_money_model\n",
    "        \n",
    "    return {\n",
    "        'results': money_by_date,\n",
    "        'outcome_distribution': outcome_predictions,\n",
    "        'bets': bets,\n",
    "        'profit_by_team': money_by_team,\n",
    "        'total_invested': total_invested,\n",
    "        'strike_rate': strikes * 100 / len(dataset_itr.index),\n",
    "    }\n"
   ]
  },
  {
   "cell_type": "code",
   "execution_count": 1420,
   "metadata": {},
   "outputs": [],
   "source": [
    "def save_league_season_results(result, season_train, season_test):\n",
    "    path = f\"leagues/{league_id}/results/regression\"\n",
    "    file_name = f\"{season_train}-{season_test}.json\"\n",
    "\n",
    "    if not os.path.exists(path):\n",
    "        os.makedirs(path)\n",
    "\n",
    "    with open(f\"{path}/{file_name}\", 'w') as f:\n",
    "        json.dump(result['results'], f, indent = 4, sort_keys = True, default = str)"
   ]
  },
  {
   "cell_type": "code",
   "execution_count": 1491,
   "metadata": {},
   "outputs": [],
   "source": [
    "from sklearn.linear_model import LinearRegression\n",
    "from sklearn.ensemble import RandomForestRegressor\n",
    "from sklearn.model_selection import RandomizedSearchCV\n",
    "from sklearn.ensemble import RandomForestClassifier, VotingClassifier\n",
    "from sklearn.linear_model import LogisticRegression\n",
    "from sklearn.neighbors import KNeighborsClassifier\n",
    "from sklearn.svm import SVC\n",
    "from sklearn.naive_bayes import GaussianNB\n",
    "\n",
    "def train_model(dataset):\n",
    "    X = dataset.loc[:, features]\n",
    "    y = dataset[targets]\n",
    "    \n",
    "#     \" Random Search CV Optmizer \"\n",
    "#     classifier = RandomForestClassifier()\n",
    "    \n",
    "#     # Number of trees in random forest\n",
    "#     n_estimators = [int(x) for x in np.linspace(start = 200, stop = 2000, num = 10)]\n",
    "#     # Number of features to consider at every split\n",
    "#     max_features = ['sqrt', 'log2', None]\n",
    "#     # Maximum number of levels in tree\n",
    "#     max_depth = [int(x) for x in np.linspace(10, 110, num = 11)]\n",
    "#     max_depth.append(None)\n",
    "#     # Minimum number of samples required to split a node\n",
    "#     min_samples_split = [2, 5, 10]\n",
    "#     # Minimum number of samples required at each leaf node\n",
    "#     min_samples_leaf = [1, 2, 4]\n",
    "#     # Method of selecting samples for training each tree\n",
    "#     bootstrap = [True, False]\n",
    "#     # Create the random grid\n",
    "#     random_grid = {'n_estimators': n_estimators,\n",
    "#                     'max_features': max_features,\n",
    "#                     'max_depth': max_depth,\n",
    "#                     'min_samples_split': min_samples_split,\n",
    "#                     'min_samples_leaf': min_samples_leaf,\n",
    "#                     'bootstrap': bootstrap}\n",
    "\n",
    "#     classifier = KNeighborsClassifier()\n",
    "#     n_neighbors=[int(x) for x in np.linspace(start = 5, stop = 2000, num = 10)]\n",
    "#     random_grid = {\n",
    "#         'n_neighbors': n_neighbors\n",
    "#     }\n",
    "                   \n",
    "#     rf_random = RandomizedSearchCV(estimator = classifier, param_distributions = random_grid, n_iter = 100, cv = 3, verbose=2, random_state=42, n_jobs = -1)\n",
    "    \n",
    "#     rf_random.fit(X, y)\n",
    "    \n",
    "#     best_random = rf_random.best_estimator_\n",
    "#     best_parameters = rf_random.cv_results_\n",
    "#     print(best_parameters)\n",
    "#     print(best_random)\n",
    "    \n",
    "#     return rf_random\n",
    "    \n",
    "#     model = RandomForestRegressor(max_depth=10, max_features='log2', min_samples_split=10,\n",
    "#                       n_estimators=2000, random_state=0)\n",
    "    rf = RandomForestClassifier(max_depth=60, max_features='log2', min_samples_leaf=4,\n",
    "                       n_estimators=2000, random_state=0)\n",
    "    lr = LogisticRegression(random_state=0)\n",
    "    knn = KNeighborsClassifier(n_neighbors=15)\n",
    "    svm = SVC(kernel = 'rbf', random_state = 0, probability = True)\n",
    "    estimators = [('rf', rf), ('knn', knn), ('svm',svm)]\n",
    "    model = VotingClassifier(estimators=estimators, voting='soft')\n",
    "\n",
    "    model.fit(X.values, y.values)\n",
    "    \n",
    "    return model"
   ]
  },
  {
   "cell_type": "code",
   "execution_count": 1492,
   "metadata": {},
   "outputs": [],
   "source": [
    "# dataset_test = whole_dataset.loc[(whole_dataset['SEASON'] >= first_season) & (whole_dataset['SEASON'] < 2022)].reset_index(drop=True)\n",
    "# train_model(dataset_test)"
   ]
  },
  {
   "cell_type": "code",
   "execution_count": 1493,
   "metadata": {},
   "outputs": [],
   "source": [
    "def predict(dataset_train, dataset_itr):\n",
    "    \n",
    "    model = train_model(dataset_train)\n",
    "\n",
    "    X = dataset_itr.loc[:, features]\n",
    "    \n",
    "    if not len(X):\n",
    "        return None, model\n",
    "    \n",
    "    predictions = model.predict(X.values)\n",
    "    predictions_prob = model.predict_proba(X.values)\n",
    "    \n",
    "    return predictions_prob, model"
   ]
  },
  {
   "cell_type": "code",
   "execution_count": 1494,
   "metadata": {},
   "outputs": [],
   "source": [
    "def simulate(season):\n",
    "    print(f\"\\Simultating the results for season {season}...\")\n",
    "    \n",
    "    dataset_train = whole_dataset.loc[(whole_dataset['SEASON'] >= first_season) & (whole_dataset['SEASON'] < season)].reset_index(drop=True)\n",
    "    dataset_itr = whole_dataset.loc[whole_dataset['SEASON'] == season].reset_index(drop=True)\n",
    "    \n",
    "    clear_output(wait=True)\n",
    "\n",
    "    print(f\"Season {season}/{last_season}\")\n",
    "\n",
    "    predictions, model = predict(dataset_train, dataset_itr)\n",
    "\n",
    "    result = dict()\n",
    "    \n",
    "    if predictions is None:\n",
    "        pass\n",
    "    else:\n",
    "        result = simulate_by_model(predictions, dataset_itr)\n",
    "        save_league_season_results(result, first_season, season)\n",
    "        \n",
    "    result['seasons'] = f\"{first_season}-{season}\"\n",
    "    result['model'] = model\n",
    "        \n",
    "    return result\n"
   ]
  },
  {
   "cell_type": "code",
   "execution_count": 1495,
   "metadata": {
    "scrolled": true
   },
   "outputs": [
    {
     "name": "stdout",
     "output_type": "stream",
     "text": [
      "Season 2022/2022\n"
     ]
    },
    {
     "name": "stderr",
     "output_type": "stream",
     "text": [
      "C:\\Users\\caiog\\anaconda3\\lib\\site-packages\\sklearn\\preprocessing\\_label.py:98: DataConversionWarning: A column-vector y was passed when a 1d array was expected. Please change the shape of y to (n_samples, ), for example using ravel().\n",
      "  y = column_or_1d(y, warn=True)\n",
      "C:\\Users\\caiog\\anaconda3\\lib\\site-packages\\sklearn\\preprocessing\\_label.py:133: DataConversionWarning: A column-vector y was passed when a 1d array was expected. Please change the shape of y to (n_samples, ), for example using ravel().\n",
      "  y = column_or_1d(y, warn=True)\n"
     ]
    }
   ],
   "source": [
    "results = []\n",
    "\n",
    "for season in range(first_season + 1, last_season + 1):\n",
    "    results.append(simulate(season))"
   ]
  },
  {
   "cell_type": "code",
   "execution_count": 1496,
   "metadata": {},
   "outputs": [],
   "source": [
    "results.sort(key=lambda x: x['results'][-1]['total_bankroll'], reverse=True)"
   ]
  },
  {
   "cell_type": "code",
   "execution_count": 1497,
   "metadata": {},
   "outputs": [],
   "source": [
    "def print_bankroll_update(result):\n",
    "    won = result['results'][-1]['total_bankroll'] - bankroll\n",
    "    print(f\"\\nSeasons: {result['seasons']} // Accuracy: {round(result['strike_rate'], 2)}%\")\n",
    "    print(f\"Total moneyline bets: {len([r for r in result['bets'] if r[2]])}\")\n",
    "    print(f\"Yield: {round(won*100/result['total_invested'], 2)}% // Bet Accuracy: {round(len([r for r in result['bets'] if r[2]])*100/len(result['bets']), 2)}% \\nBankroll: {round(result['results'][-1]['total_bankroll'], 2)} // Won: {round(won, 2)} // Margin: {round(100*won/bankroll, 2)}%\")"
   ]
  },
  {
   "cell_type": "code",
   "execution_count": 1498,
   "metadata": {},
   "outputs": [
    {
     "name": "stdout",
     "output_type": "stream",
     "text": [
      "\n",
      "Seasons: 2015-2016 // Accuracy: 55.4%\n",
      "Total moneyline bets: 75\n",
      "Yield: 16.17% // Bet Accuracy: 46.01% \n",
      "Bankroll: 4396.75 // Won: 2396.75 // Margin: 119.84%\n",
      "\n",
      "Seasons: 2015-2018 // Accuracy: 57.55%\n",
      "Total moneyline bets: 56\n",
      "Yield: 4.1% // Bet Accuracy: 40.88% \n",
      "Bankroll: 2328.75 // Won: 328.75 // Margin: 16.44%\n",
      "\n",
      "Seasons: 2015-2019 // Accuracy: 53.21%\n",
      "Total moneyline bets: 65\n",
      "Yield: 3.59% // Bet Accuracy: 42.21% \n",
      "Bankroll: 2285.25 // Won: 285.25 // Margin: 14.26%\n",
      "\n",
      "Seasons: 2015-2022 // Accuracy: 51.02%\n",
      "Total moneyline bets: 12\n",
      "Yield: -4.77% // Bet Accuracy: 40.0% \n",
      "Bankroll: 1928.5 // Won: -71.5 // Margin: -3.58%\n",
      "\n",
      "Seasons: 2015-2020 // Accuracy: 48.01%\n",
      "Total moneyline bets: 55\n",
      "Yield: -11.69% // Bet Accuracy: 33.95% \n",
      "Bankroll: 1257.5 // Won: -742.5 // Margin: -37.12%\n",
      "\n",
      "Seasons: 2015-2021 // Accuracy: 53.21%\n",
      "Total moneyline bets: 54\n",
      "Yield: -15.72% // Bet Accuracy: 37.5% \n",
      "Bankroll: 1222.0 // Won: -778.0 // Margin: -38.9%\n",
      "\n",
      "Seasons: 2015-2017 // Accuracy: 50.72%\n",
      "Total moneyline bets: 56\n",
      "Yield: -11.37% // Bet Accuracy: 36.13% \n",
      "Bankroll: 1207.0 // Won: -793.0 // Margin: -39.65%\n"
     ]
    }
   ],
   "source": [
    "for r in results:\n",
    "    print_bankroll_update(r)"
   ]
  },
  {
   "cell_type": "code",
   "execution_count": 1499,
   "metadata": {
    "scrolled": false
   },
   "outputs": [],
   "source": [
    "result_for_analysis = results[0]"
   ]
  },
  {
   "cell_type": "code",
   "execution_count": 1500,
   "metadata": {},
   "outputs": [
    {
     "name": "stdout",
     "output_type": "stream",
     "text": [
      "{'H': 203, 'A': 34, 'D': 41}\n"
     ]
    }
   ],
   "source": [
    "print(result_for_analysis['outcome_distribution'])"
   ]
  },
  {
   "cell_type": "code",
   "execution_count": 1501,
   "metadata": {},
   "outputs": [
    {
     "name": "stdout",
     "output_type": "stream",
     "text": [
      "\n",
      "Plotting charts...\n"
     ]
    }
   ],
   "source": [
    "print('\\nPlotting charts...')\n",
    "\n",
    "models_tracking =  [np.array([x['total_bankroll'] for x in result_for_analysis['results']], dtype=np.float32)]\n",
    "\n",
    "money_by_date = np.array([[r['date'], r['total_bankroll']] for r in result_for_analysis['results']], dtype=str)\n",
    "correct_bets = list(filter(lambda x: x[2] == 1, result_for_analysis['bets']))\n",
    "missed_bets = list(filter(lambda x: x[2] == 0, result_for_analysis['bets']))\n",
    "correct_bets_odds = np.array(list(map(lambda x: x[1], correct_bets)))\n",
    "missed_bets_odds = np.array(list(map(lambda x: x[1], missed_bets)))\n",
    "correct_bets_home = np.array(list(map(lambda x: x[0], correct_bets)))\n",
    "missed_bets_home = np.array(list(map(lambda x: x[0], missed_bets)))\n",
    "\n",
    "money_by_team = dict(sorted(result_for_analysis['profit_by_team'].items(), key=lambda x: x[1]))\n",
    "money_by_team_labels = np.array(list(money_by_team.keys()), dtype=str)\n",
    "money_by_team_values = np.array(list(money_by_team.values()), dtype=np.float32)"
   ]
  },
  {
   "cell_type": "code",
   "execution_count": 1502,
   "metadata": {},
   "outputs": [
    {
     "data": {
      "image/png": "[encoded data removed]",
      "text/plain": [
       "<Figure size 432x288 with 1 Axes>"
      ]
     },
     "metadata": {
      "needs_background": "light"
     },
     "output_type": "display_data"
    },
    {
     "data": {
      "image/png": "[encoded data removed]",
      "text/plain": [
       "<Figure size 432x288 with 1 Axes>"
      ]
     },
     "metadata": {
      "needs_background": "light"
     },
     "output_type": "display_data"
    },
    {
     "data": {
      "image/png": "[encoded data removed]",
      "text/plain": [
       "<Figure size 432x288 with 1 Axes>"
      ]
     },
     "metadata": {},
     "output_type": "display_data"
    },
    {
     "data": {
      "image/png": "[encoded data removed]",
      "text/plain": [
       "<Figure size 432x288 with 1 Axes>"
      ]
     },
     "metadata": {},
     "output_type": "display_data"
    },
    {
     "data": {
      "image/png": "[encoded data removed]",
      "text/plain": [
       "<Figure size 432x288 with 1 Axes>"
      ]
     },
     "metadata": {
      "needs_background": "light"
     },
     "output_type": "display_data"
    }
   ],
   "source": [
    "plot_hist('Missed Bets by Odds', 'Odds', 'X Times', missed_bets_odds)\n",
    "\n",
    "plot_hist('Correct Bets by Odds', 'Odds', 'X Times', correct_bets_odds)\n",
    "\n",
    "plot_pie_chart('Correct Bets by Home-Away', ['Home', 'Away', 'Draw'], correct_bets_home)\n",
    "\n",
    "plot_pie_chart('Missed Bets by Home-Away', ['Home', 'Away', 'Draw'], missed_bets_home)\n",
    "\n",
    "plot_bar('Profit by Team', 'Teams', 'Profit', money_by_team_labels, money_by_team_values)"
   ]
  },
  {
   "cell_type": "code",
   "execution_count": 1503,
   "metadata": {},
   "outputs": [
    {
     "data": {
      "image/png": "[encoded data removed]",
      "text/plain": [
       "<Figure size 432x288 with 1 Axes>"
      ]
     },
     "metadata": {
      "needs_background": "light"
     },
     "output_type": "display_data"
    }
   ],
   "source": [
    "xpoints = money_by_date[:, 0].astype(np.datetime64)\n",
    "\n",
    "plt.gca().xaxis.set_major_formatter(mdates.DateFormatter('%Y-%m-%d'))\n",
    "plt.gca().xaxis.set_major_locator(mdates.DayLocator(interval=15))\n",
    "for model in models_tracking:\n",
    "    plt.plot(xpoints, model)\n",
    "\n",
    "title = \"Profit by Date\"\n",
    "plt.ylabel(\"Profit($)\")\n",
    "plt.xlabel(\"Date\")\n",
    "plt.title(title)\n",
    "plt.gcf().autofmt_xdate()\n",
    "plt.savefig('charts/{}.png'.format(title.replace(' ','_').lower()), dpi=300)\n",
    "plt.show()"
   ]
  },
  {
   "cell_type": "code",
   "execution_count": 1504,
   "metadata": {},
   "outputs": [],
   "source": [
    "from joblib import dump, load\n",
    "\n",
    "save_current_season_model = False\n",
    "current_season = 2022\n",
    "\n",
    "if save_current_season_model:\n",
    "    result = simulate(current_season)\n",
    "    dump(result['model'], f'{league_id}/model.joblib')"
   ]
  }
 ],
 "metadata": {
  "kernelspec": {
   "display_name": "Python 3 (ipykernel)",
   "language": "python",
   "name": "python3"
  },
  "language_info": {
   "codemirror_mode": {
    "name": "ipython",
    "version": 3
   },
   "file_extension": ".py",
   "mimetype": "text/x-python",
   "name": "python",
   "nbconvert_exporter": "python",
   "pygments_lexer": "ipython3",
   "version": "3.9.12"
  }
 },
 "nbformat": 4,
 "nbformat_minor": 2
}
