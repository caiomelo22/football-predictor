{
 "cells": [
  {
   "cell_type": "code",
   "execution_count": 367,
   "metadata": {},
   "outputs": [],
   "source": [
    "import sys  \n",
    "sys.path.insert(0, './machine_learning_models')\n",
    "\n",
    "from logistic_regression import logistic_regression\n",
    "from stochastic_gradient_descent import stochastic_gradient_descent\n",
    "from knn import knn\n",
    "from kernel_svm import kernel_svm\n",
    "from naive_bayes import naive_bayes\n",
    "from random_forest import random_forest\n",
    "from voting_classifier import voting_classifier\n",
    "import os\n",
    "import pandas as pd\n",
    "import numpy as np\n",
    "import matplotlib.pyplot as plt\n",
    "import datetime as dt\n",
    "import matplotlib.dates as mdates\n",
    "from sklearn.metrics import confusion_matrix, accuracy_score\n",
    "import pickle"
   ]
  },
  {
   "cell_type": "code",
   "execution_count": 368,
   "metadata": {},
   "outputs": [],
   "source": [
    "league_id = 253 # Choose the league id\n",
    "min_threshold = 1.75\n",
    "max_threshold = 10"
   ]
  },
  {
   "cell_type": "code",
   "execution_count": 369,
   "metadata": {},
   "outputs": [],
   "source": [
    "def plot_chart(title, x_label, y_label):\n",
    "    plt.ylabel(y_label)\n",
    "    plt.xlabel(x_label)\n",
    "    plt.title(title)\n",
    "    plt.savefig('charts/{}.png'.format(title.replace(' ','_').lower()), dpi=300)\n",
    "    plt.show()\n",
    "\n",
    "def plot_hist(title, x_label, y_label, data):\n",
    "    plt.hist(data, density=False, bins=20)  # density=False would make counts\n",
    "    plot_chart(title, x_label, y_label)\n",
    "    \n",
    "def plot_bar(title, x_label, y_label, x_data, y_data):\n",
    "    ax= plt.subplot()\n",
    "    plt.bar(x_data, y_data) \n",
    "    # plt.setp(ax.get_xticklabels(), rotation=30, ha='right')\n",
    "    plt.xticks(fontsize=10, rotation=90)\n",
    "    plot_chart(title, x_label, y_label)\n",
    "    \n",
    "def plot_pie_chart(title, labels, data):\n",
    "    data_converted = np.unique(data, return_counts=True)[1]\n",
    "    plt.pie(data_converted, labels = labels, startangle = 90, shadow = True, autopct='%.2f%%')\n",
    "    plt.title(title)\n",
    "    plt.savefig('charts/{}.png'.format(title.replace(' ','_').lower()), dpi=300)\n",
    "    plt.show() \n",
    "    \n",
    "def get_season_year(season_id):\n",
    "    if len(str(season_id)) == 4:\n",
    "        return int(season_id)\n",
    "    return int(str(season_id)[1:])\n",
    "\n",
    "def check_bet_worth(prediction, odds_home, odds_away, odds_draw, pred_odds_home, pred_odds_away, pred_odds_draw):\n",
    "    return ((prediction == 'H' and (pred_odds_home < odds_home) and (odds_home > min_threshold and odds_home < max_threshold)) or \n",
    "            (prediction == 'A' and (pred_odds_away < odds_away) and (odds_away > min_threshold and odds_away < max_threshold)) or\n",
    "            (prediction == 'D' and (pred_odds_draw < odds_draw) and (odds_draw > min_threshold and odds_draw < max_threshold)))\n",
    "\n",
    "def check_game_with_odds(game, bet_value, pred_odds_home, pred_odds_away, pred_odds_draw):\n",
    "    game_money = 0\n",
    "    \n",
    "    prediction = 'D'\n",
    "    if game['HOME_ODDS'] > game['AWAY_ODDS']:\n",
    "        prediction = 'H'\n",
    "    elif game['AWAY_ODDS'] > game['HOME_ODDS']:\n",
    "        prediction = 'A'\n",
    "    \n",
    "    if check_bet_worth(prediction, game['HOME_ODDS'], game['AWAY_ODDS'], game['DRAW_ODDS'], pred_odds_home, pred_odds_away, pred_odds_draw):\n",
    "        if game['OUTCOME'] == prediction and game['OUTCOME'] == 'H':\n",
    "            game_money = (bet_value*game['HOME_ODDS'] - bet_value)\n",
    "        elif game['OUTCOME'] == prediction and game['OUTCOME'] == 'A':\n",
    "            game_money = (bet_value*game['AWAY_ODDS'] - bet_value)\n",
    "        elif game['OUTCOME'] == prediction and game['OUTCOME'] == 'D':\n",
    "            game_money = (bet_value*game['DRAW_ODDS'] - bet_value)\n",
    "        else:\n",
    "            game_money = -bet_value\n",
    "    return game_money\n",
    "\n",
    "def check_model_performance_on_game(game, prediction, bet_value, pred_odds_home, pred_odds_away, pred_odds_draw):\n",
    "    game_money = 0\n",
    "    \n",
    "    if check_bet_worth(prediction, game['HOME_ODDS'], game['AWAY_ODDS'], game['DRAW_ODDS'], pred_odds_home, pred_odds_away, pred_odds_draw):\n",
    "        if game['OUTCOME'] == prediction and game['OUTCOME'] == 'H':\n",
    "            game_money = (bet_value*game['HOME_ODDS'] - bet_value)\n",
    "        elif game['OUTCOME'] == prediction and game['OUTCOME'] == 'A':\n",
    "            game_money = (bet_value*game['AWAY_ODDS'] - bet_value)\n",
    "        elif game['OUTCOME'] == prediction and game['OUTCOME'] == 'D':\n",
    "            game_money = (bet_value*game['DRAW_ODDS'] - bet_value)\n",
    "        else:\n",
    "            game_money = -bet_value\n",
    "    return game_money\n",
    "\n",
    "def get_bet_value(prob):\n",
    "#     bet_value = 0 \n",
    "#     if prob >= 0.5:\n",
    "#         bet_value = 10*prob\n",
    "#     else:\n",
    "#         bet_value = 10*abs(1-prob)\n",
    "\n",
    "    bet_value = 10\n",
    "        \n",
    "    return bet_value"
   ]
  },
  {
   "cell_type": "code",
   "execution_count": 370,
   "metadata": {},
   "outputs": [
    {
     "name": "stdout",
     "output_type": "stream",
     "text": [
      "\n",
      "Getting data for the model...\n"
     ]
    }
   ],
   "source": [
    "print('\\nGetting data for the model...')\n",
    "\n",
    "season_file = '2014-2022'\n",
    "\n",
    "first_season_train = 2014\n",
    "last_season_train = 2021\n",
    "\n",
    "season = \"{}-{}\".format(first_season_train, last_season_train)\n",
    "\n",
    "default_path = f'./leagues/{league_id}'\n",
    "whole_dataset = (pd.read_csv(f'{default_path}/data/{season_file}.csv')).dropna()\n",
    "whole_dataset['GAME_DATE'] = pd.to_datetime(whole_dataset['GAME_DATE']).dt.date\n",
    "\n",
    "dataset_train = whole_dataset.loc[(whole_dataset['SEASON'] >= first_season_train) & (whole_dataset['SEASON'] <= last_season_train)].reset_index(drop=True)\n",
    "\n",
    "first_season_test = 2022\n",
    "last_season_test = 2022\n",
    "\n",
    "dataset = whole_dataset.loc[(whole_dataset['SEASON'] >= first_season_test) & (whole_dataset['SEASON'] <= last_season_test)].reset_index(drop=True)\n",
    "\n",
    "results = []\n",
    "\n",
    "X_train = dataset_train.iloc[:, 6:-1].values\n",
    "X = dataset.iloc[:, 6:-1].values\n",
    "y = dataset.iloc[:, -1].values"
   ]
  },
  {
   "cell_type": "code",
   "execution_count": 371,
   "metadata": {},
   "outputs": [
    {
     "data": {
      "text/html": [
       "<div>\n",
       "<style scoped>\n",
       "    .dataframe tbody tr th:only-of-type {\n",
       "        vertical-align: middle;\n",
       "    }\n",
       "\n",
       "    .dataframe tbody tr th {\n",
       "        vertical-align: top;\n",
       "    }\n",
       "\n",
       "    .dataframe thead th {\n",
       "        text-align: right;\n",
       "    }\n",
       "</style>\n",
       "<table border=\"1\" class=\"dataframe\">\n",
       "  <thead>\n",
       "    <tr style=\"text-align: right;\">\n",
       "      <th></th>\n",
       "      <th>Unnamed: 0</th>\n",
       "      <th>GAME_ID</th>\n",
       "      <th>GAME_DATE</th>\n",
       "      <th>SEASON</th>\n",
       "      <th>HOME_TEAM</th>\n",
       "      <th>AWAY_TEAM</th>\n",
       "      <th>HOME_ODDS</th>\n",
       "      <th>AWAY_ODDS</th>\n",
       "      <th>DRAW_ODDS</th>\n",
       "      <th>HOME_PTS_PCT</th>\n",
       "      <th>...</th>\n",
       "      <th>AWAY_AWAY_DRAW_PCT</th>\n",
       "      <th>AWAY_AWAY_LOSS_PCT</th>\n",
       "      <th>AWAY_SCORED_LAST_5</th>\n",
       "      <th>AWAY_CONCEDED_LAST_5</th>\n",
       "      <th>AWAY_AWAY_SCORED_LAST_5</th>\n",
       "      <th>AWAY_AWAY_CONCEDED_LAST_5</th>\n",
       "      <th>AWAY_WIN_PCT_5</th>\n",
       "      <th>AWAY_DRAW_PCT_5</th>\n",
       "      <th>AWAY_LOSS_PCT_5</th>\n",
       "      <th>OUTCOME</th>\n",
       "    </tr>\n",
       "  </thead>\n",
       "  <tbody>\n",
       "    <tr>\n",
       "      <th>0</th>\n",
       "      <td>0</td>\n",
       "      <td>491587</td>\n",
       "      <td>2014-05-24</td>\n",
       "      <td>2014</td>\n",
       "      <td>Colorado Rapids</td>\n",
       "      <td>CF Montreal</td>\n",
       "      <td>1.80</td>\n",
       "      <td>4.35</td>\n",
       "      <td>3.58</td>\n",
       "      <td>40.000000</td>\n",
       "      <td>...</td>\n",
       "      <td>40.000000</td>\n",
       "      <td>60.000000</td>\n",
       "      <td>0.6</td>\n",
       "      <td>1.8</td>\n",
       "      <td>0.500000</td>\n",
       "      <td>2.5</td>\n",
       "      <td>20.0</td>\n",
       "      <td>40.0</td>\n",
       "      <td>40.0</td>\n",
       "      <td>H</td>\n",
       "    </tr>\n",
       "    <tr>\n",
       "      <th>1</th>\n",
       "      <td>1</td>\n",
       "      <td>491591</td>\n",
       "      <td>2014-05-27</td>\n",
       "      <td>2014</td>\n",
       "      <td>Sporting Kansas City</td>\n",
       "      <td>New York Red Bulls</td>\n",
       "      <td>1.81</td>\n",
       "      <td>4.31</td>\n",
       "      <td>3.61</td>\n",
       "      <td>50.000000</td>\n",
       "      <td>...</td>\n",
       "      <td>50.000000</td>\n",
       "      <td>33.333333</td>\n",
       "      <td>1.4</td>\n",
       "      <td>2.0</td>\n",
       "      <td>0.666667</td>\n",
       "      <td>1.0</td>\n",
       "      <td>20.0</td>\n",
       "      <td>20.0</td>\n",
       "      <td>60.0</td>\n",
       "      <td>D</td>\n",
       "    </tr>\n",
       "    <tr>\n",
       "      <th>2</th>\n",
       "      <td>2</td>\n",
       "      <td>491593</td>\n",
       "      <td>2014-05-31</td>\n",
       "      <td>2014</td>\n",
       "      <td>Seattle Sounders</td>\n",
       "      <td>Real Salt Lake</td>\n",
       "      <td>1.82</td>\n",
       "      <td>4.28</td>\n",
       "      <td>3.57</td>\n",
       "      <td>69.444444</td>\n",
       "      <td>...</td>\n",
       "      <td>50.000000</td>\n",
       "      <td>0.000000</td>\n",
       "      <td>2.2</td>\n",
       "      <td>1.0</td>\n",
       "      <td>4.000000</td>\n",
       "      <td>2.0</td>\n",
       "      <td>80.0</td>\n",
       "      <td>20.0</td>\n",
       "      <td>0.0</td>\n",
       "      <td>H</td>\n",
       "    </tr>\n",
       "    <tr>\n",
       "      <th>3</th>\n",
       "      <td>3</td>\n",
       "      <td>491595</td>\n",
       "      <td>2014-05-31</td>\n",
       "      <td>2014</td>\n",
       "      <td>DC United</td>\n",
       "      <td>Sporting Kansas City</td>\n",
       "      <td>2.81</td>\n",
       "      <td>2.55</td>\n",
       "      <td>3.16</td>\n",
       "      <td>50.000000</td>\n",
       "      <td>...</td>\n",
       "      <td>0.000000</td>\n",
       "      <td>60.000000</td>\n",
       "      <td>1.6</td>\n",
       "      <td>1.4</td>\n",
       "      <td>2.000000</td>\n",
       "      <td>1.0</td>\n",
       "      <td>20.0</td>\n",
       "      <td>40.0</td>\n",
       "      <td>40.0</td>\n",
       "      <td>H</td>\n",
       "    </tr>\n",
       "    <tr>\n",
       "      <th>4</th>\n",
       "      <td>4</td>\n",
       "      <td>491596</td>\n",
       "      <td>2014-05-31</td>\n",
       "      <td>2014</td>\n",
       "      <td>CF Montreal</td>\n",
       "      <td>New England Revolution</td>\n",
       "      <td>2.54</td>\n",
       "      <td>2.66</td>\n",
       "      <td>3.32</td>\n",
       "      <td>21.212121</td>\n",
       "      <td>...</td>\n",
       "      <td>14.285714</td>\n",
       "      <td>42.857143</td>\n",
       "      <td>3.2</td>\n",
       "      <td>1.0</td>\n",
       "      <td>3.500000</td>\n",
       "      <td>2.0</td>\n",
       "      <td>100.0</td>\n",
       "      <td>0.0</td>\n",
       "      <td>0.0</td>\n",
       "      <td>H</td>\n",
       "    </tr>\n",
       "  </tbody>\n",
       "</table>\n",
       "<p>5 rows × 38 columns</p>\n",
       "</div>"
      ],
      "text/plain": [
       "   Unnamed: 0  GAME_ID   GAME_DATE  SEASON             HOME_TEAM  \\\n",
       "0           0   491587  2014-05-24    2014       Colorado Rapids   \n",
       "1           1   491591  2014-05-27    2014  Sporting Kansas City   \n",
       "2           2   491593  2014-05-31    2014      Seattle Sounders   \n",
       "3           3   491595  2014-05-31    2014             DC United   \n",
       "4           4   491596  2014-05-31    2014           CF Montreal   \n",
       "\n",
       "                AWAY_TEAM  HOME_ODDS  AWAY_ODDS  DRAW_ODDS  HOME_PTS_PCT  ...  \\\n",
       "0             CF Montreal       1.80       4.35       3.58     40.000000  ...   \n",
       "1      New York Red Bulls       1.81       4.31       3.61     50.000000  ...   \n",
       "2          Real Salt Lake       1.82       4.28       3.57     69.444444  ...   \n",
       "3    Sporting Kansas City       2.81       2.55       3.16     50.000000  ...   \n",
       "4  New England Revolution       2.54       2.66       3.32     21.212121  ...   \n",
       "\n",
       "   AWAY_AWAY_DRAW_PCT  AWAY_AWAY_LOSS_PCT  AWAY_SCORED_LAST_5  \\\n",
       "0           40.000000           60.000000                 0.6   \n",
       "1           50.000000           33.333333                 1.4   \n",
       "2           50.000000            0.000000                 2.2   \n",
       "3            0.000000           60.000000                 1.6   \n",
       "4           14.285714           42.857143                 3.2   \n",
       "\n",
       "   AWAY_CONCEDED_LAST_5  AWAY_AWAY_SCORED_LAST_5  AWAY_AWAY_CONCEDED_LAST_5  \\\n",
       "0                   1.8                 0.500000                        2.5   \n",
       "1                   2.0                 0.666667                        1.0   \n",
       "2                   1.0                 4.000000                        2.0   \n",
       "3                   1.4                 2.000000                        1.0   \n",
       "4                   1.0                 3.500000                        2.0   \n",
       "\n",
       "   AWAY_WIN_PCT_5  AWAY_DRAW_PCT_5  AWAY_LOSS_PCT_5  OUTCOME  \n",
       "0            20.0             40.0             40.0        H  \n",
       "1            20.0             20.0             60.0        D  \n",
       "2            80.0             20.0              0.0        H  \n",
       "3            20.0             40.0             40.0        H  \n",
       "4           100.0              0.0              0.0        H  \n",
       "\n",
       "[5 rows x 38 columns]"
      ]
     },
     "execution_count": 371,
     "metadata": {},
     "output_type": "execute_result"
    }
   ],
   "source": [
    "dataset_train.head()"
   ]
  },
  {
   "cell_type": "code",
   "execution_count": 372,
   "metadata": {},
   "outputs": [
    {
     "data": {
      "text/html": [
       "<div>\n",
       "<style scoped>\n",
       "    .dataframe tbody tr th:only-of-type {\n",
       "        vertical-align: middle;\n",
       "    }\n",
       "\n",
       "    .dataframe tbody tr th {\n",
       "        vertical-align: top;\n",
       "    }\n",
       "\n",
       "    .dataframe thead th {\n",
       "        text-align: right;\n",
       "    }\n",
       "</style>\n",
       "<table border=\"1\" class=\"dataframe\">\n",
       "  <thead>\n",
       "    <tr style=\"text-align: right;\">\n",
       "      <th></th>\n",
       "      <th>Unnamed: 0</th>\n",
       "      <th>GAME_ID</th>\n",
       "      <th>GAME_DATE</th>\n",
       "      <th>SEASON</th>\n",
       "      <th>HOME_TEAM</th>\n",
       "      <th>AWAY_TEAM</th>\n",
       "      <th>HOME_ODDS</th>\n",
       "      <th>AWAY_ODDS</th>\n",
       "      <th>DRAW_ODDS</th>\n",
       "      <th>HOME_PTS_PCT</th>\n",
       "      <th>...</th>\n",
       "      <th>AWAY_AWAY_DRAW_PCT</th>\n",
       "      <th>AWAY_AWAY_LOSS_PCT</th>\n",
       "      <th>AWAY_SCORED_LAST_5</th>\n",
       "      <th>AWAY_CONCEDED_LAST_5</th>\n",
       "      <th>AWAY_AWAY_SCORED_LAST_5</th>\n",
       "      <th>AWAY_AWAY_CONCEDED_LAST_5</th>\n",
       "      <th>AWAY_WIN_PCT_5</th>\n",
       "      <th>AWAY_DRAW_PCT_5</th>\n",
       "      <th>AWAY_LOSS_PCT_5</th>\n",
       "      <th>OUTCOME</th>\n",
       "    </tr>\n",
       "  </thead>\n",
       "  <tbody>\n",
       "    <tr>\n",
       "      <th>0</th>\n",
       "      <td>1558</td>\n",
       "      <td>816879</td>\n",
       "      <td>2022-05-18</td>\n",
       "      <td>2022</td>\n",
       "      <td>Sporting Kansas City</td>\n",
       "      <td>Colorado Rapids</td>\n",
       "      <td>2.55</td>\n",
       "      <td>2.74</td>\n",
       "      <td>3.34</td>\n",
       "      <td>25.000000</td>\n",
       "      <td>...</td>\n",
       "      <td>20.000000</td>\n",
       "      <td>80.000000</td>\n",
       "      <td>1.0</td>\n",
       "      <td>0.8</td>\n",
       "      <td>0.500000</td>\n",
       "      <td>2.000000</td>\n",
       "      <td>40.0</td>\n",
       "      <td>20.0</td>\n",
       "      <td>40.0</td>\n",
       "      <td>H</td>\n",
       "    </tr>\n",
       "    <tr>\n",
       "      <th>1</th>\n",
       "      <td>1559</td>\n",
       "      <td>816883</td>\n",
       "      <td>2022-05-18</td>\n",
       "      <td>2022</td>\n",
       "      <td>San Jose Earthquakes</td>\n",
       "      <td>Portland Timbers</td>\n",
       "      <td>2.07</td>\n",
       "      <td>3.40</td>\n",
       "      <td>3.57</td>\n",
       "      <td>30.000000</td>\n",
       "      <td>...</td>\n",
       "      <td>50.000000</td>\n",
       "      <td>33.333333</td>\n",
       "      <td>1.6</td>\n",
       "      <td>1.0</td>\n",
       "      <td>0.333333</td>\n",
       "      <td>1.000000</td>\n",
       "      <td>20.0</td>\n",
       "      <td>60.0</td>\n",
       "      <td>20.0</td>\n",
       "      <td>H</td>\n",
       "    </tr>\n",
       "    <tr>\n",
       "      <th>2</th>\n",
       "      <td>1560</td>\n",
       "      <td>816886</td>\n",
       "      <td>2022-05-21</td>\n",
       "      <td>2022</td>\n",
       "      <td>FC Cincinnati</td>\n",
       "      <td>New England Revolution</td>\n",
       "      <td>2.56</td>\n",
       "      <td>2.56</td>\n",
       "      <td>3.62</td>\n",
       "      <td>53.333333</td>\n",
       "      <td>...</td>\n",
       "      <td>40.000000</td>\n",
       "      <td>60.000000</td>\n",
       "      <td>2.0</td>\n",
       "      <td>1.6</td>\n",
       "      <td>2.000000</td>\n",
       "      <td>2.500000</td>\n",
       "      <td>40.0</td>\n",
       "      <td>40.0</td>\n",
       "      <td>20.0</td>\n",
       "      <td>A</td>\n",
       "    </tr>\n",
       "    <tr>\n",
       "      <th>3</th>\n",
       "      <td>1561</td>\n",
       "      <td>816885</td>\n",
       "      <td>2022-05-21</td>\n",
       "      <td>2022</td>\n",
       "      <td>DC United</td>\n",
       "      <td>Toronto FC</td>\n",
       "      <td>1.43</td>\n",
       "      <td>6.60</td>\n",
       "      <td>4.89</td>\n",
       "      <td>43.333333</td>\n",
       "      <td>...</td>\n",
       "      <td>33.333333</td>\n",
       "      <td>66.666667</td>\n",
       "      <td>1.4</td>\n",
       "      <td>2.2</td>\n",
       "      <td>1.333333</td>\n",
       "      <td>2.666667</td>\n",
       "      <td>20.0</td>\n",
       "      <td>0.0</td>\n",
       "      <td>80.0</td>\n",
       "      <td>D</td>\n",
       "    </tr>\n",
       "    <tr>\n",
       "      <th>4</th>\n",
       "      <td>1562</td>\n",
       "      <td>816890</td>\n",
       "      <td>2022-05-22</td>\n",
       "      <td>2022</td>\n",
       "      <td>New York City</td>\n",
       "      <td>Chicago Fire</td>\n",
       "      <td>1.49</td>\n",
       "      <td>6.14</td>\n",
       "      <td>4.45</td>\n",
       "      <td>60.606061</td>\n",
       "      <td>...</td>\n",
       "      <td>40.000000</td>\n",
       "      <td>40.000000</td>\n",
       "      <td>1.2</td>\n",
       "      <td>2.8</td>\n",
       "      <td>1.333333</td>\n",
       "      <td>3.333333</td>\n",
       "      <td>0.0</td>\n",
       "      <td>20.0</td>\n",
       "      <td>80.0</td>\n",
       "      <td>H</td>\n",
       "    </tr>\n",
       "  </tbody>\n",
       "</table>\n",
       "<p>5 rows × 38 columns</p>\n",
       "</div>"
      ],
      "text/plain": [
       "   Unnamed: 0  GAME_ID   GAME_DATE  SEASON             HOME_TEAM  \\\n",
       "0        1558   816879  2022-05-18    2022  Sporting Kansas City   \n",
       "1        1559   816883  2022-05-18    2022  San Jose Earthquakes   \n",
       "2        1560   816886  2022-05-21    2022         FC Cincinnati   \n",
       "3        1561   816885  2022-05-21    2022             DC United   \n",
       "4        1562   816890  2022-05-22    2022         New York City   \n",
       "\n",
       "                AWAY_TEAM  HOME_ODDS  AWAY_ODDS  DRAW_ODDS  HOME_PTS_PCT  ...  \\\n",
       "0         Colorado Rapids       2.55       2.74       3.34     25.000000  ...   \n",
       "1        Portland Timbers       2.07       3.40       3.57     30.000000  ...   \n",
       "2  New England Revolution       2.56       2.56       3.62     53.333333  ...   \n",
       "3              Toronto FC       1.43       6.60       4.89     43.333333  ...   \n",
       "4            Chicago Fire       1.49       6.14       4.45     60.606061  ...   \n",
       "\n",
       "   AWAY_AWAY_DRAW_PCT  AWAY_AWAY_LOSS_PCT  AWAY_SCORED_LAST_5  \\\n",
       "0           20.000000           80.000000                 1.0   \n",
       "1           50.000000           33.333333                 1.6   \n",
       "2           40.000000           60.000000                 2.0   \n",
       "3           33.333333           66.666667                 1.4   \n",
       "4           40.000000           40.000000                 1.2   \n",
       "\n",
       "   AWAY_CONCEDED_LAST_5  AWAY_AWAY_SCORED_LAST_5  AWAY_AWAY_CONCEDED_LAST_5  \\\n",
       "0                   0.8                 0.500000                   2.000000   \n",
       "1                   1.0                 0.333333                   1.000000   \n",
       "2                   1.6                 2.000000                   2.500000   \n",
       "3                   2.2                 1.333333                   2.666667   \n",
       "4                   2.8                 1.333333                   3.333333   \n",
       "\n",
       "   AWAY_WIN_PCT_5  AWAY_DRAW_PCT_5  AWAY_LOSS_PCT_5  OUTCOME  \n",
       "0            40.0             20.0             40.0        H  \n",
       "1            20.0             60.0             20.0        H  \n",
       "2            40.0             40.0             20.0        A  \n",
       "3            20.0              0.0             80.0        D  \n",
       "4             0.0             20.0             80.0        H  \n",
       "\n",
       "[5 rows x 38 columns]"
      ]
     },
     "execution_count": 372,
     "metadata": {},
     "output_type": "execute_result"
    }
   ],
   "source": [
    "dataset.head()"
   ]
  },
  {
   "cell_type": "code",
   "execution_count": 373,
   "metadata": {},
   "outputs": [],
   "source": [
    "directory = f'{default_path}/models/{season}'\n",
    "if not os.path.exists(directory):\n",
    "    os.makedirs(directory)"
   ]
  },
  {
   "cell_type": "code",
   "execution_count": 374,
   "metadata": {},
   "outputs": [
    {
     "name": "stdout",
     "output_type": "stream",
     "text": [
      "\n",
      "Executing the logistic Regression model...\n"
     ]
    }
   ],
   "source": [
    "print('\\nExecuting the logistic Regression model...')\n",
    "Pkl_Filename = \"{}/LogisticRegressionModel.pkl\".format(directory)\n",
    "try:\n",
    "    with open(Pkl_Filename, 'rb') as file:  \n",
    "        logisticRegression = pickle.load(file)\n",
    "except:\n",
    "    logisticRegression = logistic_regression(dataset_train)\n",
    "    with open(Pkl_Filename, 'wb') as file:  \n",
    "        pickle.dump(logisticRegression, file)\n",
    "results.append(dict(model='Logistic Regression',cm=logisticRegression[0], acc=logisticRegression[1], classifier=logisticRegression[2]))\n"
   ]
  },
  {
   "cell_type": "code",
   "execution_count": 375,
   "metadata": {},
   "outputs": [
    {
     "name": "stdout",
     "output_type": "stream",
     "text": [
      "\n",
      "Executing the Stochastic Gradient Descent model...\n"
     ]
    }
   ],
   "source": [
    "print('\\nExecuting the Stochastic Gradient Descent model...')\n",
    "Pkl_Filename = \"{}/StochasticGradientDescent.pkl\".format(directory)\n",
    "try:\n",
    "    with open(Pkl_Filename, 'rb') as file:  \n",
    "        sgd = pickle.load(file)\n",
    "except:\n",
    "    sgd = stochastic_gradient_descent(dataset_train)\n",
    "    with open(Pkl_Filename, 'wb') as file:  \n",
    "        pickle.dump(sgd, file)\n",
    "results.append(dict(model='Stochastic Gradient Descent',cm=sgd[0], acc=sgd[1], classifier=sgd[2]))\n"
   ]
  },
  {
   "cell_type": "code",
   "execution_count": 376,
   "metadata": {},
   "outputs": [
    {
     "name": "stdout",
     "output_type": "stream",
     "text": [
      "\n",
      "Executing the KNN model...\n"
     ]
    }
   ],
   "source": [
    "print('\\nExecuting the KNN model...')\n",
    "Pkl_Filename = \"{}/KNN.pkl\".format(directory)\n",
    "try:\n",
    "    with open(Pkl_Filename, 'rb') as file:  \n",
    "        knn_model = pickle.load(file)\n",
    "except:\n",
    "    knn_model = knn(dataset_train)\n",
    "    with open(Pkl_Filename, 'wb') as file:  \n",
    "        pickle.dump(knn_model, file)\n",
    "results.append(dict(model='KNN',cm=knn_model[0], acc=knn_model[1], classifier=knn_model[2]))\n"
   ]
  },
  {
   "cell_type": "code",
   "execution_count": 377,
   "metadata": {},
   "outputs": [
    {
     "name": "stdout",
     "output_type": "stream",
     "text": [
      "Executing the Kernel SVM model...\n"
     ]
    }
   ],
   "source": [
    "print('Executing the Kernel SVM model...')\n",
    "Pkl_Filename = \"{}/KernelSVM.pkl\".format(directory)\n",
    "try:\n",
    "    with open(Pkl_Filename, 'rb') as file:  \n",
    "        svm = pickle.load(file)\n",
    "except:\n",
    "    svm = kernel_svm(dataset_train)\n",
    "    with open(Pkl_Filename, 'wb') as file:  \n",
    "        pickle.dump(svm, file)\n",
    "results.append(dict(model='Kernel SVM',cm=svm[0], acc=svm[1], classifier=svm[2]))"
   ]
  },
  {
   "cell_type": "code",
   "execution_count": 378,
   "metadata": {},
   "outputs": [
    {
     "name": "stdout",
     "output_type": "stream",
     "text": [
      "Executing the Naive Bayes model...\n"
     ]
    }
   ],
   "source": [
    "print('Executing the Naive Bayes model...')\n",
    "Pkl_Filename = \"{}/NaiveBayes.pkl\".format(directory)\n",
    "try:\n",
    "    with open(Pkl_Filename, 'rb') as file:  \n",
    "        nb = pickle.load(file)\n",
    "except:\n",
    "    nb = naive_bayes(dataset_train)\n",
    "    with open(Pkl_Filename, 'wb') as file:  \n",
    "        pickle.dump(nb, file)\n",
    "results.append(dict(model='Naive Bayes',cm=nb[0], acc=nb[1], classifier=nb[2]))"
   ]
  },
  {
   "cell_type": "code",
   "execution_count": 379,
   "metadata": {},
   "outputs": [
    {
     "name": "stdout",
     "output_type": "stream",
     "text": [
      "Executing the Random Forest model...\n"
     ]
    }
   ],
   "source": [
    "print('Executing the Random Forest model...')\n",
    "Pkl_Filename = \"{}/RandomForest.pkl\".format(directory)\n",
    "try:\n",
    "    with open(Pkl_Filename, 'rb') as file:  \n",
    "        rf = pickle.load(file)\n",
    "except:\n",
    "    rf = random_forest(dataset_train)\n",
    "    with open(Pkl_Filename, 'wb') as file:  \n",
    "        pickle.dump(rf, file)\n",
    "results.append(dict(model='Random Forest',cm=rf[0], acc=rf[1], classifier=rf[2]))"
   ]
  },
  {
   "cell_type": "code",
   "execution_count": 380,
   "metadata": {},
   "outputs": [
    {
     "name": "stdout",
     "output_type": "stream",
     "text": [
      "Executing the Voting Classifier model...\n"
     ]
    }
   ],
   "source": [
    "print('Executing the Voting Classifier model...')\n",
    "Pkl_Filename = \"{}/VotingClassifier.pkl\".format(directory)\n",
    "\n",
    "estimators = [('lr', logisticRegression[2]), ('svm', svm[2]), ('nb', nb[2]), ('sgd', sgd[2])]\n",
    "weights = [1,1,1,1]\n",
    "\n",
    "try:\n",
    "    with open(Pkl_Filename, 'rb') as file:  \n",
    "        vc = pickle.load(file)\n",
    "except:\n",
    "    vc = voting_classifier(dataset, estimators, weights)\n",
    "    with open(Pkl_Filename, 'wb') as file:  \n",
    "        pickle.dump(vc, file)\n",
    "results.append(dict(model='Voting Classifier',cm=vc[0], acc=vc[1], classifier=vc[2]))"
   ]
  },
  {
   "cell_type": "code",
   "execution_count": 381,
   "metadata": {},
   "outputs": [
    {
     "name": "stdout",
     "output_type": "stream",
     "text": [
      "\n",
      "Getting the feature correlation matrix...\n"
     ]
    },
    {
     "data": {
      "image/png": "[encoded data removed]",
      "text/plain": [
       "<Figure size 936x936 with 2 Axes>"
      ]
     },
     "metadata": {},
     "output_type": "display_data"
    }
   ],
   "source": [
    "print('\\nGetting the feature correlation matrix...')\n",
    "\n",
    "import seaborn as sns\n",
    "\n",
    "try:\n",
    "    dependent_variables = dataset.iloc[:,5:20]\n",
    "    corrmat = dependent_variables.corr()\n",
    "    top_corr_features = corrmat.index\n",
    "    plt.figure(figsize=(13,13))\n",
    "    title = 'Feature Correlation'\n",
    "    plt.title(title)\n",
    "    #plot heat map\n",
    "    sns.set(font_scale=0.6)\n",
    "    g=sns.heatmap(dependent_variables.corr(),annot=True,cmap='Blues', fmt='0.1g')\n",
    "    plt.savefig('charts/{}.png'.format(title.replace(' ','_').lower()), dpi=300)\n",
    "    plt.show()\n",
    "except:\n",
    "    print('No correlation matrix for the selected model.')"
   ]
  },
  {
   "cell_type": "code",
   "execution_count": 382,
   "metadata": {},
   "outputs": [],
   "source": [
    "directory = f'{default_path}/scalers'\n",
    "if not os.path.exists(directory):\n",
    "    os.makedirs(directory)\n",
    "\n",
    "from sklearn.preprocessing import StandardScaler\n",
    "sc_train = StandardScaler()\n",
    "sc_train.fit(X_train)\n",
    "\n",
    "Pkl_ScalerName = \"{}/{}.pkl\".format(directory, season)\n",
    "with open(Pkl_ScalerName, 'wb') as file:  \n",
    "    pickle.dump(sc_train, file)\n",
    "\n",
    "X_transformed = sc_train.transform(X)"
   ]
  },
  {
   "cell_type": "code",
   "execution_count": 383,
   "metadata": {},
   "outputs": [
    {
     "name": "stdout",
     "output_type": "stream",
     "text": [
      "\n",
      "Getting classification model with the best predictions...\n",
      "Using predictions from Logistic Regression model: 0.46236559139784944\n",
      "Using predictions from Stochastic Gradient Descent model: 0.4731182795698925\n",
      "Using predictions from Kernel SVM model: 0.5053763440860215\n",
      "Using predictions from Voting Classifier model: 0.6021505376344086\n"
     ]
    }
   ],
   "source": [
    "print('\\nGetting classification model with the best predictions...')\n",
    "\n",
    "modelCont = 0\n",
    "highestAcc = 0\n",
    "probs = dict()\n",
    "total_invested = dict()\n",
    "while True:\n",
    "    try:\n",
    "        total_invested[results[modelCont]['model']] = 0\n",
    "        results[modelCont]['pred'] = results[modelCont]['classifier'].predict(X_transformed)\n",
    "        probs[results[modelCont]['model']] = results[modelCont]['classifier'].predict_proba(X_transformed)\n",
    "        results[modelCont]['acc_test'] = accuracy_score(y, results[modelCont]['pred'])\n",
    "        if results[modelCont]['acc_test'] > highestAcc:\n",
    "            y_pred = results[modelCont]['pred']\n",
    "            highestAcc = results[modelCont]['acc_test']\n",
    "            print('Using predictions from {} model: {}'.format(results[modelCont]['model'], results[modelCont]['acc_test']))\n",
    "        modelCont += 1\n",
    "    except IndexError:\n",
    "        break\n",
    "\n",
    "results.sort(key=lambda x: x['acc_test'], reverse=True)"
   ]
  },
  {
   "cell_type": "code",
   "execution_count": 384,
   "metadata": {},
   "outputs": [
    {
     "name": "stdout",
     "output_type": "stream",
     "text": [
      "\n",
      "Results Classification:\n",
      "Voting Classifier:\t0.6022\n",
      "Kernel SVM:\t0.5054\n",
      "Random Forest:\t0.4946\n",
      "Stochastic Gradient Descent:\t0.4731\n",
      "Logistic Regression:\t0.4624\n",
      "KNN:\t0.4409\n",
      "Naive Bayes:\t0.4301\n",
      "Baseline Odds:\t47.3118\n"
     ]
    }
   ],
   "source": [
    "odds_baseline = dataset[((dataset['HOME_ODDS'] <= dataset['AWAY_ODDS']) & (dataset['HOME_ODDS'] <= dataset['DRAW_ODDS']) & (dataset['OUTCOME'] == 'H')) | \n",
    "                   ((dataset['AWAY_ODDS'] <= dataset['HOME_ODDS']) & (dataset['AWAY_ODDS'] <= dataset['DRAW_ODDS']) & (dataset['OUTCOME'] == 'A')) |\n",
    "                       ((dataset['DRAW_ODDS'] <= dataset['HOME_ODDS']) & (dataset['DRAW_ODDS'] <= dataset['AWAY_ODDS']) & (dataset['OUTCOME'] == 'D'))]\n",
    "\n",
    "print('\\nResults Classification:')\n",
    "results.sort(key=lambda x: x['acc_test'], reverse=True)\n",
    "[print('{}:\\t{:.4f}'.format(x['model'], x['acc_test'])) for x in results]\n",
    "print('Baseline Odds:\\t{:.4f}'.format(100*len(odds_baseline.index)/len(dataset.index)))"
   ]
  },
  {
   "cell_type": "code",
   "execution_count": 385,
   "metadata": {},
   "outputs": [
    {
     "name": "stdout",
     "output_type": "stream",
     "text": [
      "\n",
      "Getting the probabilities of the best model possible...\n",
      "Using the Voting Classifier model for probability tracking!\n"
     ]
    }
   ],
   "source": [
    "print('\\nGetting the probabilities of the best model possible...')\n",
    "\n",
    "for res in results:\n",
    "    try:\n",
    "        y_prob = res['classifier'].predict_proba(X_transformed)\n",
    "        print('Using the {} model for probability tracking!'.format(res['model']))\n",
    "        break\n",
    "    except AttributeError:\n",
    "        continue"
   ]
  },
  {
   "cell_type": "code",
   "execution_count": 386,
   "metadata": {},
   "outputs": [
    {
     "name": "stdout",
     "output_type": "stream",
     "text": [
      "\n",
      "Displaying data for the Voting Classifier model...\n",
      "[[ 9  4 10]\n",
      " [ 3 12  9]\n",
      " [ 5  6 35]]\n",
      "0.6021505376344086\n"
     ]
    }
   ],
   "source": [
    "print('\\nDisplaying data for the {} model...'.format(results[0]['model']))\n",
    "cm = confusion_matrix(y.ravel(), y_pred.ravel())\n",
    "acc_score = accuracy_score(y, y_pred)\n",
    "print(cm)\n",
    "print(acc_score)"
   ]
  },
  {
   "cell_type": "code",
   "execution_count": 387,
   "metadata": {},
   "outputs": [
    {
     "name": "stdout",
     "output_type": "stream",
     "text": [
      "[0.48319024 0.12934167 0.38746809] A\n",
      "[0.32966385 0.28835234 0.38198381] H\n",
      "[0.39015136 0.32769021 0.28215843] A\n",
      "[0.13897936 0.49543048 0.36559016] D\n",
      "[0.15238924 0.48212271 0.36548804] D\n",
      "[0.10130261 0.09347973 0.80521765] H\n",
      "[0.26026643 0.38455702 0.35517655] D\n",
      "[0.21271064 0.10945825 0.67783111] H\n",
      "[0.30031682 0.12114407 0.5785391 ] H\n",
      "[0.47267849 0.15808467 0.36923684] A\n"
     ]
    }
   ],
   "source": [
    "for i in range(10):\n",
    "    print(y_prob[i,:], y_pred[i])"
   ]
  },
  {
   "cell_type": "code",
   "execution_count": 388,
   "metadata": {},
   "outputs": [],
   "source": [
    "def get_pred_odds(probs):\n",
    "    return 1/probs[0], 1/probs[1], 1/probs[2] # Away, Draw, Home"
   ]
  },
  {
   "cell_type": "code",
   "execution_count": 389,
   "metadata": {},
   "outputs": [
    {
     "name": "stdout",
     "output_type": "stream",
     "text": [
      "\n",
      "Getting data from the regular models for visualization...\n"
     ]
    },
    {
     "name": "stderr",
     "output_type": "stream",
     "text": [
      "C:\\Users\\caiog\\AppData\\Local\\Temp\\ipykernel_21052\\1250689490.py:2: RuntimeWarning: divide by zero encountered in double_scalars\n",
      "  return 1/probs[0], 1/probs[1], 1/probs[2] # Away, Draw, Home\n"
     ]
    }
   ],
   "source": [
    "print(\"\\nGetting data from the regular models for visualization...\")\n",
    "right = 0\n",
    "total = 0\n",
    "profit = 0\n",
    "money_by_date = []\n",
    "bets_tracking_odds = [0]\n",
    "money_by_team = dict()\n",
    "bets = []\n",
    "money_by_date.append([dataset.iloc[0,2], dict(zip([x['model'] for x in results], [0 for x in results])),  dict(zip([x['model'] for x in results], [0 for x in results]))])\n",
    "\n",
    "for index, game in dataset.iterrows():\n",
    "    if game['GAME_DATE'] != money_by_date[-1][0]:    \n",
    "        bets_tracking_odds.append(bets_tracking_odds[-1])\n",
    "        money_by_date.append([game['GAME_DATE'],  dict(zip([x['model'] for x in results], [0 for x in results])), dict(money_by_date[-1][2])])\n",
    "\n",
    "    game_money = 0\n",
    "    bet_value = get_bet_value(y_prob[index,0])\n",
    "    \n",
    "    if game['HOME_TEAM'] not in money_by_team:\n",
    "        money_by_team[game['HOME_TEAM']] = 0\n",
    "    if game['AWAY_TEAM'] not in money_by_team:\n",
    "        money_by_team[game['AWAY_TEAM']] = 0\n",
    "    \n",
    "    pred_odds_away, pred_odds_draw, pred_odds_home  = get_pred_odds(y_prob[index,:])\n",
    "\n",
    "    game_money = check_model_performance_on_game(game, y_pred[index], bet_value, pred_odds_home, pred_odds_away, pred_odds_draw)\n",
    "    if game_money != 0:\n",
    "        if game['OUTCOME'] == y_pred[index] and game['OUTCOME'] == 'H':\n",
    "            bets.append(['HOME', game['HOME_ODDS'], pred_odds_home, 1])\n",
    "            money_by_team[game['HOME_TEAM']] += game_money\n",
    "        elif game['OUTCOME'] == y_pred[index] and game['OUTCOME'] == 'A':\n",
    "            bets.append(['AWAY', game['AWAY_ODDS'], pred_odds_away, 1])\n",
    "            money_by_team[game['AWAY_TEAM']] += game_money\n",
    "        elif game['OUTCOME'] == y_pred[index] and game['OUTCOME'] == 'D':\n",
    "            bets.append(['DRAW', game['DRAW_ODDS'], pred_odds_draw, 1])\n",
    "        else:\n",
    "            if y_pred[index] == 'H':\n",
    "                bets.append(['HOME', game['HOME_ODDS'], pred_odds_home, 0])\n",
    "                money_by_team[game['HOME_TEAM']] += game_money\n",
    "            elif y_pred[index] == 'A':\n",
    "                bets.append(['AWAY', game['AWAY_ODDS'], pred_odds_away, 0])\n",
    "                money_by_team[game['AWAY_TEAM']] += game_money\n",
    "            else:\n",
    "                bets.append(['DRAW', game['DRAW_ODDS'], pred_odds_draw, 0])\n",
    "\n",
    "        if game_money > 0:\n",
    "            right += 1\n",
    "        total += 1\n",
    "        \n",
    "    profit += game_money\n",
    "    bets_tracking_odds[-1] += check_game_with_odds(game, bet_value, pred_odds_home, pred_odds_away, pred_odds_draw)\n",
    "\n",
    "    for model in money_by_date[-1][1]:\n",
    "        game_money_model = 0\n",
    "        if probs[model][index,0] != 1 and probs[model][index,0] != 0:\n",
    "            bet_value = get_bet_value(probs[model][index,1])\n",
    "            prediction = next(x['pred'][index] for x in results if x['model'] == model)\n",
    "            pred_odds_away, pred_odds_draw, pred_odds_home = get_pred_odds(probs[model][index, :])\n",
    "            game_money_model = check_model_performance_on_game(game, prediction, bet_value, pred_odds_home, pred_odds_away, pred_odds_draw)\n",
    "        if game_money_model != 0:\n",
    "            total_invested[model] += bet_value\n",
    "        money_by_date[-1][1][model] += game_money_model\n",
    "        money_by_date[-1][2][model] += game_money_model\n",
    "\n"
   ]
  },
  {
   "cell_type": "code",
   "execution_count": 390,
   "metadata": {},
   "outputs": [
    {
     "name": "stdout",
     "output_type": "stream",
     "text": [
      "Bets Result: 36/64 => 56.25%\n"
     ]
    }
   ],
   "source": [
    "print(\"Bets Result: {}/{} => {:.2f}%\".format(right, total, right*100/total))"
   ]
  },
  {
   "cell_type": "code",
   "execution_count": 391,
   "metadata": {},
   "outputs": [
    {
     "name": "stdout",
     "output_type": "stream",
     "text": [
      "\n",
      "Profit and margin by model...\n",
      "Model: Voting Classifier \t// Invested: 640 \t// Won: 447.00 \t// Margin: 69.84%\n",
      "Model: Kernel SVM \t// Invested: 530 \t// Won: 115.30 \t// Margin: 21.75%\n",
      "Model: Random Forest \t// Invested: 380 \t// Won: 79.50 \t// Margin: 20.92%\n",
      "Model: Stochastic Gradient Descent \t// Invested: 600 \t// Won: 58.90 \t// Margin: 9.82%\n",
      "Model: Logistic Regression \t// Invested: 460 \t// Won: -69.90 \t// Margin: -15.20%\n",
      "Model: KNN \t// Invested: 550 \t// Won: 18.10 \t// Margin: 3.29%\n",
      "Model: Naive Bayes \t// Invested: 610 \t// Won: -41.50 \t// Margin: -6.80%\n"
     ]
    }
   ],
   "source": [
    "print('\\nProfit and margin by model...')\n",
    "for model in money_by_date[-1][1]:\n",
    "    if total_invested[model] > 0:\n",
    "        print('Model: {} \\t// Invested: {} \\t// Won: {:.2f} \\t// Margin: {:.2f}%'.format(model, total_invested[model], money_by_date[-1][2][model], 100*money_by_date[-1][2][model]/total_invested[model]))"
   ]
  },
  {
   "cell_type": "code",
   "execution_count": 392,
   "metadata": {},
   "outputs": [
    {
     "name": "stdout",
     "output_type": "stream",
     "text": [
      "\n",
      "Plotting charts...\n"
     ]
    }
   ],
   "source": [
    "print('\\nPlotting charts...')\n",
    "\n",
    "models_tracking =  [np.array([x[2][model] for x in money_by_date], dtype=np.float32) for model in money_by_date[-1][1]]\n",
    "\n",
    "money_by_date = np.array(money_by_date, dtype=str)\n",
    "correct_bets = list(filter(lambda x: x[3] == 1, bets))\n",
    "missed_bets = list(filter(lambda x: x[3] == 0, bets))\n",
    "correct_bets_odds = np.array(list(map(lambda x: x[1], correct_bets)))\n",
    "missed_bets_odds = np.array(list(map(lambda x: x[1], missed_bets)))\n",
    "correct_bets_home = np.array(list(map(lambda x: x[0], correct_bets)))\n",
    "missed_bets_home = np.array(list(map(lambda x: x[0], missed_bets)))\n",
    "\n",
    "money_by_team = dict(sorted(money_by_team.items(), key=lambda x: x[1]))\n",
    "money_by_team_labels = np.array(list(money_by_team.keys()), dtype=str)\n",
    "money_by_team_values = np.array(list(money_by_team.values()), dtype=np.float32)"
   ]
  },
  {
   "cell_type": "code",
   "execution_count": 393,
   "metadata": {
    "scrolled": false
   },
   "outputs": [
    {
     "data": {
      "image/png": "[encoded data removed]",
      "text/plain": [
       "<Figure size 432x288 with 1 Axes>"
      ]
     },
     "metadata": {},
     "output_type": "display_data"
    },
    {
     "data": {
      "image/png": "[encoded data removed]",
      "text/plain": [
       "<Figure size 432x288 with 1 Axes>"
      ]
     },
     "metadata": {},
     "output_type": "display_data"
    },
    {
     "data": {
      "image/png": "[encoded data removed]",
      "text/plain": [
       "<Figure size 432x288 with 1 Axes>"
      ]
     },
     "metadata": {},
     "output_type": "display_data"
    },
    {
     "data": {
      "image/png": "[encoded data removed]",
      "text/plain": [
       "<Figure size 432x288 with 1 Axes>"
      ]
     },
     "metadata": {},
     "output_type": "display_data"
    },
    {
     "data": {
      "image/png": "[encoded data removed]",
      "text/plain": [
       "<Figure size 432x288 with 1 Axes>"
      ]
     },
     "metadata": {},
     "output_type": "display_data"
    }
   ],
   "source": [
    "plot_hist('Missed Bets by Odds', 'Odds', 'X Times', missed_bets_odds)\n",
    "\n",
    "plot_hist('Correct Bets by Odds', 'Odds', 'X Times', correct_bets_odds)\n",
    "\n",
    "plot_pie_chart('Correct Bets by Home-Away', ['Home', 'Away', 'Draw'], correct_bets_home)\n",
    "\n",
    "plot_pie_chart('Missed Bets by Home-Away', ['Home', 'Away', 'Draw'], missed_bets_home)\n",
    "\n",
    "plot_bar('Profit by Team', 'Teams', 'Profit', money_by_team_labels, money_by_team_values)"
   ]
  },
  {
   "cell_type": "code",
   "execution_count": 394,
   "metadata": {},
   "outputs": [
    {
     "data": {
      "image/png": "[encoded data removed]",
      "text/plain": [
       "<Figure size 432x288 with 1 Axes>"
      ]
     },
     "metadata": {},
     "output_type": "display_data"
    }
   ],
   "source": [
    "xpoints = money_by_date[:,0].astype(np.datetime64)\n",
    "\n",
    "plt.gca().xaxis.set_major_formatter(mdates.DateFormatter('%Y-%m-%d'))\n",
    "plt.gca().xaxis.set_major_locator(mdates.DayLocator(interval=15))\n",
    "for model in models_tracking:\n",
    "    plt.plot(xpoints, model)\n",
    "plt.plot(xpoints, bets_tracking_odds)\n",
    "\n",
    "title = \"Profit by Date\"\n",
    "plt.legend([x['model'] for x in results] + ['Odds Baseline'], loc=(1.04,0))\n",
    "plt.ylabel(\"Profit($)\")\n",
    "plt.xlabel(\"Date\")\n",
    "plt.title(title)\n",
    "plt.gcf().autofmt_xdate()\n",
    "plt.savefig('charts/{}.png'.format(title.replace(' ','_').lower()), dpi=300)\n",
    "plt.show()"
   ]
  },
  {
   "cell_type": "code",
   "execution_count": null,
   "metadata": {},
   "outputs": [],
   "source": []
  }
 ],
 "metadata": {
  "kernelspec": {
   "display_name": "Python 3 (ipykernel)",
   "language": "python",
   "name": "python3"
  },
  "language_info": {
   "codemirror_mode": {
    "name": "ipython",
    "version": 3
   },
   "file_extension": ".py",
   "mimetype": "text/x-python",
   "name": "python",
   "nbconvert_exporter": "python",
   "pygments_lexer": "ipython3",
   "version": "3.9.12"
  }
 },
 "nbformat": 4,
 "nbformat_minor": 2
}
