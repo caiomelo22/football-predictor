{
 "cells": [
  {
   "cell_type": "code",
   "execution_count": 1,
   "metadata": {},
   "outputs": [],
   "source": [
    "import sys  \n",
    "sys.path.insert(0, './machine_learning_models')\n",
    "\n",
    "from logistic_regression import logistic_regression\n",
    "from stochastic_gradient_descent import stochastic_gradient_descent\n",
    "from knn import knn\n",
    "from kernel_svm import kernel_svm\n",
    "from naive_bayes import naive_bayes\n",
    "from random_forest import random_forest\n",
    "from voting_classifier import voting_classifier\n",
    "import os\n",
    "import pandas as pd\n",
    "import numpy as np\n",
    "import matplotlib.pyplot as plt\n",
    "import datetime as dt\n",
    "import matplotlib.dates as mdates\n",
    "from sklearn.metrics import confusion_matrix, accuracy_score\n",
    "import pickle"
   ]
  },
  {
   "cell_type": "code",
   "execution_count": 2,
   "metadata": {},
   "outputs": [],
   "source": [
    "league_id = 71 # Choose the league id\n",
    "min_threshold = 1.75\n",
    "max_threshold = 10"
   ]
  },
  {
   "cell_type": "code",
   "execution_count": 3,
   "metadata": {},
   "outputs": [],
   "source": [
    "def plot_chart(title, x_label, y_label):\n",
    "    plt.ylabel(y_label)\n",
    "    plt.xlabel(x_label)\n",
    "    plt.title(title)\n",
    "    plt.savefig('charts/{}.png'.format(title.replace(' ','_').lower()), dpi=300)\n",
    "    plt.show()\n",
    "\n",
    "def plot_hist(title, x_label, y_label, data):\n",
    "    plt.hist(data, density=False, bins=20)  # density=False would make counts\n",
    "    plot_chart(title, x_label, y_label)\n",
    "    \n",
    "def plot_bar(title, x_label, y_label, x_data, y_data):\n",
    "    ax= plt.subplot()\n",
    "    plt.bar(x_data, y_data) \n",
    "    # plt.setp(ax.get_xticklabels(), rotation=30, ha='right')\n",
    "    plt.xticks(fontsize=10, rotation=90)\n",
    "    plot_chart(title, x_label, y_label)\n",
    "    \n",
    "def plot_pie_chart(title, labels, data):\n",
    "    data_converted = np.unique(data, return_counts=True)[1]\n",
    "    plt.pie(data_converted, labels = labels, startangle = 90, shadow = True, autopct='%.2f%%')\n",
    "    plt.title(title)\n",
    "    plt.savefig('charts/{}.png'.format(title.replace(' ','_').lower()), dpi=300)\n",
    "    plt.show() \n",
    "    \n",
    "def get_season_year(season_id):\n",
    "    if len(str(season_id)) == 4:\n",
    "        return int(season_id)\n",
    "    return int(str(season_id)[1:])\n",
    "\n",
    "def check_bet_worth(prediction, odds_home, odds_away, odds_draw, pred_odds_home, pred_odds_away, pred_odds_draw):\n",
    "    return ((prediction == 'H' and (pred_odds_home < odds_home) and (odds_home > min_threshold and odds_home < max_threshold)) or \n",
    "            (prediction == 'A' and (pred_odds_away < odds_away) and (odds_away > min_threshold and odds_away < max_threshold)) or\n",
    "            (prediction == 'D' and (pred_odds_draw < odds_draw) and (odds_draw > min_threshold and odds_draw < max_threshold)))\n",
    "\n",
    "def check_game_with_odds(game, bet_value, pred_odds_home, pred_odds_away, pred_odds_draw):\n",
    "    game_money = 0\n",
    "    \n",
    "    prediction = 'D'\n",
    "    if game['HOME_ODDS'] > game['AWAY_ODDS']:\n",
    "        prediction = 'H'\n",
    "    elif game['AWAY_ODDS'] > game['HOME_ODDS']:\n",
    "        prediction = 'A'\n",
    "    \n",
    "    if check_bet_worth(prediction, game['HOME_ODDS'], game['AWAY_ODDS'], game['DRAW_ODDS'], pred_odds_home, pred_odds_away, pred_odds_draw):\n",
    "        if game['OUTCOME'] == prediction and game['OUTCOME'] == 'H':\n",
    "            game_money = (bet_value*game['HOME_ODDS'] - bet_value)\n",
    "        elif game['OUTCOME'] == prediction and game['OUTCOME'] == 'A':\n",
    "            game_money = (bet_value*game['AWAY_ODDS'] - bet_value)\n",
    "        elif game['OUTCOME'] == prediction and game['OUTCOME'] == 'D':\n",
    "            game_money = (bet_value*game['DRAW_ODDS'] - bet_value)\n",
    "        else:\n",
    "            game_money = -bet_value\n",
    "    return game_money\n",
    "\n",
    "def check_model_performance_on_game(game, prediction, bet_value, odds_home, odds_away, odds_draw):\n",
    "    game_money = 0\n",
    "    if check_bet_worth(prediction, game['HOME_ODDS'], game['AWAY_ODDS'], game['DRAW_ODDS'], odds_home, odds_away, odds_draw):\n",
    "        if game['OUTCOME'] == prediction and game['OUTCOME'] == 'H':\n",
    "            game_money = (bet_value*game['HOME_ODDS'] - bet_value)\n",
    "        elif game['OUTCOME'] == prediction and game['OUTCOME'] == 'A':\n",
    "            game_money = (bet_value*game['AWAY_ODDS'] - bet_value)\n",
    "        elif game['OUTCOME'] == prediction and game['OUTCOME'] == 'D':\n",
    "            game_money = (bet_value*game['DRAW_ODDS'] - bet_value)\n",
    "        else:\n",
    "            game_money = -bet_value\n",
    "    return game_money\n",
    "\n",
    "def get_bet_value(prob):\n",
    "#     bet_value = 0 \n",
    "#     if prob >= 0.5:\n",
    "#         bet_value = 10*prob\n",
    "#     else:\n",
    "#         bet_value = 10*abs(1-prob)\n",
    "    bet_value = 10\n",
    "    return bet_value"
   ]
  },
  {
   "cell_type": "code",
   "execution_count": 4,
   "metadata": {},
   "outputs": [
    {
     "name": "stdout",
     "output_type": "stream",
     "text": [
      "\n",
      "Getting data for the model...\n"
     ]
    }
   ],
   "source": [
    "print('\\nGetting data for the model...')\n",
    "\n",
    "season_file = '2014-2022'\n",
    "\n",
    "first_season_train = 2014\n",
    "last_season_train = 2021\n",
    "\n",
    "season = \"{}-{}\".format(first_season_train, last_season_train)\n",
    "\n",
    "default_path = f'./leagues/{league_id}'\n",
    "whole_dataset = (pd.read_csv(f'{default_path}/data/{season_file}.csv')).dropna()\n",
    "whole_dataset['GAME_DATE'] = pd.to_datetime(whole_dataset['GAME_DATE']).dt.date\n",
    "\n",
    "dataset_train = whole_dataset.loc[(whole_dataset['SEASON'] >= first_season_train) & (whole_dataset['SEASON'] <= last_season_train)].reset_index(drop=True)\n",
    "\n",
    "first_season_test = 2022\n",
    "last_season_test = 2022\n",
    "\n",
    "dataset = whole_dataset.loc[(whole_dataset['SEASON'] >= first_season_test) & (whole_dataset['SEASON'] <= last_season_test)].reset_index(drop=True)\n",
    "\n",
    "results = []\n",
    "\n",
    "X_train = dataset_train.iloc[:, 6:-1].values\n",
    "X = dataset.iloc[:, 6:-1].values\n",
    "y = dataset.iloc[:, -1].values"
   ]
  },
  {
   "cell_type": "code",
   "execution_count": 5,
   "metadata": {},
   "outputs": [
    {
     "data": {
      "text/html": [
       "<div>\n",
       "<style scoped>\n",
       "    .dataframe tbody tr th:only-of-type {\n",
       "        vertical-align: middle;\n",
       "    }\n",
       "\n",
       "    .dataframe tbody tr th {\n",
       "        vertical-align: top;\n",
       "    }\n",
       "\n",
       "    .dataframe thead th {\n",
       "        text-align: right;\n",
       "    }\n",
       "</style>\n",
       "<table border=\"1\" class=\"dataframe\">\n",
       "  <thead>\n",
       "    <tr style=\"text-align: right;\">\n",
       "      <th></th>\n",
       "      <th>Unnamed: 0</th>\n",
       "      <th>GAME_ID</th>\n",
       "      <th>GAME_DATE</th>\n",
       "      <th>SEASON</th>\n",
       "      <th>HOME_TEAM</th>\n",
       "      <th>AWAY_TEAM</th>\n",
       "      <th>HOME_ODDS</th>\n",
       "      <th>AWAY_ODDS</th>\n",
       "      <th>DRAW_ODDS</th>\n",
       "      <th>HOME_PTS_PCT</th>\n",
       "      <th>...</th>\n",
       "      <th>AWAY_LOSS_PCT</th>\n",
       "      <th>AWAY_AWAY_WIN_PCT</th>\n",
       "      <th>AWAY_AWAY_DRAW_PCT</th>\n",
       "      <th>AWAY_AWAY_LOSS_PCT</th>\n",
       "      <th>AWAY_SCORED_LAST_5</th>\n",
       "      <th>AWAY_CONCEDED_LAST_5</th>\n",
       "      <th>AWAY_AWAY_SCORED_LAST_5</th>\n",
       "      <th>AWAY_AWAY_CONCEDED_LAST_5</th>\n",
       "      <th>AWAY_PTS_PCT_LAST_5</th>\n",
       "      <th>OUTCOME</th>\n",
       "    </tr>\n",
       "  </thead>\n",
       "  <tbody>\n",
       "    <tr>\n",
       "      <th>0</th>\n",
       "      <td>0</td>\n",
       "      <td>190557</td>\n",
       "      <td>2014-07-26</td>\n",
       "      <td>2014</td>\n",
       "      <td>Santos</td>\n",
       "      <td>Chapecoense-SC</td>\n",
       "      <td>1.58</td>\n",
       "      <td>6.12</td>\n",
       "      <td>3.65</td>\n",
       "      <td>51.515152</td>\n",
       "      <td>...</td>\n",
       "      <td>50.000000</td>\n",
       "      <td>20.000000</td>\n",
       "      <td>20.000000</td>\n",
       "      <td>60.000000</td>\n",
       "      <td>1.0</td>\n",
       "      <td>0.8</td>\n",
       "      <td>0.333333</td>\n",
       "      <td>1.000000</td>\n",
       "      <td>60.000000</td>\n",
       "      <td>H</td>\n",
       "    </tr>\n",
       "    <tr>\n",
       "      <th>1</th>\n",
       "      <td>1</td>\n",
       "      <td>190558</td>\n",
       "      <td>2014-07-26</td>\n",
       "      <td>2014</td>\n",
       "      <td>Cruzeiro</td>\n",
       "      <td>Figueirense</td>\n",
       "      <td>1.19</td>\n",
       "      <td>14.33</td>\n",
       "      <td>6.32</td>\n",
       "      <td>75.757576</td>\n",
       "      <td>...</td>\n",
       "      <td>72.727273</td>\n",
       "      <td>33.333333</td>\n",
       "      <td>16.666667</td>\n",
       "      <td>50.000000</td>\n",
       "      <td>0.8</td>\n",
       "      <td>1.2</td>\n",
       "      <td>1.500000</td>\n",
       "      <td>0.500000</td>\n",
       "      <td>26.666667</td>\n",
       "      <td>H</td>\n",
       "    </tr>\n",
       "    <tr>\n",
       "      <th>2</th>\n",
       "      <td>2</td>\n",
       "      <td>190559</td>\n",
       "      <td>2014-07-26</td>\n",
       "      <td>2014</td>\n",
       "      <td>Criciuma</td>\n",
       "      <td>Vitoria</td>\n",
       "      <td>2.00</td>\n",
       "      <td>3.76</td>\n",
       "      <td>3.33</td>\n",
       "      <td>42.424242</td>\n",
       "      <td>...</td>\n",
       "      <td>45.454545</td>\n",
       "      <td>16.666667</td>\n",
       "      <td>50.000000</td>\n",
       "      <td>33.333333</td>\n",
       "      <td>0.4</td>\n",
       "      <td>1.0</td>\n",
       "      <td>0.666667</td>\n",
       "      <td>1.333333</td>\n",
       "      <td>20.000000</td>\n",
       "      <td>A</td>\n",
       "    </tr>\n",
       "    <tr>\n",
       "      <th>3</th>\n",
       "      <td>3</td>\n",
       "      <td>190560</td>\n",
       "      <td>2014-07-26</td>\n",
       "      <td>2014</td>\n",
       "      <td>Bahia</td>\n",
       "      <td>Internacional</td>\n",
       "      <td>3.43</td>\n",
       "      <td>2.15</td>\n",
       "      <td>3.23</td>\n",
       "      <td>27.272727</td>\n",
       "      <td>...</td>\n",
       "      <td>18.181818</td>\n",
       "      <td>0.000000</td>\n",
       "      <td>80.000000</td>\n",
       "      <td>20.000000</td>\n",
       "      <td>1.8</td>\n",
       "      <td>1.2</td>\n",
       "      <td>1.000000</td>\n",
       "      <td>1.500000</td>\n",
       "      <td>46.666667</td>\n",
       "      <td>A</td>\n",
       "    </tr>\n",
       "    <tr>\n",
       "      <th>4</th>\n",
       "      <td>4</td>\n",
       "      <td>190562</td>\n",
       "      <td>2014-07-27</td>\n",
       "      <td>2014</td>\n",
       "      <td>Corinthians</td>\n",
       "      <td>Palmeiras</td>\n",
       "      <td>1.77</td>\n",
       "      <td>4.81</td>\n",
       "      <td>3.41</td>\n",
       "      <td>60.606061</td>\n",
       "      <td>...</td>\n",
       "      <td>54.545455</td>\n",
       "      <td>33.333333</td>\n",
       "      <td>16.666667</td>\n",
       "      <td>50.000000</td>\n",
       "      <td>0.2</td>\n",
       "      <td>1.6</td>\n",
       "      <td>0.000000</td>\n",
       "      <td>1.333333</td>\n",
       "      <td>6.666667</td>\n",
       "      <td>H</td>\n",
       "    </tr>\n",
       "  </tbody>\n",
       "</table>\n",
       "<p>5 rows × 34 columns</p>\n",
       "</div>"
      ],
      "text/plain": [
       "   Unnamed: 0  GAME_ID   GAME_DATE  SEASON    HOME_TEAM       AWAY_TEAM  \\\n",
       "0           0   190557  2014-07-26    2014       Santos  Chapecoense-SC   \n",
       "1           1   190558  2014-07-26    2014     Cruzeiro     Figueirense   \n",
       "2           2   190559  2014-07-26    2014     Criciuma         Vitoria   \n",
       "3           3   190560  2014-07-26    2014        Bahia   Internacional   \n",
       "4           4   190562  2014-07-27    2014  Corinthians       Palmeiras   \n",
       "\n",
       "   HOME_ODDS  AWAY_ODDS  DRAW_ODDS  HOME_PTS_PCT  ...  AWAY_LOSS_PCT  \\\n",
       "0       1.58       6.12       3.65     51.515152  ...      50.000000   \n",
       "1       1.19      14.33       6.32     75.757576  ...      72.727273   \n",
       "2       2.00       3.76       3.33     42.424242  ...      45.454545   \n",
       "3       3.43       2.15       3.23     27.272727  ...      18.181818   \n",
       "4       1.77       4.81       3.41     60.606061  ...      54.545455   \n",
       "\n",
       "   AWAY_AWAY_WIN_PCT  AWAY_AWAY_DRAW_PCT  AWAY_AWAY_LOSS_PCT  \\\n",
       "0          20.000000           20.000000           60.000000   \n",
       "1          33.333333           16.666667           50.000000   \n",
       "2          16.666667           50.000000           33.333333   \n",
       "3           0.000000           80.000000           20.000000   \n",
       "4          33.333333           16.666667           50.000000   \n",
       "\n",
       "   AWAY_SCORED_LAST_5  AWAY_CONCEDED_LAST_5  AWAY_AWAY_SCORED_LAST_5  \\\n",
       "0                 1.0                   0.8                 0.333333   \n",
       "1                 0.8                   1.2                 1.500000   \n",
       "2                 0.4                   1.0                 0.666667   \n",
       "3                 1.8                   1.2                 1.000000   \n",
       "4                 0.2                   1.6                 0.000000   \n",
       "\n",
       "   AWAY_AWAY_CONCEDED_LAST_5  AWAY_PTS_PCT_LAST_5  OUTCOME  \n",
       "0                   1.000000            60.000000        H  \n",
       "1                   0.500000            26.666667        H  \n",
       "2                   1.333333            20.000000        A  \n",
       "3                   1.500000            46.666667        A  \n",
       "4                   1.333333             6.666667        H  \n",
       "\n",
       "[5 rows x 34 columns]"
      ]
     },
     "execution_count": 5,
     "metadata": {},
     "output_type": "execute_result"
    }
   ],
   "source": [
    "dataset_train.head()"
   ]
  },
  {
   "cell_type": "code",
   "execution_count": 6,
   "metadata": {},
   "outputs": [
    {
     "data": {
      "text/html": [
       "<div>\n",
       "<style scoped>\n",
       "    .dataframe tbody tr th:only-of-type {\n",
       "        vertical-align: middle;\n",
       "    }\n",
       "\n",
       "    .dataframe tbody tr th {\n",
       "        vertical-align: top;\n",
       "    }\n",
       "\n",
       "    .dataframe thead th {\n",
       "        text-align: right;\n",
       "    }\n",
       "</style>\n",
       "<table border=\"1\" class=\"dataframe\">\n",
       "  <thead>\n",
       "    <tr style=\"text-align: right;\">\n",
       "      <th></th>\n",
       "      <th>Unnamed: 0</th>\n",
       "      <th>GAME_ID</th>\n",
       "      <th>GAME_DATE</th>\n",
       "      <th>SEASON</th>\n",
       "      <th>HOME_TEAM</th>\n",
       "      <th>AWAY_TEAM</th>\n",
       "      <th>HOME_ODDS</th>\n",
       "      <th>AWAY_ODDS</th>\n",
       "      <th>DRAW_ODDS</th>\n",
       "      <th>HOME_PTS_PCT</th>\n",
       "      <th>...</th>\n",
       "      <th>AWAY_LOSS_PCT</th>\n",
       "      <th>AWAY_AWAY_WIN_PCT</th>\n",
       "      <th>AWAY_AWAY_DRAW_PCT</th>\n",
       "      <th>AWAY_AWAY_LOSS_PCT</th>\n",
       "      <th>AWAY_SCORED_LAST_5</th>\n",
       "      <th>AWAY_CONCEDED_LAST_5</th>\n",
       "      <th>AWAY_AWAY_SCORED_LAST_5</th>\n",
       "      <th>AWAY_AWAY_CONCEDED_LAST_5</th>\n",
       "      <th>AWAY_PTS_PCT_LAST_5</th>\n",
       "      <th>OUTCOME</th>\n",
       "    </tr>\n",
       "  </thead>\n",
       "  <tbody>\n",
       "    <tr>\n",
       "      <th>0</th>\n",
       "      <td>2173</td>\n",
       "      <td>838097</td>\n",
       "      <td>2022-06-12</td>\n",
       "      <td>2022</td>\n",
       "      <td>Fortaleza</td>\n",
       "      <td>Athletico-PR</td>\n",
       "      <td>1.63</td>\n",
       "      <td>5.59</td>\n",
       "      <td>3.80</td>\n",
       "      <td>20.000000</td>\n",
       "      <td>...</td>\n",
       "      <td>40.000000</td>\n",
       "      <td>40.000000</td>\n",
       "      <td>0.0</td>\n",
       "      <td>60.000000</td>\n",
       "      <td>1.8</td>\n",
       "      <td>1.2</td>\n",
       "      <td>1.666667</td>\n",
       "      <td>1.000000</td>\n",
       "      <td>66.666667</td>\n",
       "      <td>D</td>\n",
       "    </tr>\n",
       "    <tr>\n",
       "      <th>1</th>\n",
       "      <td>2174</td>\n",
       "      <td>838106</td>\n",
       "      <td>2022-06-14</td>\n",
       "      <td>2022</td>\n",
       "      <td>Juventude</td>\n",
       "      <td>Santos</td>\n",
       "      <td>2.33</td>\n",
       "      <td>3.48</td>\n",
       "      <td>2.98</td>\n",
       "      <td>30.303030</td>\n",
       "      <td>...</td>\n",
       "      <td>27.272727</td>\n",
       "      <td>0.000000</td>\n",
       "      <td>60.0</td>\n",
       "      <td>40.000000</td>\n",
       "      <td>0.8</td>\n",
       "      <td>1.0</td>\n",
       "      <td>1.500000</td>\n",
       "      <td>1.500000</td>\n",
       "      <td>26.666667</td>\n",
       "      <td>A</td>\n",
       "    </tr>\n",
       "    <tr>\n",
       "      <th>2</th>\n",
       "      <td>2175</td>\n",
       "      <td>838103</td>\n",
       "      <td>2022-06-15</td>\n",
       "      <td>2022</td>\n",
       "      <td>Bragantino</td>\n",
       "      <td>Coritiba</td>\n",
       "      <td>1.55</td>\n",
       "      <td>6.97</td>\n",
       "      <td>3.85</td>\n",
       "      <td>42.424242</td>\n",
       "      <td>...</td>\n",
       "      <td>36.363636</td>\n",
       "      <td>0.000000</td>\n",
       "      <td>40.0</td>\n",
       "      <td>60.000000</td>\n",
       "      <td>0.6</td>\n",
       "      <td>1.2</td>\n",
       "      <td>0.500000</td>\n",
       "      <td>1.500000</td>\n",
       "      <td>33.333333</td>\n",
       "      <td>H</td>\n",
       "    </tr>\n",
       "    <tr>\n",
       "      <th>3</th>\n",
       "      <td>2176</td>\n",
       "      <td>838102</td>\n",
       "      <td>2022-06-15</td>\n",
       "      <td>2022</td>\n",
       "      <td>Flamengo RJ</td>\n",
       "      <td>Cuiaba</td>\n",
       "      <td>1.32</td>\n",
       "      <td>9.55</td>\n",
       "      <td>5.31</td>\n",
       "      <td>36.363636</td>\n",
       "      <td>...</td>\n",
       "      <td>45.454545</td>\n",
       "      <td>40.000000</td>\n",
       "      <td>0.0</td>\n",
       "      <td>60.000000</td>\n",
       "      <td>0.8</td>\n",
       "      <td>1.0</td>\n",
       "      <td>1.000000</td>\n",
       "      <td>2.000000</td>\n",
       "      <td>33.333333</td>\n",
       "      <td>H</td>\n",
       "    </tr>\n",
       "    <tr>\n",
       "      <th>4</th>\n",
       "      <td>2177</td>\n",
       "      <td>838108</td>\n",
       "      <td>2022-06-15</td>\n",
       "      <td>2022</td>\n",
       "      <td>Goias</td>\n",
       "      <td>Internacional</td>\n",
       "      <td>3.50</td>\n",
       "      <td>2.26</td>\n",
       "      <td>3.11</td>\n",
       "      <td>42.424242</td>\n",
       "      <td>...</td>\n",
       "      <td>9.090909</td>\n",
       "      <td>33.333333</td>\n",
       "      <td>50.0</td>\n",
       "      <td>16.666667</td>\n",
       "      <td>1.6</td>\n",
       "      <td>0.8</td>\n",
       "      <td>1.333333</td>\n",
       "      <td>0.666667</td>\n",
       "      <td>60.000000</td>\n",
       "      <td>A</td>\n",
       "    </tr>\n",
       "  </tbody>\n",
       "</table>\n",
       "<p>5 rows × 34 columns</p>\n",
       "</div>"
      ],
      "text/plain": [
       "   Unnamed: 0  GAME_ID   GAME_DATE  SEASON    HOME_TEAM      AWAY_TEAM  \\\n",
       "0        2173   838097  2022-06-12    2022    Fortaleza   Athletico-PR   \n",
       "1        2174   838106  2022-06-14    2022    Juventude         Santos   \n",
       "2        2175   838103  2022-06-15    2022   Bragantino       Coritiba   \n",
       "3        2176   838102  2022-06-15    2022  Flamengo RJ         Cuiaba   \n",
       "4        2177   838108  2022-06-15    2022        Goias  Internacional   \n",
       "\n",
       "   HOME_ODDS  AWAY_ODDS  DRAW_ODDS  HOME_PTS_PCT  ...  AWAY_LOSS_PCT  \\\n",
       "0       1.63       5.59       3.80     20.000000  ...      40.000000   \n",
       "1       2.33       3.48       2.98     30.303030  ...      27.272727   \n",
       "2       1.55       6.97       3.85     42.424242  ...      36.363636   \n",
       "3       1.32       9.55       5.31     36.363636  ...      45.454545   \n",
       "4       3.50       2.26       3.11     42.424242  ...       9.090909   \n",
       "\n",
       "   AWAY_AWAY_WIN_PCT  AWAY_AWAY_DRAW_PCT  AWAY_AWAY_LOSS_PCT  \\\n",
       "0          40.000000                 0.0           60.000000   \n",
       "1           0.000000                60.0           40.000000   \n",
       "2           0.000000                40.0           60.000000   \n",
       "3          40.000000                 0.0           60.000000   \n",
       "4          33.333333                50.0           16.666667   \n",
       "\n",
       "   AWAY_SCORED_LAST_5  AWAY_CONCEDED_LAST_5  AWAY_AWAY_SCORED_LAST_5  \\\n",
       "0                 1.8                   1.2                 1.666667   \n",
       "1                 0.8                   1.0                 1.500000   \n",
       "2                 0.6                   1.2                 0.500000   \n",
       "3                 0.8                   1.0                 1.000000   \n",
       "4                 1.6                   0.8                 1.333333   \n",
       "\n",
       "   AWAY_AWAY_CONCEDED_LAST_5  AWAY_PTS_PCT_LAST_5  OUTCOME  \n",
       "0                   1.000000            66.666667        D  \n",
       "1                   1.500000            26.666667        A  \n",
       "2                   1.500000            33.333333        H  \n",
       "3                   2.000000            33.333333        H  \n",
       "4                   0.666667            60.000000        A  \n",
       "\n",
       "[5 rows x 34 columns]"
      ]
     },
     "execution_count": 6,
     "metadata": {},
     "output_type": "execute_result"
    }
   ],
   "source": [
    "dataset.head()"
   ]
  },
  {
   "cell_type": "code",
   "execution_count": 7,
   "metadata": {},
   "outputs": [],
   "source": [
    "directory = f'{default_path}/models/{season}'\n",
    "if not os.path.exists(directory):\n",
    "    os.makedirs(directory)"
   ]
  },
  {
   "cell_type": "code",
   "execution_count": 8,
   "metadata": {},
   "outputs": [
    {
     "name": "stdout",
     "output_type": "stream",
     "text": [
      "\n",
      "Executing the logistic Regression model...\n"
     ]
    }
   ],
   "source": [
    "print('\\nExecuting the logistic Regression model...')\n",
    "Pkl_Filename = \"{}/LogisticRegressionModel.pkl\".format(directory)\n",
    "try:\n",
    "    with open(Pkl_Filename, 'rb') as file:  \n",
    "        logisticRegression = pickle.load(file)\n",
    "except:\n",
    "    logisticRegression = logistic_regression(dataset_train)\n",
    "    with open(Pkl_Filename, 'wb') as file:  \n",
    "        pickle.dump(logisticRegression, file)\n",
    "results.append(dict(model='Logistic Regression',cm=logisticRegression[0], acc=logisticRegression[1], classifier=logisticRegression[2]))\n"
   ]
  },
  {
   "cell_type": "code",
   "execution_count": 9,
   "metadata": {},
   "outputs": [
    {
     "name": "stdout",
     "output_type": "stream",
     "text": [
      "\n",
      "Executing the Stochastic Gradient Descent model...\n"
     ]
    }
   ],
   "source": [
    "print('\\nExecuting the Stochastic Gradient Descent model...')\n",
    "Pkl_Filename = \"{}/StochasticGradientDescent.pkl\".format(directory)\n",
    "try:\n",
    "    with open(Pkl_Filename, 'rb') as file:  \n",
    "        sgd = pickle.load(file)\n",
    "except:\n",
    "    sgd = stochastic_gradient_descent(dataset_train)\n",
    "    with open(Pkl_Filename, 'wb') as file:  \n",
    "        pickle.dump(sgd, file)\n",
    "results.append(dict(model='Stochastic Gradient Descent',cm=sgd[0], acc=sgd[1], classifier=sgd[2]))\n"
   ]
  },
  {
   "cell_type": "code",
   "execution_count": 10,
   "metadata": {},
   "outputs": [
    {
     "name": "stdout",
     "output_type": "stream",
     "text": [
      "\n",
      "Executing the KNN model...\n"
     ]
    }
   ],
   "source": [
    "print('\\nExecuting the KNN model...')\n",
    "Pkl_Filename = \"{}/KNN.pkl\".format(directory)\n",
    "try:\n",
    "    with open(Pkl_Filename, 'rb') as file:  \n",
    "        knn_model = pickle.load(file)\n",
    "except:\n",
    "    knn_model = knn(dataset_train)\n",
    "    with open(Pkl_Filename, 'wb') as file:  \n",
    "        pickle.dump(knn_model, file)\n",
    "results.append(dict(model='KNN',cm=knn_model[0], acc=knn_model[1], classifier=knn_model[2]))\n"
   ]
  },
  {
   "cell_type": "code",
   "execution_count": 11,
   "metadata": {},
   "outputs": [
    {
     "name": "stdout",
     "output_type": "stream",
     "text": [
      "Executing the Kernel SVM model...\n"
     ]
    }
   ],
   "source": [
    "print('Executing the Kernel SVM model...')\n",
    "Pkl_Filename = \"{}/KernelSVM.pkl\".format(directory)\n",
    "try:\n",
    "    with open(Pkl_Filename, 'rb') as file:  \n",
    "        svm = pickle.load(file)\n",
    "except:\n",
    "    svm = kernel_svm(dataset_train)\n",
    "    with open(Pkl_Filename, 'wb') as file:  \n",
    "        pickle.dump(svm, file)\n",
    "results.append(dict(model='Kernel SVM',cm=svm[0], acc=svm[1], classifier=svm[2]))"
   ]
  },
  {
   "cell_type": "code",
   "execution_count": 12,
   "metadata": {},
   "outputs": [
    {
     "name": "stdout",
     "output_type": "stream",
     "text": [
      "Executing the Naive Bayes model...\n"
     ]
    }
   ],
   "source": [
    "print('Executing the Naive Bayes model...')\n",
    "Pkl_Filename = \"{}/NaiveBayes.pkl\".format(directory)\n",
    "try:\n",
    "    with open(Pkl_Filename, 'rb') as file:  \n",
    "        nb = pickle.load(file)\n",
    "except:\n",
    "    nb = naive_bayes(dataset_train)\n",
    "    with open(Pkl_Filename, 'wb') as file:  \n",
    "        pickle.dump(nb, file)\n",
    "results.append(dict(model='Naive Bayes',cm=nb[0], acc=nb[1], classifier=nb[2]))"
   ]
  },
  {
   "cell_type": "code",
   "execution_count": 13,
   "metadata": {},
   "outputs": [
    {
     "name": "stdout",
     "output_type": "stream",
     "text": [
      "Executing the Random Forest model...\n"
     ]
    }
   ],
   "source": [
    "print('Executing the Random Forest model...')\n",
    "Pkl_Filename = \"{}/RandomForest.pkl\".format(directory)\n",
    "try:\n",
    "    with open(Pkl_Filename, 'rb') as file:  \n",
    "        rf = pickle.load(file)\n",
    "except:\n",
    "    rf = random_forest(dataset_train)\n",
    "    with open(Pkl_Filename, 'wb') as file:  \n",
    "        pickle.dump(rf, file)\n",
    "results.append(dict(model='Random Forest',cm=rf[0], acc=rf[1], classifier=rf[2]))"
   ]
  },
  {
   "cell_type": "code",
   "execution_count": 14,
   "metadata": {},
   "outputs": [
    {
     "name": "stdout",
     "output_type": "stream",
     "text": [
      "Executing the Voting Classifier model...\n"
     ]
    }
   ],
   "source": [
    "print('Executing the Voting Classifier model...')\n",
    "Pkl_Filename = \"{}/VotingClassifier.pkl\".format(directory)\n",
    "\n",
    "estimators = [('lr', logisticRegression[2]), ('svm', svm[2]), ('nb', nb[2]), ('sgd', sgd[2])]\n",
    "weights = [1,1,1,1]\n",
    "\n",
    "try:\n",
    "    with open(Pkl_Filename, 'rb') as file:  \n",
    "        vc = pickle.load(file)\n",
    "except:\n",
    "    vc = voting_classifier(dataset, estimators, weights)\n",
    "    with open(Pkl_Filename, 'wb') as file:  \n",
    "        pickle.dump(vc, file)\n",
    "results.append(dict(model='Voting Classifier',cm=vc[0], acc=vc[1], classifier=vc[2]))"
   ]
  },
  {
   "cell_type": "code",
   "execution_count": 15,
   "metadata": {},
   "outputs": [
    {
     "name": "stdout",
     "output_type": "stream",
     "text": [
      "\n",
      "Getting the feature correlation matrix...\n"
     ]
    },
    {
     "data": {
      "image/png": "[encoded data removed]",
      "text/plain": [
       "<Figure size 936x936 with 2 Axes>"
      ]
     },
     "metadata": {
      "needs_background": "light"
     },
     "output_type": "display_data"
    }
   ],
   "source": [
    "print('\\nGetting the feature correlation matrix...')\n",
    "\n",
    "import seaborn as sns\n",
    "\n",
    "try:\n",
    "    dependent_variables = dataset.iloc[:,5:20]\n",
    "    corrmat = dependent_variables.corr()\n",
    "    top_corr_features = corrmat.index\n",
    "    plt.figure(figsize=(13,13))\n",
    "    title = 'Feature Correlation'\n",
    "    plt.title(title)\n",
    "    #plot heat map\n",
    "    sns.set(font_scale=0.6)\n",
    "    g=sns.heatmap(dependent_variables.corr(),annot=True,cmap='Blues', fmt='0.1g')\n",
    "    plt.savefig('charts/{}.png'.format(title.replace(' ','_').lower()), dpi=300)\n",
    "    plt.show()\n",
    "except:\n",
    "    print('No correlation matrix for the selected model.')"
   ]
  },
  {
   "cell_type": "code",
   "execution_count": 16,
   "metadata": {},
   "outputs": [],
   "source": [
    "directory = f'{default_path}/scalers'\n",
    "if not os.path.exists(directory):\n",
    "    os.makedirs(directory)\n",
    "\n",
    "from sklearn.preprocessing import StandardScaler\n",
    "sc_train = StandardScaler()\n",
    "sc_train.fit(X_train)\n",
    "\n",
    "Pkl_ScalerName = \"{}/{}.pkl\".format(directory, season)\n",
    "with open(Pkl_ScalerName, 'wb') as file:  \n",
    "    pickle.dump(sc_train, file)\n",
    "\n",
    "X_transformed = sc_train.transform(X)"
   ]
  },
  {
   "cell_type": "code",
   "execution_count": 17,
   "metadata": {},
   "outputs": [
    {
     "name": "stdout",
     "output_type": "stream",
     "text": [
      "\n",
      "Getting classification model with the best predictions...\n",
      "Using predictions from Logistic Regression model: 0.5656565656565656\n",
      "Using predictions from Voting Classifier model: 0.6262626262626263\n"
     ]
    }
   ],
   "source": [
    "print('\\nGetting classification model with the best predictions...')\n",
    "\n",
    "modelCont = 0\n",
    "highestAcc = 0\n",
    "probs = dict()\n",
    "total_invested = dict()\n",
    "while True:\n",
    "    try:\n",
    "        total_invested[results[modelCont]['model']] = 0\n",
    "        results[modelCont]['pred'] = results[modelCont]['classifier'].predict(X_transformed)\n",
    "        probs[results[modelCont]['model']] = results[modelCont]['classifier'].predict_proba(X_transformed)\n",
    "        results[modelCont]['acc_test'] = accuracy_score(y, results[modelCont]['pred'])\n",
    "        if results[modelCont]['acc_test'] > highestAcc:\n",
    "            y_pred = results[modelCont]['pred']\n",
    "            highestAcc = results[modelCont]['acc_test']\n",
    "            print('Using predictions from {} model: {}'.format(results[modelCont]['model'], results[modelCont]['acc_test']))\n",
    "        modelCont += 1\n",
    "    except IndexError:\n",
    "        break\n",
    "\n",
    "results.sort(key=lambda x: x['acc_test'], reverse=True)"
   ]
  },
  {
   "cell_type": "code",
   "execution_count": 18,
   "metadata": {},
   "outputs": [
    {
     "name": "stdout",
     "output_type": "stream",
     "text": [
      "\n",
      "Results Classification:\n",
      "Voting Classifier:\t0.6263\n",
      "Logistic Regression:\t0.5657\n",
      "Kernel SVM:\t0.5354\n",
      "Random Forest:\t0.5253\n",
      "Stochastic Gradient Descent:\t0.5051\n",
      "Naive Bayes:\t0.4949\n",
      "KNN:\t0.4444\n",
      "Baseline Odds:\t52.5253\n"
     ]
    }
   ],
   "source": [
    "odds_baseline = dataset[((dataset['HOME_ODDS'] <= dataset['AWAY_ODDS']) & (dataset['HOME_ODDS'] <= dataset['DRAW_ODDS']) & (dataset['OUTCOME'] == 'H')) | \n",
    "                   ((dataset['AWAY_ODDS'] <= dataset['HOME_ODDS']) & (dataset['AWAY_ODDS'] <= dataset['DRAW_ODDS']) & (dataset['OUTCOME'] == 'A')) |\n",
    "                       ((dataset['DRAW_ODDS'] <= dataset['HOME_ODDS']) & (dataset['DRAW_ODDS'] <= dataset['AWAY_ODDS']) & (dataset['OUTCOME'] == 'D'))]\n",
    "\n",
    "print('\\nResults Classification:')\n",
    "results.sort(key=lambda x: x['acc_test'], reverse=True)\n",
    "[print('{}:\\t{:.4f}'.format(x['model'], x['acc_test'])) for x in results]\n",
    "print('Baseline Odds:\\t{:.4f}'.format(100*len(odds_baseline.index)/len(dataset.index)))"
   ]
  },
  {
   "cell_type": "code",
   "execution_count": 19,
   "metadata": {},
   "outputs": [
    {
     "name": "stdout",
     "output_type": "stream",
     "text": [
      "\n",
      "Getting the probabilities of the best model possible...\n",
      "Using the Voting Classifier model for probability tracking!\n"
     ]
    }
   ],
   "source": [
    "print('\\nGetting the probabilities of the best model possible...')\n",
    "\n",
    "for res in results:\n",
    "    try:\n",
    "        y_prob = res['classifier'].predict_proba(X_transformed)\n",
    "        print('Using the {} model for probability tracking!'.format(res['model']))\n",
    "        break\n",
    "    except AttributeError:\n",
    "        continue"
   ]
  },
  {
   "cell_type": "code",
   "execution_count": 20,
   "metadata": {},
   "outputs": [
    {
     "name": "stdout",
     "output_type": "stream",
     "text": [
      "\n",
      "Displaying data for the Voting Classifier model...\n",
      "[[17  1  8]\n",
      " [ 6 15  5]\n",
      " [11  6 30]]\n",
      "0.6262626262626263\n"
     ]
    }
   ],
   "source": [
    "print('\\nDisplaying data for the {} model...'.format(results[0]['model']))\n",
    "cm = confusion_matrix(y.ravel(), y_pred.ravel())\n",
    "acc_score = accuracy_score(y, y_pred)\n",
    "print(cm)\n",
    "print(acc_score)"
   ]
  },
  {
   "cell_type": "code",
   "execution_count": 21,
   "metadata": {},
   "outputs": [
    {
     "name": "stdout",
     "output_type": "stream",
     "text": [
      "[0.08354174 0.7171127  0.19934556] D\n",
      "[0.40782347 0.22858523 0.3635913 ] A\n",
      "[0.35904136 0.16033934 0.4806193 ] H\n",
      "[0.10180297 0.07055574 0.82764129] H\n",
      "[0.4436443  0.40330888 0.15304682] A\n",
      "[0.10609553 0.61753013 0.27637434] D\n",
      "[0.30216331 0.39854604 0.29929065] D\n",
      "[0.57539489 0.12840511 0.2962    ] A\n",
      "[0.07274084 0.10583226 0.8214269 ] H\n",
      "[0.35378929 0.36799823 0.27821248] D\n"
     ]
    }
   ],
   "source": [
    "for i in range(10):\n",
    "    print(y_prob[i,:], y_pred[i])"
   ]
  },
  {
   "cell_type": "code",
   "execution_count": 22,
   "metadata": {},
   "outputs": [],
   "source": [
    "def get_pred_odds(probs):\n",
    "    return 1/probs[0], 1/probs[1], 1/probs[2] # Away, Draw, Home"
   ]
  },
  {
   "cell_type": "code",
   "execution_count": 23,
   "metadata": {},
   "outputs": [
    {
     "name": "stdout",
     "output_type": "stream",
     "text": [
      "\n",
      "Getting data from the regular models for visualization...\n"
     ]
    },
    {
     "name": "stderr",
     "output_type": "stream",
     "text": [
      "C:\\Users\\caiog\\AppData\\Local\\Temp\\ipykernel_10716\\1250689490.py:2: RuntimeWarning: divide by zero encountered in double_scalars\n",
      "  return 1/probs[0], 1/probs[1], 1/probs[2] # Away, Draw, Home\n"
     ]
    }
   ],
   "source": [
    "print(\"\\nGetting data from the regular models for visualization...\")\n",
    "right = 0\n",
    "total = 0\n",
    "profit = 0\n",
    "money_by_date = []\n",
    "bets_tracking_odds = [0]\n",
    "money_by_team = dict()\n",
    "bets = []\n",
    "money_by_date.append([dataset.iloc[0,2], dict(zip([x['model'] for x in results], [0 for x in results])),  dict(zip([x['model'] for x in results], [0 for x in results]))])\n",
    "\n",
    "for index, game in dataset.iterrows():\n",
    "    if game['GAME_DATE'] != money_by_date[-1][0]:    \n",
    "        bets_tracking_odds.append(bets_tracking_odds[-1])\n",
    "        money_by_date.append([game['GAME_DATE'],  dict(zip([x['model'] for x in results], [0 for x in results])), dict(money_by_date[-1][2])])\n",
    "\n",
    "    game_money = 0\n",
    "    bet_value = get_bet_value(y_prob[index,0])\n",
    "    \n",
    "    if game['HOME_TEAM'] not in money_by_team:\n",
    "        money_by_team[game['HOME_TEAM']] = 0\n",
    "    if game['AWAY_TEAM'] not in money_by_team:\n",
    "        money_by_team[game['AWAY_TEAM']] = 0\n",
    "    \n",
    "    pred_odds_away, pred_odds_draw, pred_odds_home  = get_pred_odds(y_prob[index,:])\n",
    "\n",
    "    game_money = check_model_performance_on_game(game, y_pred[index], bet_value, pred_odds_home, pred_odds_away, pred_odds_draw)\n",
    "    if game_money != 0:\n",
    "        if game['OUTCOME'] == y_pred[index] and game['OUTCOME'] == 'H':\n",
    "            bets.append(['HOME', game['HOME_ODDS'], pred_odds_home, 1])\n",
    "            money_by_team[game['HOME_TEAM']] += game_money\n",
    "        elif game['OUTCOME'] == y_pred[index] and game['OUTCOME'] == 'A':\n",
    "            bets.append(['AWAY', game['AWAY_ODDS'], pred_odds_away, 1])\n",
    "            money_by_team[game['AWAY_TEAM']] += game_money\n",
    "        elif game['OUTCOME'] == y_pred[index] and game['OUTCOME'] == 'D':\n",
    "            bets.append(['DRAW', game['DRAW_ODDS'], pred_odds_draw, 1])\n",
    "        else:\n",
    "            if y_pred[index] == 'H':\n",
    "                bets.append(['HOME', game['HOME_ODDS'], pred_odds_home, 0])\n",
    "                money_by_team[game['HOME_TEAM']] += game_money\n",
    "            elif y_pred[index] == 'A':\n",
    "                bets.append(['AWAY', game['AWAY_ODDS'], pred_odds_away, 0])\n",
    "                money_by_team[game['AWAY_TEAM']] += game_money\n",
    "            else:\n",
    "                bets.append(['DRAW', game['DRAW_ODDS'], pred_odds_draw, 0])\n",
    "\n",
    "        if game_money > 0:\n",
    "            right += 1\n",
    "        total += 1\n",
    "        \n",
    "    profit += game_money\n",
    "    bets_tracking_odds[-1] += check_game_with_odds(game, bet_value, pred_odds_home, pred_odds_away, pred_odds_draw)\n",
    "\n",
    "    for model in money_by_date[-1][1]:\n",
    "        game_money_model = 0\n",
    "        if probs[model][index,0] != 1 and probs[model][index,0] != 0:\n",
    "            bet_value = get_bet_value(probs[model][index,1])\n",
    "            prediction = next(x['pred'][index] for x in results if x['model'] == model)\n",
    "            pred_odds_away, pred_odds_draw, pred_odds_home = get_pred_odds(probs[model][index, :])\n",
    "            game_money_model = check_model_performance_on_game(game, prediction, bet_value, pred_odds_home, pred_odds_away, pred_odds_draw)\n",
    "        if game_money_model != 0:\n",
    "            total_invested[model] += bet_value\n",
    "        money_by_date[-1][1][model] += game_money_model\n",
    "        money_by_date[-1][2][model] += game_money_model\n",
    "\n"
   ]
  },
  {
   "cell_type": "code",
   "execution_count": 24,
   "metadata": {},
   "outputs": [
    {
     "name": "stdout",
     "output_type": "stream",
     "text": [
      "Bets Result: 41/71 => 57.75%\n"
     ]
    }
   ],
   "source": [
    "print(\"Bets Result: {}/{} => {:.2f}%\".format(right, total, right*100/total))"
   ]
  },
  {
   "cell_type": "code",
   "execution_count": 25,
   "metadata": {},
   "outputs": [
    {
     "name": "stdout",
     "output_type": "stream",
     "text": [
      "\n",
      "Profit and margin by model...\n",
      "Model: Voting Classifier \t// Invested: 710 \t// Won: 384.10 \t// Margin: 54.10%\n",
      "Model: Logistic Regression \t// Invested: 450 \t// Won: 112.40 \t// Margin: 24.98%\n",
      "Model: Kernel SVM \t// Invested: 490 \t// Won: 16.50 \t// Margin: 3.37%\n",
      "Model: Random Forest \t// Invested: 480 \t// Won: -4.00 \t// Margin: -0.83%\n",
      "Model: Stochastic Gradient Descent \t// Invested: 590 \t// Won: -11.00 \t// Margin: -1.86%\n",
      "Model: Naive Bayes \t// Invested: 660 \t// Won: 3.20 \t// Margin: 0.48%\n",
      "Model: KNN \t// Invested: 630 \t// Won: -132.60 \t// Margin: -21.05%\n"
     ]
    }
   ],
   "source": [
    "print('\\nProfit and margin by model...')\n",
    "for model in money_by_date[-1][1]:\n",
    "    if total_invested[model] > 0:\n",
    "        print('Model: {} \\t// Invested: {} \\t// Won: {:.2f} \\t// Margin: {:.2f}%'.format(model, total_invested[model], money_by_date[-1][2][model], 100*money_by_date[-1][2][model]/total_invested[model]))"
   ]
  },
  {
   "cell_type": "code",
   "execution_count": 26,
   "metadata": {},
   "outputs": [
    {
     "name": "stdout",
     "output_type": "stream",
     "text": [
      "\n",
      "Plotting charts...\n"
     ]
    }
   ],
   "source": [
    "print('\\nPlotting charts...')\n",
    "\n",
    "models_tracking =  [np.array([x[2][model] for x in money_by_date], dtype=np.float32) for model in money_by_date[-1][1]]\n",
    "\n",
    "money_by_date = np.array(money_by_date, dtype=str)\n",
    "correct_bets = list(filter(lambda x: x[3] == 1, bets))\n",
    "missed_bets = list(filter(lambda x: x[3] == 0, bets))\n",
    "correct_bets_odds = np.array(list(map(lambda x: x[1], correct_bets)))\n",
    "missed_bets_odds = np.array(list(map(lambda x: x[1], missed_bets)))\n",
    "correct_bets_home = np.array(list(map(lambda x: x[0], correct_bets)))\n",
    "missed_bets_home = np.array(list(map(lambda x: x[0], missed_bets)))\n",
    "\n",
    "money_by_team = dict(sorted(money_by_team.items(), key=lambda x: x[1]))\n",
    "money_by_team_labels = np.array(list(money_by_team.keys()), dtype=str)\n",
    "money_by_team_values = np.array(list(money_by_team.values()), dtype=np.float32)"
   ]
  },
  {
   "cell_type": "code",
   "execution_count": 27,
   "metadata": {
    "scrolled": false
   },
   "outputs": [
    {
     "data": {
      "image/png": "[encoded data removed]",
      "text/plain": [
       "<Figure size 432x288 with 1 Axes>"
      ]
     },
     "metadata": {},
     "output_type": "display_data"
    },
    {
     "data": {
      "image/png": "[encoded data removed]",
      "text/plain": [
       "<Figure size 432x288 with 1 Axes>"
      ]
     },
     "metadata": {},
     "output_type": "display_data"
    },
    {
     "data": {
      "image/png": "[encoded data removed]",
      "text/plain": [
       "<Figure size 432x288 with 1 Axes>"
      ]
     },
     "metadata": {},
     "output_type": "display_data"
    },
    {
     "data": {
      "image/png": "[encoded data removed]",
      "text/plain": [
       "<Figure size 432x288 with 1 Axes>"
      ]
     },
     "metadata": {},
     "output_type": "display_data"
    },
    {
     "data": {
      "image/png": "[encoded data removed]",
      "text/plain": [
       "<Figure size 432x288 with 1 Axes>"
      ]
     },
     "metadata": {},
     "output_type": "display_data"
    }
   ],
   "source": [
    "plot_hist('Missed Bets by Odds', 'Odds', 'X Times', missed_bets_odds)\n",
    "\n",
    "plot_hist('Correct Bets by Odds', 'Odds', 'X Times', correct_bets_odds)\n",
    "\n",
    "plot_pie_chart('Correct Bets by Home-Away', ['Home', 'Away', 'Draw'], correct_bets_home)\n",
    "\n",
    "plot_pie_chart('Missed Bets by Home-Away', ['Home', 'Away', 'Draw'], missed_bets_home)\n",
    "\n",
    "plot_bar('Profit by Team', 'Teams', 'Profit', money_by_team_labels, money_by_team_values)"
   ]
  },
  {
   "cell_type": "code",
   "execution_count": 29,
   "metadata": {},
   "outputs": [
    {
     "name": "stdout",
     "output_type": "stream",
     "text": [
      "[0, 24.799999999999997, 4.799999999999997, 28.9, 18.9, 85.1, 85.1, 75.1, 75.1, 55.099999999999994, 45.099999999999994, 90.0, 134.9, 124.9, 114.9, 104.9, 94.9, 74.9, 74.9, 64.9, 44.900000000000006, 44.900000000000006, 44.900000000000006, 120.2, 110.2, 100.2, 120.80000000000001, 120.80000000000001, 142.5, 142.5, 161.6]\n"
     ]
    }
   ],
   "source": [
    "print(bets_tracking_odds)"
   ]
  },
  {
   "cell_type": "code",
   "execution_count": 28,
   "metadata": {},
   "outputs": [
    {
     "data": {
      "image/png": "[encoded data removed]",
      "text/plain": [
       "<Figure size 432x288 with 1 Axes>"
      ]
     },
     "metadata": {},
     "output_type": "display_data"
    }
   ],
   "source": [
    "xpoints = money_by_date[:,0].astype(np.datetime64)\n",
    "\n",
    "plt.gca().xaxis.set_major_formatter(mdates.DateFormatter('%Y-%m-%d'))\n",
    "plt.gca().xaxis.set_major_locator(mdates.DayLocator(interval=15))\n",
    "for model in models_tracking:\n",
    "    plt.plot(xpoints, model)\n",
    "plt.plot(xpoints, bets_tracking_odds)\n",
    "\n",
    "title = \"Profit by Date\"\n",
    "plt.legend([x['model'] for x in results] + ['Odds Baseline'], loc=(1.04,0))\n",
    "plt.ylabel(\"Profit($)\")\n",
    "plt.xlabel(\"Date\")\n",
    "plt.title(title)\n",
    "plt.gcf().autofmt_xdate()\n",
    "plt.savefig('charts/{}.png'.format(title.replace(' ','_').lower()), dpi=300)\n",
    "plt.show()"
   ]
  },
  {
   "cell_type": "code",
   "execution_count": null,
   "metadata": {},
   "outputs": [],
   "source": []
  }
 ],
 "metadata": {
  "kernelspec": {
   "display_name": "Python 3 (ipykernel)",
   "language": "python",
   "name": "python3"
  },
  "language_info": {
   "codemirror_mode": {
    "name": "ipython",
    "version": 3
   },
   "file_extension": ".py",
   "mimetype": "text/x-python",
   "name": "python",
   "nbconvert_exporter": "python",
   "pygments_lexer": "ipython3",
   "version": "3.9.12"
  }
 },
 "nbformat": 4,
 "nbformat_minor": 2
}
