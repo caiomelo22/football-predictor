{
 "cells": [
  {
   "cell_type": "code",
   "execution_count": 381,
   "metadata": {},
   "outputs": [],
   "source": [
    "import os\n",
    "import pandas as pd\n",
    "import numpy as np\n",
    "import matplotlib.pyplot as plt\n",
    "import datetime as dt\n",
    "import matplotlib.dates as mdates\n",
    "from sklearn.metrics import confusion_matrix, accuracy_score\n",
    "import pickle\n",
    "from IPython.display import clear_output\n",
    "from itertools import product, combinations\n",
    "import json"
   ]
  },
  {
   "cell_type": "code",
   "execution_count": 1204,
   "metadata": {},
   "outputs": [],
   "source": [
    "league_id = 61 # Choose the league id\n",
    "\n",
    "season_file = '2015-2022'\n",
    "\n",
    "first_season = 2015\n",
    "last_season = 2022\n",
    "\n",
    "features = ['HOME_PTS_PCT', 'HOME_WIN_PCT', 'HOME_DRAW_PCT', 'HOME_LOSS_PCT', 'HOME_HOME_WIN_PCT', 'HOME_HOME_DRAW_PCT', 'HOME_HOME_LOSS_PCT', f'HOME_WIN_PCT_LAST_GAMES', f'HOME_DRAW_PCT_LAST_GAMES', f'HOME_LOSS_PCT_LAST_GAMES','HOME_SCORE_LAST_GAMES', 'HOME_CONCEDED_LAST_GAMES', 'HOME_SHOTS_ON_GOAL_LAST_GAMES', 'HOME_SHOTS_OFF_GOAL_LAST_GAMES', 'HOME_TOTAL_SHOTS_LAST_GAMES', 'HOME_BLOCKED_SHOTS_LAST_GAMES','HOME_SHOTS_INSIDE_BOX_LAST_GAMES', 'HOME_SHOTS_OUTSIDE_BOX_LAST_GAMES', 'HOME_FOULS_LAST_GAMES', 'HOME_CORNERS_LAST_GAMES', 'HOME_OFFSIDES_LAST_GAMES','HOME_POSSESSION_LAST_GAMES', 'HOME_YELLOW_CARDS_LAST_GAMES', 'HOME_RED_CARDS_LAST_GAMES', 'HOME_SAVES_LAST_GAMES', 'HOME_TOTAL_PASSES_LAST_GAMES','HOME_PASSES_ACCURATE_LAST_GAMES', 'HOME_PASSES_PCT_LAST_GAMES',\n",
    "           'AWAY_PTS_PCT', 'AWAY_WIN_PCT', 'AWAY_DRAW_PCT', 'AWAY_LOSS_PCT', 'AWAY_AWAY_WIN_PCT', 'AWAY_AWAY_DRAW_PCT', 'AWAY_AWAY_LOSS_PCT', f'AWAY_WIN_PCT_LAST_GAMES', f'AWAY_DRAW_PCT_LAST_GAMES', f'AWAY_LOSS_PCT_LAST_GAMES','AWAY_SCORE_LAST_GAMES', 'AWAY_CONCEDED_LAST_GAMES', 'AWAY_SHOTS_ON_GOAL_LAST_GAMES', 'AWAY_SHOTS_OFF_GOAL_LAST_GAMES', 'AWAY_TOTAL_SHOTS_LAST_GAMES', 'AWAY_BLOCKED_SHOTS_LAST_GAMES','AWAY_SHOTS_INSIDE_BOX_LAST_GAMES', 'AWAY_SHOTS_OUTSIDE_BOX_LAST_GAMES', 'AWAY_FOULS_LAST_GAMES', 'AWAY_CORNERS_LAST_GAMES', 'AWAY_OFFSIDES_LAST_GAMES','AWAY_POSSESSION_LAST_GAMES', 'AWAY_YELLOW_CARDS_LAST_GAMES', 'AWAY_RED_CARDS_LAST_GAMES', 'AWAY_SAVES_LAST_GAMES', 'AWAY_TOTAL_PASSES_LAST_GAMES','AWAY_PASSES_ACCURATE_LAST_GAMES', 'AWAY_PASSES_PCT_LAST_GAMES']\n",
    "targets = ['HOME_SCORE', 'AWAY_SCORE']\n",
    "\n",
    "min_threshold = 2\n",
    "max_threshold = 10\n",
    "\n",
    "draw_threshold = 0.025\n",
    "min_score_diff_threshold = 0.4\n",
    "\n",
    "totals_max_threshold = 55\n",
    "totals_min_threshold = 45\n",
    "\n",
    "default_odds_value = 1.9\n",
    "\n",
    "first_attr_index = 9\n",
    "\n",
    "# default_stake = 50\n",
    "bankroll = 2000\n",
    "stake = 0.025"
   ]
  },
  {
   "cell_type": "code",
   "execution_count": 1205,
   "metadata": {},
   "outputs": [
    {
     "name": "stdout",
     "output_type": "stream",
     "text": [
      "\n",
      "Getting data for the model...\n"
     ]
    }
   ],
   "source": [
    "print('\\nGetting data for the model...')\n",
    "\n",
    "season = \"{}-{}\".format(first_season, last_season)\n",
    "\n",
    "default_path = f'./leagues/{league_id}'\n",
    "whole_dataset = pd.read_csv(f\"{default_path}/data/{season_file}.csv\")\n",
    "whole_dataset = whole_dataset.loc[(whole_dataset['HOME_ODDS'].notna()) & (whole_dataset['AWAY_ODDS'].notna())]\n",
    "whole_dataset['GAME_DATE'] = pd.to_datetime(whole_dataset['GAME_DATE']).dt.date"
   ]
  },
  {
   "cell_type": "code",
   "execution_count": 1206,
   "metadata": {},
   "outputs": [
    {
     "data": {
      "text/html": [
       "<div>\n",
       "<style scoped>\n",
       "    .dataframe tbody tr th:only-of-type {\n",
       "        vertical-align: middle;\n",
       "    }\n",
       "\n",
       "    .dataframe tbody tr th {\n",
       "        vertical-align: top;\n",
       "    }\n",
       "\n",
       "    .dataframe thead th {\n",
       "        text-align: right;\n",
       "    }\n",
       "</style>\n",
       "<table border=\"1\" class=\"dataframe\">\n",
       "  <thead>\n",
       "    <tr style=\"text-align: right;\">\n",
       "      <th></th>\n",
       "      <th>Unnamed: 0</th>\n",
       "      <th>GAME_ID</th>\n",
       "      <th>GAME_DATE</th>\n",
       "      <th>SEASON</th>\n",
       "      <th>HOME_TEAM</th>\n",
       "      <th>AWAY_TEAM</th>\n",
       "      <th>HOME_ODDS</th>\n",
       "      <th>AWAY_ODDS</th>\n",
       "      <th>DRAW_ODDS</th>\n",
       "      <th>HOME_PTS_PCT</th>\n",
       "      <th>...</th>\n",
       "      <th>AWAY_POSSESSION_LAST_GAMES</th>\n",
       "      <th>AWAY_YELLOW_CARDS_LAST_GAMES</th>\n",
       "      <th>AWAY_RED_CARDS_LAST_GAMES</th>\n",
       "      <th>AWAY_SAVES_LAST_GAMES</th>\n",
       "      <th>AWAY_TOTAL_PASSES_LAST_GAMES</th>\n",
       "      <th>AWAY_PASSES_ACCURATE_LAST_GAMES</th>\n",
       "      <th>AWAY_PASSES_PCT_LAST_GAMES</th>\n",
       "      <th>OUTCOME</th>\n",
       "      <th>HOME_SCORE</th>\n",
       "      <th>AWAY_SCORE</th>\n",
       "    </tr>\n",
       "  </thead>\n",
       "  <tbody>\n",
       "    <tr>\n",
       "      <th>0</th>\n",
       "      <td>0</td>\n",
       "      <td>185646</td>\n",
       "      <td>2015-10-23</td>\n",
       "      <td>2015</td>\n",
       "      <td>Lyon</td>\n",
       "      <td>Toulouse</td>\n",
       "      <td>1.69</td>\n",
       "      <td>5.31</td>\n",
       "      <td>3.75</td>\n",
       "      <td>53.333333</td>\n",
       "      <td>...</td>\n",
       "      <td>51.0</td>\n",
       "      <td>2.2</td>\n",
       "      <td>0.6</td>\n",
       "      <td>2.2</td>\n",
       "      <td>436.8</td>\n",
       "      <td>346.0</td>\n",
       "      <td>77.8</td>\n",
       "      <td>H</td>\n",
       "      <td>3</td>\n",
       "      <td>0</td>\n",
       "    </tr>\n",
       "    <tr>\n",
       "      <th>1</th>\n",
       "      <td>1</td>\n",
       "      <td>185647</td>\n",
       "      <td>2015-10-24</td>\n",
       "      <td>2015</td>\n",
       "      <td>Lorient</td>\n",
       "      <td>Rennes</td>\n",
       "      <td>2.48</td>\n",
       "      <td>3.04</td>\n",
       "      <td>3.15</td>\n",
       "      <td>50.000000</td>\n",
       "      <td>...</td>\n",
       "      <td>50.0</td>\n",
       "      <td>2.2</td>\n",
       "      <td>0.2</td>\n",
       "      <td>3.6</td>\n",
       "      <td>415.2</td>\n",
       "      <td>330.2</td>\n",
       "      <td>79.2</td>\n",
       "      <td>D</td>\n",
       "      <td>1</td>\n",
       "      <td>1</td>\n",
       "    </tr>\n",
       "    <tr>\n",
       "      <th>2</th>\n",
       "      <td>2</td>\n",
       "      <td>185648</td>\n",
       "      <td>2015-10-24</td>\n",
       "      <td>2015</td>\n",
       "      <td>Angers</td>\n",
       "      <td>Guingamp</td>\n",
       "      <td>2.57</td>\n",
       "      <td>3.03</td>\n",
       "      <td>3.05</td>\n",
       "      <td>70.000000</td>\n",
       "      <td>...</td>\n",
       "      <td>44.2</td>\n",
       "      <td>2.2</td>\n",
       "      <td>0.0</td>\n",
       "      <td>2.6</td>\n",
       "      <td>352.0</td>\n",
       "      <td>261.0</td>\n",
       "      <td>73.2</td>\n",
       "      <td>D</td>\n",
       "      <td>0</td>\n",
       "      <td>0</td>\n",
       "    </tr>\n",
       "    <tr>\n",
       "      <th>3</th>\n",
       "      <td>3</td>\n",
       "      <td>185650</td>\n",
       "      <td>2015-10-24</td>\n",
       "      <td>2015</td>\n",
       "      <td>Montpellier</td>\n",
       "      <td>Bastia</td>\n",
       "      <td>1.86</td>\n",
       "      <td>4.66</td>\n",
       "      <td>3.36</td>\n",
       "      <td>16.666667</td>\n",
       "      <td>...</td>\n",
       "      <td>40.0</td>\n",
       "      <td>2.0</td>\n",
       "      <td>0.2</td>\n",
       "      <td>4.2</td>\n",
       "      <td>352.6</td>\n",
       "      <td>252.4</td>\n",
       "      <td>71.4</td>\n",
       "      <td>H</td>\n",
       "      <td>2</td>\n",
       "      <td>0</td>\n",
       "    </tr>\n",
       "    <tr>\n",
       "      <th>4</th>\n",
       "      <td>4</td>\n",
       "      <td>185651</td>\n",
       "      <td>2015-10-25</td>\n",
       "      <td>2015</td>\n",
       "      <td>Reims</td>\n",
       "      <td>Monaco</td>\n",
       "      <td>3.30</td>\n",
       "      <td>2.32</td>\n",
       "      <td>3.22</td>\n",
       "      <td>50.000000</td>\n",
       "      <td>...</td>\n",
       "      <td>50.2</td>\n",
       "      <td>2.6</td>\n",
       "      <td>0.2</td>\n",
       "      <td>4.2</td>\n",
       "      <td>420.8</td>\n",
       "      <td>334.6</td>\n",
       "      <td>78.4</td>\n",
       "      <td>A</td>\n",
       "      <td>0</td>\n",
       "      <td>1</td>\n",
       "    </tr>\n",
       "  </tbody>\n",
       "</table>\n",
       "<p>5 rows × 68 columns</p>\n",
       "</div>"
      ],
      "text/plain": [
       "   Unnamed: 0  GAME_ID   GAME_DATE  SEASON    HOME_TEAM AWAY_TEAM  HOME_ODDS  \\\n",
       "0           0   185646  2015-10-23    2015         Lyon  Toulouse       1.69   \n",
       "1           1   185647  2015-10-24    2015      Lorient    Rennes       2.48   \n",
       "2           2   185648  2015-10-24    2015       Angers  Guingamp       2.57   \n",
       "3           3   185650  2015-10-24    2015  Montpellier    Bastia       1.86   \n",
       "4           4   185651  2015-10-25    2015        Reims    Monaco       3.30   \n",
       "\n",
       "   AWAY_ODDS  DRAW_ODDS  HOME_PTS_PCT  ...  AWAY_POSSESSION_LAST_GAMES  \\\n",
       "0       5.31       3.75     53.333333  ...                        51.0   \n",
       "1       3.04       3.15     50.000000  ...                        50.0   \n",
       "2       3.03       3.05     70.000000  ...                        44.2   \n",
       "3       4.66       3.36     16.666667  ...                        40.0   \n",
       "4       2.32       3.22     50.000000  ...                        50.2   \n",
       "\n",
       "   AWAY_YELLOW_CARDS_LAST_GAMES  AWAY_RED_CARDS_LAST_GAMES  \\\n",
       "0                           2.2                        0.6   \n",
       "1                           2.2                        0.2   \n",
       "2                           2.2                        0.0   \n",
       "3                           2.0                        0.2   \n",
       "4                           2.6                        0.2   \n",
       "\n",
       "   AWAY_SAVES_LAST_GAMES  AWAY_TOTAL_PASSES_LAST_GAMES  \\\n",
       "0                    2.2                         436.8   \n",
       "1                    3.6                         415.2   \n",
       "2                    2.6                         352.0   \n",
       "3                    4.2                         352.6   \n",
       "4                    4.2                         420.8   \n",
       "\n",
       "   AWAY_PASSES_ACCURATE_LAST_GAMES  AWAY_PASSES_PCT_LAST_GAMES  OUTCOME  \\\n",
       "0                            346.0                        77.8        H   \n",
       "1                            330.2                        79.2        D   \n",
       "2                            261.0                        73.2        D   \n",
       "3                            252.4                        71.4        H   \n",
       "4                            334.6                        78.4        A   \n",
       "\n",
       "   HOME_SCORE  AWAY_SCORE  \n",
       "0           3           0  \n",
       "1           1           1  \n",
       "2           0           0  \n",
       "3           2           0  \n",
       "4           0           1  \n",
       "\n",
       "[5 rows x 68 columns]"
      ]
     },
     "execution_count": 1206,
     "metadata": {},
     "output_type": "execute_result"
    }
   ],
   "source": [
    "whole_dataset.head()"
   ]
  },
  {
   "cell_type": "code",
   "execution_count": 1207,
   "metadata": {},
   "outputs": [],
   "source": [
    "def plot_chart(title, x_label, y_label):\n",
    "    plt.ylabel(y_label)\n",
    "    plt.xlabel(x_label)\n",
    "    plt.title(title)\n",
    "    \n",
    "    path = 'charts'\n",
    "    if not os.path.exists(path):\n",
    "        os.makedirs(path)\n",
    "    \n",
    "    plt.savefig(f\"{path}/{title.replace(' ','_').lower()}.png\", dpi=300)\n",
    "    plt.show()\n",
    "\n",
    "def plot_hist(title, x_label, y_label, data):\n",
    "    plt.hist(data, density=False, bins=20)  # density=False would make counts\n",
    "    plot_chart(title, x_label, y_label)\n",
    "    \n",
    "def plot_bar(title, x_label, y_label, x_data, y_data):\n",
    "    ax= plt.subplot()\n",
    "    plt.bar(x_data, y_data) \n",
    "    # plt.setp(ax.get_xticklabels(), rotation=30, ha='right')\n",
    "    plt.xticks(fontsize=10, rotation=90)\n",
    "    plot_chart(title, x_label, y_label)\n",
    "    \n",
    "def plot_pie_chart(title, labels, data):\n",
    "    try:\n",
    "        data_converted = np.unique(data, return_counts=True)[1]\n",
    "        plt.pie(data_converted, labels = labels, startangle = 90, shadow = True, autopct='%.2f%%')\n",
    "        plt.title(title)\n",
    "        plt.savefig('charts/{}.png'.format(title.replace(' ','_').lower()), dpi=300)\n",
    "        plt.show() \n",
    "    except Exception as e:\n",
    "        print(f'Error when trying to plot the pie chart: {e}')\n",
    "\n",
    "def check_bet_worth(prediction, odds_home, odds_away, odds_draw):\n",
    "    return ((prediction == 'H' and (odds_home > min_threshold and odds_home < max_threshold)) or \n",
    "            (prediction == 'A' and (odds_away > min_threshold and odds_away < max_threshold)) or \n",
    "            (prediction == 'D' and (odds_draw > min_threshold and odds_draw < max_threshold)))\n",
    "\n",
    "def check_model_performance_on_game(game, prediction, bet_value, home_pred_score, away_pred_score):\n",
    "    game_money = 0\n",
    "            \n",
    "    goal_diff_pred = abs(home_pred_score - away_pred_score)\n",
    "    if goal_diff_pred > draw_threshold and goal_diff_pred < min_score_diff_threshold:\n",
    "        return game_money\n",
    "    \n",
    "    if check_bet_worth(prediction, game['HOME_ODDS'], game['AWAY_ODDS'], game['DRAW_ODDS']):\n",
    "        if game['OUTCOME'] == prediction and game['OUTCOME'] == 'H':\n",
    "            game_money = (bet_value*game['HOME_ODDS'] - bet_value)\n",
    "        elif game['OUTCOME'] == prediction and game['OUTCOME'] == 'A':\n",
    "            game_money = (bet_value*game['AWAY_ODDS'] - bet_value)\n",
    "        elif game['OUTCOME'] == prediction and game['OUTCOME'] == 'D':\n",
    "            game_money = (bet_value*game['DRAW_ODDS'] - bet_value)\n",
    "        else:\n",
    "            game_money = -bet_value\n",
    "            \n",
    "    return game_money\n",
    "\n",
    "def get_bet_value(bankroll):\n",
    "    bankroll_baseline = round(bankroll / 1000, 0) * 1000\n",
    "    return stake * bankroll_baseline\n",
    "#     return default_stake"
   ]
  },
  {
   "cell_type": "code",
   "execution_count": 1208,
   "metadata": {},
   "outputs": [],
   "source": [
    "def get_feature_correlation_matrix(dataset):\n",
    "    print('\\nGetting the feature correlation matrix...')\n",
    "\n",
    "    import seaborn as sns\n",
    "\n",
    "    try:\n",
    "        dependent_variables = dataset.iloc[:,first_attr_index:]\n",
    "        corrmat = dependent_variables.corr()\n",
    "        top_corr_features = corrmat.index\n",
    "        plt.figure(figsize=(13,13))\n",
    "        title = 'Feature Correlation'\n",
    "        plt.title(title)\n",
    "        #plot heat map\n",
    "        sns.set(font_scale=0.6)\n",
    "        g=sns.heatmap(dependent_variables.corr(),annot=True,cmap='Blues', fmt='0.1g')\n",
    "        plt.savefig('charts/{}.png'.format(title.replace(' ','_').lower()), dpi=300)\n",
    "        plt.show()\n",
    "    except:\n",
    "        print('No correlation matrix for the selected model.')"
   ]
  },
  {
   "cell_type": "code",
   "execution_count": 1209,
   "metadata": {},
   "outputs": [],
   "source": [
    "def simulate_by_model(predictions, dataset_itr):\n",
    "    money_by_date = []\n",
    "    bets = []\n",
    "    money_by_team = dict()\n",
    "    total_invested = 0\n",
    "    outcome_predictions = {'H': 0, 'A': 0, 'D': 0}\n",
    "    strikes = 0\n",
    "    no_value_games = []\n",
    "\n",
    "    money_by_date.append({\n",
    "        'date': dataset_itr.iloc[0,2],\n",
    "        'date_profit': 0,\n",
    "        'total_bankroll': bankroll\n",
    "    })\n",
    "\n",
    "    for index, game in dataset_itr.iterrows():\n",
    "        bet_value = get_bet_value(money_by_date[-1]['total_bankroll'])\n",
    "        \n",
    "        # Next date\n",
    "        if game['GAME_DATE'] != money_by_date[-1]['date']:\n",
    "                \n",
    "            money_by_date.append({\n",
    "                'date': game['GAME_DATE'],\n",
    "                'date_profit': 0,\n",
    "                'total_bankroll': money_by_date[-1]['total_bankroll']\n",
    "            })\n",
    "\n",
    "        if game['HOME_TEAM'] not in money_by_team:\n",
    "            money_by_team[game['HOME_TEAM']] = 0\n",
    "        if game['AWAY_TEAM'] not in money_by_team:\n",
    "            money_by_team[game['AWAY_TEAM']] = 0\n",
    "\n",
    "        home_score_pred, away_score_pred = predictions[index]\n",
    "        \n",
    "        prediction = 'D'\n",
    "        score_pred_diff = abs(home_score_pred - away_score_pred)\n",
    "        if home_score_pred > away_score_pred and score_pred_diff > draw_threshold:\n",
    "            prediction = 'H'\n",
    "        elif home_score_pred < away_score_pred and score_pred_diff > draw_threshold:\n",
    "            prediction = 'A'\n",
    "\n",
    "#         away_prob, draw_prob, home_prob = predictions[index]\n",
    "#         biggest_prob = max(away_prob, draw_prob, home_prob)\n",
    "        \n",
    "#         if away_prob == biggest_prob:\n",
    "#             prediction = 'A'\n",
    "#         elif home_prob == biggest_prob:\n",
    "#             prediction = 'H'\n",
    "#         else:\n",
    "#             prediction = 'D'\n",
    "        \n",
    "#         if prediction == game['OUTCOME']:\n",
    "#             strikes += 1\n",
    "\n",
    "        game_money_model = 0\n",
    "\n",
    "        game_money_model = check_model_performance_on_game(game, prediction, bet_value, home_score_pred, away_score_pred)\n",
    "#         game_money_model = check_model_performance_on_game(game, prediction, bet_value, biggest_prob)\n",
    "\n",
    "        if game_money_model != 0:       \n",
    "            if game['OUTCOME'] == prediction and game['OUTCOME'] == 'H':\n",
    "                bets.append(['HOME', game['HOME_ODDS'], 1])\n",
    "                money_by_team[game['HOME_TEAM']] += game_money_model\n",
    "            elif game['OUTCOME'] == prediction and game['OUTCOME'] == 'A':\n",
    "                bets.append(['AWAY', game['AWAY_ODDS'], 1])\n",
    "                money_by_team[game['AWAY_TEAM']] += game_money_model\n",
    "            elif game['OUTCOME'] == prediction and game['OUTCOME'] == 'D':\n",
    "                bets.append(['DRAW', game['DRAW_ODDS'], 1])\n",
    "            else:\n",
    "                if prediction == 'H':\n",
    "                    bets.append(['HOME', game['HOME_ODDS'], 0])\n",
    "                    money_by_team[game['HOME_TEAM']] += game_money_model\n",
    "                elif prediction == 'A':\n",
    "                    bets.append(['AWAY', game['AWAY_ODDS'], 0])\n",
    "                    money_by_team[game['AWAY_TEAM']] += game_money_model\n",
    "                elif prediction == 'D':\n",
    "                    bets.append(['DRAW', game['DRAW_ODDS'], 0])\n",
    "\n",
    "            total_invested += bet_value\n",
    "\n",
    "        outcome_predictions[prediction] += 1\n",
    "\n",
    "        money_by_date[-1]['date_profit'] += game_money_model\n",
    "        money_by_date[-1]['total_bankroll'] += game_money_model\n",
    "        \n",
    "    return {\n",
    "        'results': money_by_date,\n",
    "        'outcome_distribution': outcome_predictions,\n",
    "        'bets': bets,\n",
    "        'profit_by_team': money_by_team,\n",
    "        'total_invested': total_invested,\n",
    "        'strike_rate': strikes * 100 / len(dataset_itr.index),\n",
    "    }\n"
   ]
  },
  {
   "cell_type": "code",
   "execution_count": 1210,
   "metadata": {},
   "outputs": [],
   "source": [
    "def save_league_season_results(result, season_train, season_test):\n",
    "    path = f\"leagues/{league_id}/results/regression\"\n",
    "    file_name = f\"{season_train}-{season_test}.json\"\n",
    "\n",
    "    if not os.path.exists(path):\n",
    "        os.makedirs(path)\n",
    "\n",
    "    with open(f\"{path}/{file_name}\", 'w') as f:\n",
    "        json.dump(result['results'], f, indent = 4, sort_keys = True, default = str)"
   ]
  },
  {
   "cell_type": "code",
   "execution_count": 1211,
   "metadata": {},
   "outputs": [],
   "source": [
    "from sklearn.linear_model import LinearRegression\n",
    "from sklearn.ensemble import RandomForestRegressor\n",
    "from sklearn.model_selection import RandomizedSearchCV\n",
    "from sklearn.ensemble import RandomForestClassifier, VotingClassifier\n",
    "from sklearn.linear_model import LogisticRegression\n",
    "from sklearn.neighbors import KNeighborsClassifier\n",
    "from sklearn.svm import SVC\n",
    "from sklearn.naive_bayes import GaussianNB\n",
    "\n",
    "def train_model(dataset):\n",
    "    X = dataset.loc[:, features]\n",
    "    y = dataset[targets]\n",
    "    \n",
    "# #     \" Random Search CV Optmizer \"\n",
    "#     rs_optimizer = RandomForestRegressor()\n",
    "    \n",
    "#     # Number of trees in random forest\n",
    "#     n_estimators = [int(x) for x in np.linspace(start = 200, stop = 2000, num = 10)]\n",
    "#     # Number of features to consider at every split\n",
    "#     max_features = ['sqrt', 'log2', None]\n",
    "#     # Maximum number of levels in tree\n",
    "#     max_depth = [int(x) for x in np.linspace(10, 110, num = 11)]\n",
    "#     max_depth.append(None)\n",
    "#     # Minimum number of samples required to split a node\n",
    "#     min_samples_split = [2, 5, 10]\n",
    "#     # Minimum number of samples required at each leaf node\n",
    "#     min_samples_leaf = [1, 2, 4]\n",
    "#     # Method of selecting samples for training each tree\n",
    "#     bootstrap = [True, False]\n",
    "#     # Create the random grid\n",
    "#     random_grid = {'n_estimators': n_estimators,\n",
    "#                     'max_features': max_features,\n",
    "#                     'max_depth': max_depth,\n",
    "#                     'min_samples_split': min_samples_split,\n",
    "#                     'min_samples_leaf': min_samples_leaf,\n",
    "#                     'bootstrap': bootstrap}\n",
    "\n",
    "# #     rs_optimizer = KNeighborsClassifier()\n",
    "# #     n_neighbors=[int(x) for x in np.linspace(start = 5, stop = 2000, num = 10)]\n",
    "# #     random_grid = {\n",
    "# #         'n_neighbors': n_neighbors\n",
    "# #     }\n",
    "                   \n",
    "#     rf_random = RandomizedSearchCV(estimator = rs_optimizer, param_distributions = random_grid, n_iter = 100, cv = 3, verbose=2, random_state=0, n_jobs = -1)\n",
    "    \n",
    "#     rf_random.fit(X, y)\n",
    "    \n",
    "#     best_random = rf_random.best_estimator_\n",
    "#     best_parameters = rf_random.cv_results_\n",
    "# #     print(best_parameters)\n",
    "#     print(best_random)\n",
    "    \n",
    "#     return rf_random\n",
    "    \n",
    "#     Regression Model\n",
    "    model = RandomForestRegressor(max_depth=40, max_features='log2', min_samples_leaf=4,\n",
    "                      min_samples_split=10, n_estimators=200, random_state=0)\n",
    "\n",
    "# #     Classifier Models\n",
    "#     rf = RandomForestClassifier(max_depth=70, max_features='log2', min_samples_leaf=4,\n",
    "#                        min_samples_split=5, n_estimators=2000, random_state=0)\n",
    "#     knn = KNeighborsClassifier(n_neighbors=226)\n",
    "#     lr = LogisticRegression(random_state=0)\n",
    "#     svm = SVC(kernel = 'rbf', random_state = 0, probability = True)\n",
    "#     estimators = [('lr', lr), ('rf', rf), ('svm',svm), ('knn', knn)]\n",
    "#     model = VotingClassifier(estimators=estimators, voting='soft')\n",
    "\n",
    "    model.fit(X.values, y.values)\n",
    "    \n",
    "    return model"
   ]
  },
  {
   "cell_type": "code",
   "execution_count": 1212,
   "metadata": {},
   "outputs": [],
   "source": [
    "# dataset_test = whole_dataset.loc[(whole_dataset['SEASON'] >= first_season) & (whole_dataset['SEASON'] < 2022)].reset_index(drop=True)\n",
    "# best_model = train_model(dataset_test)"
   ]
  },
  {
   "cell_type": "code",
   "execution_count": 1213,
   "metadata": {},
   "outputs": [],
   "source": [
    "def predict(dataset_train, dataset_itr):\n",
    "    \n",
    "    model = train_model(dataset_train)\n",
    "\n",
    "    X = dataset_itr.loc[:, features]\n",
    "    \n",
    "    if not len(X):\n",
    "        return None, model\n",
    "    \n",
    "    predictions = model.predict(X.values)\n",
    "    \n",
    "#     predictions_prob = model.predict_proba(X.values)\n",
    "    \n",
    "    return predictions, model"
   ]
  },
  {
   "cell_type": "code",
   "execution_count": 1214,
   "metadata": {},
   "outputs": [],
   "source": [
    "def simulate(season):\n",
    "    print(f\"\\Simultating the results for season {season}...\")\n",
    "    \n",
    "    dataset_train = whole_dataset.loc[(whole_dataset['SEASON'] >= first_season) & (whole_dataset['SEASON'] < season)].reset_index(drop=True)\n",
    "    dataset_itr = whole_dataset.loc[whole_dataset['SEASON'] == season].reset_index(drop=True)\n",
    "    \n",
    "    clear_output(wait=True)\n",
    "\n",
    "    print(f\"Season {season}/{last_season}\")\n",
    "\n",
    "    predictions, model = predict(dataset_train, dataset_itr)\n",
    "\n",
    "    result = dict()\n",
    "    \n",
    "    if predictions is None:\n",
    "        pass\n",
    "    else:\n",
    "        result = simulate_by_model(predictions, dataset_itr)\n",
    "        save_league_season_results(result, first_season, season)\n",
    "        \n",
    "    result['seasons'] = f\"{first_season}-{season}\"\n",
    "    result['model'] = model\n",
    "        \n",
    "    return result\n"
   ]
  },
  {
   "cell_type": "code",
   "execution_count": 1215,
   "metadata": {
    "scrolled": true
   },
   "outputs": [
    {
     "name": "stdout",
     "output_type": "stream",
     "text": [
      "Season 2022/2022\n"
     ]
    }
   ],
   "source": [
    "results = []\n",
    "\n",
    "for season in range(first_season + 1, last_season + 1):\n",
    "    results.append(simulate(season))"
   ]
  },
  {
   "cell_type": "code",
   "execution_count": 1216,
   "metadata": {},
   "outputs": [],
   "source": [
    "results.sort(key=lambda x: x['results'][-1]['total_bankroll'], reverse=True)"
   ]
  },
  {
   "cell_type": "code",
   "execution_count": 1217,
   "metadata": {},
   "outputs": [],
   "source": [
    "def print_bankroll_update(result):\n",
    "    won = result['results'][-1]['total_bankroll'] - bankroll\n",
    "    print(f\"\\nSeasons: {result['seasons']} // Accuracy: {round(result['strike_rate'], 2)}%\")\n",
    "    print(f\"Total moneyline bets: {len([r for r in result['bets'] if r[2]])}/{len(result['bets'])}\")\n",
    "    print(f\"Yield: {round(won*100/result['total_invested'], 2)}% // Bet Accuracy: {round(len([r for r in result['bets'] if r[2]])*100/len(result['bets']), 2)}% \\nBankroll: {round(result['results'][-1]['total_bankroll'], 2)} // Won: {round(won, 2)} // Margin: {round(100*won/bankroll, 2)}%\")"
   ]
  },
  {
   "cell_type": "code",
   "execution_count": 1218,
   "metadata": {},
   "outputs": [
    {
     "name": "stdout",
     "output_type": "stream",
     "text": [
      "\n",
      "Seasons: 2015-2019 // Accuracy: 0.0%\n",
      "Total moneyline bets: 18/34\n",
      "Yield: 24.15% // Bet Accuracy: 52.94% \n",
      "Bankroll: 2410.5 // Won: 410.5 // Margin: 20.52%\n",
      "\n",
      "Seasons: 2015-2017 // Accuracy: 0.0%\n",
      "Total moneyline bets: 22/47\n",
      "Yield: 11.02% // Bet Accuracy: 46.81% \n",
      "Bankroll: 2259.0 // Won: 259.0 // Margin: 12.95%\n",
      "\n",
      "Seasons: 2015-2018 // Accuracy: 0.0%\n",
      "Total moneyline bets: 29/74\n",
      "Yield: 4.8% // Bet Accuracy: 39.19% \n",
      "Bankroll: 2177.5 // Won: 177.5 // Margin: 8.88%\n",
      "\n",
      "Seasons: 2015-2016 // Accuracy: 0.0%\n",
      "Total moneyline bets: 34/78\n",
      "Yield: 3.68% // Bet Accuracy: 43.59% \n",
      "Bankroll: 2143.5 // Won: 143.5 // Margin: 7.17%\n",
      "\n",
      "Seasons: 2015-2021 // Accuracy: 0.0%\n",
      "Total moneyline bets: 19/49\n",
      "Yield: -11.51% // Bet Accuracy: 38.78% \n",
      "Bankroll: 1718.0 // Won: -282.0 // Margin: -14.1%\n",
      "\n",
      "Seasons: 2015-2022 // Accuracy: 0.0%\n",
      "Total moneyline bets: 4/16\n",
      "Yield: -45.69% // Bet Accuracy: 25.0% \n",
      "Bankroll: 1634.5 // Won: -365.5 // Margin: -18.27%\n",
      "\n",
      "Seasons: 2015-2020 // Accuracy: 0.0%\n",
      "Total moneyline bets: 23/68\n",
      "Yield: -10.96% // Bet Accuracy: 33.82% \n",
      "Bankroll: 1627.5 // Won: -372.5 // Margin: -18.62%\n"
     ]
    }
   ],
   "source": [
    "for r in results:\n",
    "    print_bankroll_update(r)"
   ]
  },
  {
   "cell_type": "code",
   "execution_count": 1219,
   "metadata": {
    "scrolled": false
   },
   "outputs": [],
   "source": [
    "result_for_analysis = results[-3]"
   ]
  },
  {
   "cell_type": "code",
   "execution_count": 1220,
   "metadata": {},
   "outputs": [
    {
     "name": "stdout",
     "output_type": "stream",
     "text": [
      "{'H': 187, 'A': 83, 'D': 3}\n"
     ]
    }
   ],
   "source": [
    "print(result_for_analysis['outcome_distribution'])"
   ]
  },
  {
   "cell_type": "code",
   "execution_count": 1221,
   "metadata": {},
   "outputs": [
    {
     "name": "stdout",
     "output_type": "stream",
     "text": [
      "\n",
      "Plotting charts...\n"
     ]
    }
   ],
   "source": [
    "print('\\nPlotting charts...')\n",
    "\n",
    "models_tracking =  [np.array([x['total_bankroll'] for x in result_for_analysis['results']], dtype=np.float32)]\n",
    "\n",
    "money_by_date = np.array([[r['date'], r['total_bankroll']] for r in result_for_analysis['results']], dtype=str)\n",
    "correct_bets = list(filter(lambda x: x[2] == 1, result_for_analysis['bets']))\n",
    "missed_bets = list(filter(lambda x: x[2] == 0, result_for_analysis['bets']))\n",
    "correct_bets_odds = np.array(list(map(lambda x: x[1], correct_bets)))\n",
    "missed_bets_odds = np.array(list(map(lambda x: x[1], missed_bets)))\n",
    "correct_bets_home = np.array(list(map(lambda x: x[0], correct_bets)))\n",
    "missed_bets_home = np.array(list(map(lambda x: x[0], missed_bets)))\n",
    "\n",
    "money_by_team = dict(sorted(result_for_analysis['profit_by_team'].items(), key=lambda x: x[1]))\n",
    "money_by_team_labels = np.array(list(money_by_team.keys()), dtype=str)\n",
    "money_by_team_values = np.array(list(money_by_team.values()), dtype=np.float32)"
   ]
  },
  {
   "cell_type": "code",
   "execution_count": 1222,
   "metadata": {},
   "outputs": [
    {
     "data": {
      "image/png": "[encoded data removed]",
      "text/plain": [
       "<Figure size 432x288 with 1 Axes>"
      ]
     },
     "metadata": {
      "needs_background": "light"
     },
     "output_type": "display_data"
    },
    {
     "data": {
      "image/png": "[encoded data removed]",
      "text/plain": [
       "<Figure size 432x288 with 1 Axes>"
      ]
     },
     "metadata": {
      "needs_background": "light"
     },
     "output_type": "display_data"
    },
    {
     "name": "stdout",
     "output_type": "stream",
     "text": [
      "Error when trying to plot the pie chart: 'label' must be of length 'x'\n"
     ]
    },
    {
     "data": {
      "image/png": "[encoded data removed]",
      "text/plain": [
       "<Figure size 432x288 with 1 Axes>"
      ]
     },
     "metadata": {},
     "output_type": "display_data"
    },
    {
     "data": {
      "image/png": "[encoded data removed]",
      "text/plain": [
       "<Figure size 432x288 with 1 Axes>"
      ]
     },
     "metadata": {
      "needs_background": "light"
     },
     "output_type": "display_data"
    }
   ],
   "source": [
    "plot_hist('Missed Bets by Odds', 'Odds', 'X Times', missed_bets_odds)\n",
    "\n",
    "plot_hist('Correct Bets by Odds', 'Odds', 'X Times', correct_bets_odds)\n",
    "\n",
    "plot_pie_chart('Correct Bets by Home-Away', ['Home', 'Away', 'Draw'], correct_bets_home)\n",
    "\n",
    "plot_pie_chart('Missed Bets by Home-Away', ['Home', 'Away', 'Draw'], missed_bets_home)\n",
    "\n",
    "plot_bar('Profit by Team', 'Teams', 'Profit', money_by_team_labels, money_by_team_values)"
   ]
  },
  {
   "cell_type": "code",
   "execution_count": 1223,
   "metadata": {},
   "outputs": [
    {
     "data": {
      "image/png": "[encoded data removed]",
      "text/plain": [
       "<Figure size 432x288 with 1 Axes>"
      ]
     },
     "metadata": {
      "needs_background": "light"
     },
     "output_type": "display_data"
    }
   ],
   "source": [
    "xpoints = money_by_date[:, 0].astype(np.datetime64)\n",
    "\n",
    "plt.gca().xaxis.set_major_formatter(mdates.DateFormatter('%Y-%m-%d'))\n",
    "plt.gca().xaxis.set_major_locator(mdates.DayLocator(interval=15))\n",
    "for model in models_tracking:\n",
    "    plt.plot(xpoints, model)\n",
    "\n",
    "title = \"Profit by Date\"\n",
    "plt.ylabel(\"Profit($)\")\n",
    "plt.xlabel(\"Date\")\n",
    "plt.title(title)\n",
    "plt.gcf().autofmt_xdate()\n",
    "plt.savefig('charts/{}.png'.format(title.replace(' ','_').lower()), dpi=300)\n",
    "plt.show()"
   ]
  },
  {
   "cell_type": "code",
   "execution_count": 1224,
   "metadata": {},
   "outputs": [
    {
     "name": "stdout",
     "output_type": "stream",
     "text": [
      "Season 2022/2022\n"
     ]
    }
   ],
   "source": [
    "from joblib import dump, load\n",
    "\n",
    "save_current_season_model = False\n",
    "current_season = 2022\n",
    "\n",
    "if save_current_season_model:\n",
    "    result = simulate(current_season)\n",
    "    dump(result['model'], f'leagues/{league_id}/model.joblib')"
   ]
  },
  {
   "cell_type": "code",
   "execution_count": null,
   "metadata": {},
   "outputs": [],
   "source": []
  }
 ],
 "metadata": {
  "kernelspec": {
   "display_name": "Python 3 (ipykernel)",
   "language": "python",
   "name": "python3"
  },
  "language_info": {
   "codemirror_mode": {
    "name": "ipython",
    "version": 3
   },
   "file_extension": ".py",
   "mimetype": "text/x-python",
   "name": "python",
   "nbconvert_exporter": "python",
   "pygments_lexer": "ipython3",
   "version": "3.9.12"
  }
 },
 "nbformat": 4,
 "nbformat_minor": 2
}
